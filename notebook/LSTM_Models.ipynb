{
  "nbformat": 4,
  "nbformat_minor": 0,
  "metadata": {
    "colab": {
      "name": "LSTM Models.ipynb",
      "version": "0.3.2",
      "provenance": [],
      "collapsed_sections": [],
      "toc_visible": true,
      "include_colab_link": true
    },
    "kernelspec": {
      "display_name": "Python 3",
      "language": "python",
      "name": "python3"
    }
  },
  "cells": [
    {
      "cell_type": "markdown",
      "metadata": {
        "id": "view-in-github",
        "colab_type": "text"
      },
      "source": [
        "<a href=\"https://colab.research.google.com/github/mengwangk/trading-playground/blob/master/notebook/LSTM_Models.ipynb\" target=\"_parent\"><img src=\"https://colab.research.google.com/assets/colab-badge.svg\" alt=\"Open In Colab\"/></a>"
      ]
    },
    {
      "metadata": {
        "id": "c53RQrzf8AAd",
        "colab_type": "text"
      },
      "cell_type": "markdown",
      "source": [
        "https://machinelearningmastery.com/how-to-develop-lstm-models-for-time-series-forecasting/"
      ]
    },
    {
      "metadata": {
        "id": "D-QctOqDG2iE",
        "colab_type": "text"
      },
      "cell_type": "markdown",
      "source": [
        "# Univariate LSTM Models\n",
        "\n",
        "\n",
        "\n",
        "1. Data Preparation\n",
        "2. Vanilla LSTM\n",
        "3. Stacked LSTM\n",
        "4. Bidirectional LSTM\n",
        "5. CNN LSTM\n",
        "6. ConvLSTM\n",
        "\n",
        "\n"
      ]
    },
    {
      "metadata": {
        "id": "Bp1AValx6Pfr",
        "colab_type": "text"
      },
      "cell_type": "markdown",
      "source": [
        "## Data Preparation\n",
        "\n",
        "\n",
        "```\n",
        "[10, 20, 30, 40, 50, 60, 70, 80, 90]\n",
        "\n",
        "X,\t\t\t\ty\n",
        "10, 20, 30\t\t40\n",
        "20, 30, 40\t\t50\n",
        "30, 40, 50\t\t60\n",
        "...\n",
        "```\n",
        "\n",
        "\n"
      ]
    },
    {
      "metadata": {
        "id": "NunUv4BE6dpj",
        "colab_type": "code",
        "outputId": "ce9267d5-2501-49cd-93dc-ab1e7bc03766",
        "colab": {
          "base_uri": "https://localhost:8080/",
          "height": 170
        }
      },
      "cell_type": "code",
      "source": [
        "# univariate data preparation\n",
        "from numpy import array\n",
        "\n",
        "# split a univariate sequence into samples\n",
        "def split_sequence(sequence, n_steps):\n",
        "\tX, y = list(), list()\n",
        "\tfor i in range(len(sequence)):\n",
        "\t\t# find the end of this pattern\n",
        "\t\tend_ix = i + n_steps\n",
        "\t\t# check if we are beyond the sequence\n",
        "\t\tif end_ix > len(sequence)-1:\n",
        "\t\t\tbreak\n",
        "\t\t# gather input and output parts of the pattern\n",
        "\t\tseq_x, seq_y = sequence[i:end_ix], sequence[end_ix]\n",
        "\t\tX.append(seq_x)\n",
        "\t\ty.append(seq_y)\n",
        "\treturn array(X), array(y)\n",
        "\n",
        "# define input sequence\n",
        "raw_seq = [10, 20, 30, 40, 50, 60, 70, 80, 90]\n",
        "# choose a number of time steps\n",
        "n_steps = 3\n",
        "# split into samples\n",
        "X, y = split_sequence(raw_seq, n_steps)\n",
        "# summarize the data\n",
        "print(type(X))\n",
        "print(type(y))\n",
        "for i in range(len(X)):\n",
        "\tprint(X[i], y[i])"
      ],
      "execution_count": 0,
      "outputs": [
        {
          "output_type": "stream",
          "text": [
            "<class 'numpy.ndarray'>\n",
            "<class 'numpy.ndarray'>\n",
            "<memory at 0x7efe15a203a8>\n",
            "[10 20 30] 40\n",
            "[20 30 40] 50\n",
            "[30 40 50] 60\n",
            "[40 50 60] 70\n",
            "[50 60 70] 80\n",
            "[60 70 80] 90\n"
          ],
          "name": "stdout"
        }
      ]
    },
    {
      "metadata": {
        "id": "cK7HPCPf66eo",
        "colab_type": "text"
      },
      "cell_type": "markdown",
      "source": [
        "## Vanilla LSTM"
      ]
    },
    {
      "metadata": {
        "id": "pmo9jbTz7qRK",
        "colab_type": "code",
        "colab": {}
      },
      "cell_type": "code",
      "source": [
        ""
      ],
      "execution_count": 0,
      "outputs": []
    }
  ]
}