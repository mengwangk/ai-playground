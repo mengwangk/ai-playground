{
 "cells": [
  {
   "cell_type": "markdown",
   "metadata": {},
   "source": [
    "# KLSE - Preprocess, Cluster/Categorize the Stocks"
   ]
  },
  {
   "cell_type": "code",
   "execution_count": 179,
   "metadata": {},
   "outputs": [],
   "source": [
    "# To support both python 2 and python 3\n",
    "from __future__ import division, print_function, unicode_literals\n",
    "\n",
    "# Common imports\n",
    "import numpy as np\n",
    "import pandas as pd\n",
    "import datetime as dt\n",
    "import calendar as cal\n",
    "import os\n",
    "\n",
    "# to make this notebook's output stable across runs\n",
    "np.random.seed(42)\n",
    "\n",
    "# To plot pretty figures\n",
    "%matplotlib inline\n",
    "import matplotlib\n",
    "import matplotlib.pyplot as plt\n",
    "plt.rcParams['axes.labelsize'] = 14\n",
    "plt.rcParams['xtick.labelsize'] = 12\n",
    "plt.rcParams['ytick.labelsize'] = 12\n",
    "\n",
    "# Where to save the figures\n",
    "PROJECT_ROOT_DIR = \".\"\n",
    "CHAPTER_ID = \"end_to_end_project\"\n",
    "IMAGES_PATH = os.path.join(PROJECT_ROOT_DIR, \"images\", CHAPTER_ID)\n",
    "\n",
    "def save_fig(fig_id, tight_layout=True, fig_extension=\"png\", resolution=300):\n",
    "    path = os.path.join(IMAGES_PATH, fig_id + \".\" + fig_extension)\n",
    "    print(\"Saving figure\", fig_id)\n",
    "    if tight_layout:\n",
    "        plt.tight_layout()\n",
    "    plt.savefig(path, format=fig_extension, dpi=resolution)\n",
    "\n",
    "# Ignore useless warnings (see SciPy issue #5998)\n",
    "import warnings\n",
    "warnings.filterwarnings(action=\"ignore\", module=\"scipy\", message=\"^internal gelsd\")"
   ]
  },
  {
   "cell_type": "markdown",
   "metadata": {},
   "source": [
    "# Load the stock master file"
   ]
  },
  {
   "cell_type": "code",
   "execution_count": 180,
   "metadata": {},
   "outputs": [
    {
     "data": {
      "text/html": [
       "<div>\n",
       "<style>\n",
       "    .dataframe thead tr:only-child th {\n",
       "        text-align: right;\n",
       "    }\n",
       "\n",
       "    .dataframe thead th {\n",
       "        text-align: left;\n",
       "    }\n",
       "\n",
       "    .dataframe tbody tr th {\n",
       "        vertical-align: top;\n",
       "    }\n",
       "</style>\n",
       "<table border=\"1\" class=\"dataframe\">\n",
       "  <thead>\n",
       "    <tr style=\"text-align: right;\">\n",
       "      <th></th>\n",
       "      <th>link</th>\n",
       "      <th>last</th>\n",
       "      <th>high</th>\n",
       "      <th>low</th>\n",
       "      <th>change</th>\n",
       "      <th>change_percent</th>\n",
       "      <th>volume</th>\n",
       "    </tr>\n",
       "    <tr>\n",
       "      <th>name</th>\n",
       "      <th></th>\n",
       "      <th></th>\n",
       "      <th></th>\n",
       "      <th></th>\n",
       "      <th></th>\n",
       "      <th></th>\n",
       "      <th></th>\n",
       "    </tr>\n",
       "  </thead>\n",
       "  <tbody>\n",
       "    <tr>\n",
       "      <th>Priceworth International</th>\n",
       "      <td>https://www.investing.com/equities/priceworth-...</td>\n",
       "      <td>0.045</td>\n",
       "      <td>0.055</td>\n",
       "      <td>0.045</td>\n",
       "      <td>-0.005</td>\n",
       "      <td>-10.00%</td>\n",
       "      <td>223.12M</td>\n",
       "    </tr>\n",
       "    <tr>\n",
       "      <th>Sapura Energy</th>\n",
       "      <td>https://www.investing.com/equities/sapurakenca...</td>\n",
       "      <td>0.335</td>\n",
       "      <td>0.345</td>\n",
       "      <td>0.335</td>\n",
       "      <td>0.000</td>\n",
       "      <td>0.00%</td>\n",
       "      <td>53.62M</td>\n",
       "    </tr>\n",
       "    <tr>\n",
       "      <th>Borneo Oil</th>\n",
       "      <td>https://www.investing.com/equities/borneo-oil-bhd</td>\n",
       "      <td>0.055</td>\n",
       "      <td>0.060</td>\n",
       "      <td>0.055</td>\n",
       "      <td>0.000</td>\n",
       "      <td>0.00%</td>\n",
       "      <td>50.93M</td>\n",
       "    </tr>\n",
       "    <tr>\n",
       "      <th>MY EG Services</th>\n",
       "      <td>https://www.investing.com/equities/my-eg-servi...</td>\n",
       "      <td>1.630</td>\n",
       "      <td>1.700</td>\n",
       "      <td>1.620</td>\n",
       "      <td>-0.020</td>\n",
       "      <td>-1.21%</td>\n",
       "      <td>35.62M</td>\n",
       "    </tr>\n",
       "    <tr>\n",
       "      <th>Tiger Synergy Bhd</th>\n",
       "      <td>https://www.investing.com/equities/tiger-syner...</td>\n",
       "      <td>0.070</td>\n",
       "      <td>0.075</td>\n",
       "      <td>0.065</td>\n",
       "      <td>-0.005</td>\n",
       "      <td>-6.67%</td>\n",
       "      <td>29.80M</td>\n",
       "    </tr>\n",
       "    <tr>\n",
       "      <th>Nova MSC</th>\n",
       "      <td>https://www.investing.com/equities/nova-msc-bhd</td>\n",
       "      <td>0.160</td>\n",
       "      <td>0.160</td>\n",
       "      <td>0.145</td>\n",
       "      <td>0.005</td>\n",
       "      <td>+3.23%</td>\n",
       "      <td>22.05M</td>\n",
       "    </tr>\n",
       "    <tr>\n",
       "      <th>Frontken Corp</th>\n",
       "      <td>https://www.investing.com/equities/frontken-co...</td>\n",
       "      <td>0.920</td>\n",
       "      <td>0.960</td>\n",
       "      <td>0.915</td>\n",
       "      <td>0.000</td>\n",
       "      <td>0.00%</td>\n",
       "      <td>20.90M</td>\n",
       "    </tr>\n",
       "    <tr>\n",
       "      <th>Globaltec Formation</th>\n",
       "      <td>https://www.investing.com/equities/globaltec-f...</td>\n",
       "      <td>0.040</td>\n",
       "      <td>0.045</td>\n",
       "      <td>0.035</td>\n",
       "      <td>-0.005</td>\n",
       "      <td>-11.11%</td>\n",
       "      <td>19.77M</td>\n",
       "    </tr>\n",
       "    <tr>\n",
       "      <th>AirAsia X</th>\n",
       "      <td>https://www.investing.com/equities/airasia-x-bhd</td>\n",
       "      <td>0.290</td>\n",
       "      <td>0.305</td>\n",
       "      <td>0.290</td>\n",
       "      <td>-0.010</td>\n",
       "      <td>-3.33%</td>\n",
       "      <td>19.08M</td>\n",
       "    </tr>\n",
       "    <tr>\n",
       "      <th>Nexgram</th>\n",
       "      <td>https://www.investing.com/equities/nexgram-hol...</td>\n",
       "      <td>0.025</td>\n",
       "      <td>0.025</td>\n",
       "      <td>0.020</td>\n",
       "      <td>0.000</td>\n",
       "      <td>0.00%</td>\n",
       "      <td>15.68M</td>\n",
       "    </tr>\n",
       "  </tbody>\n",
       "</table>\n",
       "</div>"
      ],
      "text/plain": [
       "                                                                       link  \\\n",
       "name                                                                          \n",
       "Priceworth International  https://www.investing.com/equities/priceworth-...   \n",
       "Sapura Energy             https://www.investing.com/equities/sapurakenca...   \n",
       "Borneo Oil                https://www.investing.com/equities/borneo-oil-bhd   \n",
       "MY EG Services            https://www.investing.com/equities/my-eg-servi...   \n",
       "Tiger Synergy Bhd         https://www.investing.com/equities/tiger-syner...   \n",
       "Nova MSC                    https://www.investing.com/equities/nova-msc-bhd   \n",
       "Frontken Corp             https://www.investing.com/equities/frontken-co...   \n",
       "Globaltec Formation       https://www.investing.com/equities/globaltec-f...   \n",
       "AirAsia X                  https://www.investing.com/equities/airasia-x-bhd   \n",
       "Nexgram                   https://www.investing.com/equities/nexgram-hol...   \n",
       "\n",
       "                           last   high    low  change change_percent   volume  \n",
       "name                                                                           \n",
       "Priceworth International  0.045  0.055  0.045  -0.005        -10.00%  223.12M  \n",
       "Sapura Energy             0.335  0.345  0.335   0.000          0.00%   53.62M  \n",
       "Borneo Oil                0.055  0.060  0.055   0.000          0.00%   50.93M  \n",
       "MY EG Services            1.630  1.700  1.620  -0.020         -1.21%   35.62M  \n",
       "Tiger Synergy Bhd         0.070  0.075  0.065  -0.005         -6.67%   29.80M  \n",
       "Nova MSC                  0.160  0.160  0.145   0.005         +3.23%   22.05M  \n",
       "Frontken Corp             0.920  0.960  0.915   0.000          0.00%   20.90M  \n",
       "Globaltec Formation       0.040  0.045  0.035  -0.005        -11.11%   19.77M  \n",
       "AirAsia X                 0.290  0.305  0.290  -0.010         -3.33%   19.08M  \n",
       "Nexgram                   0.025  0.025  0.020   0.000          0.00%   15.68M  "
      ]
     },
     "execution_count": 180,
     "metadata": {},
     "output_type": "execute_result"
    }
   ],
   "source": [
    "df_stocks = pd.read_csv('../dataset/KLSE_investing.csv', index_col=['name'])\n",
    "df_stocks.head(10)"
   ]
  },
  {
   "cell_type": "markdown",
   "metadata": {},
   "source": [
    "# Load dividends file"
   ]
  },
  {
   "cell_type": "code",
   "execution_count": 191,
   "metadata": {},
   "outputs": [
    {
     "name": "stdout",
     "output_type": "stream",
     "text": [
      "<class 'pandas.core.frame.DataFrame'>\n",
      "RangeIndex: 2315 entries, 0 to 2314\n",
      "Data columns (total 6 columns):\n",
      "code                2315 non-null object\n",
      "name                2315 non-null object\n",
      "ex_dividend_date    2315 non-null object\n",
      "dividend            2315 non-null object\n",
      "payment_date        2315 non-null object\n",
      "yield               2315 non-null object\n",
      "dtypes: object(6)\n",
      "memory usage: 108.6+ KB\n"
     ]
    }
   ],
   "source": [
    "df_dividends = pd.read_csv('../dataset/KLSE_dividends_investing.csv', dtype=str)\n",
    "df_dividends.info()"
   ]
  },
  {
   "cell_type": "code",
   "execution_count": 192,
   "metadata": {},
   "outputs": [
    {
     "data": {
      "text/html": [
       "<div>\n",
       "<style>\n",
       "    .dataframe thead tr:only-child th {\n",
       "        text-align: right;\n",
       "    }\n",
       "\n",
       "    .dataframe thead th {\n",
       "        text-align: left;\n",
       "    }\n",
       "\n",
       "    .dataframe tbody tr th {\n",
       "        vertical-align: top;\n",
       "    }\n",
       "</style>\n",
       "<table border=\"1\" class=\"dataframe\">\n",
       "  <thead>\n",
       "    <tr style=\"text-align: right;\">\n",
       "      <th></th>\n",
       "      <th>code</th>\n",
       "      <th>name</th>\n",
       "      <th>ex_dividend_date</th>\n",
       "      <th>dividend</th>\n",
       "      <th>payment_date</th>\n",
       "      <th>yield</th>\n",
       "    </tr>\n",
       "  </thead>\n",
       "  <tbody>\n",
       "    <tr>\n",
       "      <th>count</th>\n",
       "      <td>2315</td>\n",
       "      <td>2315</td>\n",
       "      <td>2315</td>\n",
       "      <td>2315</td>\n",
       "      <td>2315</td>\n",
       "      <td>2315</td>\n",
       "    </tr>\n",
       "    <tr>\n",
       "      <th>unique</th>\n",
       "      <td>585</td>\n",
       "      <td>585</td>\n",
       "      <td>761</td>\n",
       "      <td>429</td>\n",
       "      <td>747</td>\n",
       "      <td>710</td>\n",
       "    </tr>\n",
       "    <tr>\n",
       "      <th>top</th>\n",
       "      <td>7237</td>\n",
       "      <td>Genting Plantations Bhd (GENP)</td>\n",
       "      <td>Jun 28, 2017</td>\n",
       "      <td>0.02</td>\n",
       "      <td>Jun 30, 2017</td>\n",
       "      <td>-</td>\n",
       "    </tr>\n",
       "    <tr>\n",
       "      <th>freq</th>\n",
       "      <td>6</td>\n",
       "      <td>6</td>\n",
       "      <td>30</td>\n",
       "      <td>136</td>\n",
       "      <td>21</td>\n",
       "      <td>61</td>\n",
       "    </tr>\n",
       "  </tbody>\n",
       "</table>\n",
       "</div>"
      ],
      "text/plain": [
       "        code                            name ex_dividend_date dividend  \\\n",
       "count   2315                            2315             2315     2315   \n",
       "unique   585                             585              761      429   \n",
       "top     7237  Genting Plantations Bhd (GENP)     Jun 28, 2017     0.02   \n",
       "freq       6                               6               30      136   \n",
       "\n",
       "        payment_date yield  \n",
       "count           2315  2315  \n",
       "unique           747   710  \n",
       "top     Jun 30, 2017     -  \n",
       "freq              21    61  "
      ]
     },
     "execution_count": 192,
     "metadata": {},
     "output_type": "execute_result"
    }
   ],
   "source": [
    "df_dividends.describe()"
   ]
  },
  {
   "cell_type": "code",
   "execution_count": 193,
   "metadata": {},
   "outputs": [
    {
     "data": {
      "text/plain": [
       "Index(['code', 'name', 'ex_dividend_date', 'dividend', 'payment_date',\n",
       "       'yield'],\n",
       "      dtype='object')"
      ]
     },
     "execution_count": 193,
     "metadata": {},
     "output_type": "execute_result"
    }
   ],
   "source": [
    "df_dividends.columns"
   ]
  },
  {
   "cell_type": "markdown",
   "metadata": {},
   "source": [
    "# Display some data"
   ]
  },
  {
   "cell_type": "code",
   "execution_count": 194,
   "metadata": {},
   "outputs": [
    {
     "data": {
      "text/html": [
       "<div>\n",
       "<style>\n",
       "    .dataframe thead tr:only-child th {\n",
       "        text-align: right;\n",
       "    }\n",
       "\n",
       "    .dataframe thead th {\n",
       "        text-align: left;\n",
       "    }\n",
       "\n",
       "    .dataframe tbody tr th {\n",
       "        vertical-align: top;\n",
       "    }\n",
       "</style>\n",
       "<table border=\"1\" class=\"dataframe\">\n",
       "  <thead>\n",
       "    <tr style=\"text-align: right;\">\n",
       "      <th></th>\n",
       "      <th>code</th>\n",
       "      <th>name</th>\n",
       "      <th>ex_dividend_date</th>\n",
       "      <th>dividend</th>\n",
       "      <th>payment_date</th>\n",
       "      <th>yield</th>\n",
       "    </tr>\n",
       "  </thead>\n",
       "  <tbody>\n",
       "    <tr>\n",
       "      <th>0</th>\n",
       "      <td>5218</td>\n",
       "      <td>Sapura Energy Bhd (SAEN)</td>\n",
       "      <td>Apr 12, 2017</td>\n",
       "      <td>0.01</td>\n",
       "      <td>Apr 28, 2017</td>\n",
       "      <td>2.94%</td>\n",
       "    </tr>\n",
       "    <tr>\n",
       "      <th>1</th>\n",
       "      <td>5218</td>\n",
       "      <td>Sapura Energy Bhd (SAEN)</td>\n",
       "      <td>Jul 29, 2015</td>\n",
       "      <td>0.0135</td>\n",
       "      <td>Aug 28, 2015</td>\n",
       "      <td>0.72%</td>\n",
       "    </tr>\n",
       "    <tr>\n",
       "      <th>2</th>\n",
       "      <td>138</td>\n",
       "      <td>MY EG Services Bhd (MYEG)</td>\n",
       "      <td>Apr 24, 2018</td>\n",
       "      <td>0.017</td>\n",
       "      <td>May 25, 2018</td>\n",
       "      <td>1.30%</td>\n",
       "    </tr>\n",
       "    <tr>\n",
       "      <th>3</th>\n",
       "      <td>138</td>\n",
       "      <td>MY EG Services Bhd (MYEG)</td>\n",
       "      <td>Jan 04, 2018</td>\n",
       "      <td>0.017</td>\n",
       "      <td>Feb 06, 2018</td>\n",
       "      <td>0.63%</td>\n",
       "    </tr>\n",
       "    <tr>\n",
       "      <th>4</th>\n",
       "      <td>138</td>\n",
       "      <td>MY EG Services Bhd (MYEG)</td>\n",
       "      <td>Apr 21, 2017</td>\n",
       "      <td>0.0137</td>\n",
       "      <td>May 24, 2017</td>\n",
       "      <td>0.64%</td>\n",
       "    </tr>\n",
       "    <tr>\n",
       "      <th>5</th>\n",
       "      <td>138</td>\n",
       "      <td>MY EG Services Bhd (MYEG)</td>\n",
       "      <td>Dec 23, 2016</td>\n",
       "      <td>0.012</td>\n",
       "      <td>Jan 25, 2017</td>\n",
       "      <td>0.74%</td>\n",
       "    </tr>\n",
       "    <tr>\n",
       "      <th>6</th>\n",
       "      <td>138</td>\n",
       "      <td>MY EG Services Bhd (MYEG)</td>\n",
       "      <td>Apr 22, 2016</td>\n",
       "      <td>0.012</td>\n",
       "      <td>May 24, 2016</td>\n",
       "      <td>0.56%</td>\n",
       "    </tr>\n",
       "    <tr>\n",
       "      <th>7</th>\n",
       "      <td>138</td>\n",
       "      <td>MY EG Services Bhd (MYEG)</td>\n",
       "      <td>Jan 04, 2016</td>\n",
       "      <td>0.0095</td>\n",
       "      <td>Feb 04, 2016</td>\n",
       "      <td>0.44%</td>\n",
       "    </tr>\n",
       "    <tr>\n",
       "      <th>8</th>\n",
       "      <td>128</td>\n",
       "      <td>Frontken Corporation Bhd (FRKN)</td>\n",
       "      <td>Sep 15, 2017</td>\n",
       "      <td>0.005</td>\n",
       "      <td>Oct 04, 2017</td>\n",
       "      <td>0.60%</td>\n",
       "    </tr>\n",
       "    <tr>\n",
       "      <th>9</th>\n",
       "      <td>9385</td>\n",
       "      <td>Lay Hong Bhd (LAYH)</td>\n",
       "      <td>Oct 18, 2018</td>\n",
       "      <td>0.005</td>\n",
       "      <td>Nov 15, 2018</td>\n",
       "      <td>0.79%</td>\n",
       "    </tr>\n",
       "  </tbody>\n",
       "</table>\n",
       "</div>"
      ],
      "text/plain": [
       "   code                             name ex_dividend_date dividend  \\\n",
       "0  5218         Sapura Energy Bhd (SAEN)     Apr 12, 2017     0.01   \n",
       "1  5218         Sapura Energy Bhd (SAEN)     Jul 29, 2015   0.0135   \n",
       "2   138        MY EG Services Bhd (MYEG)     Apr 24, 2018    0.017   \n",
       "3   138        MY EG Services Bhd (MYEG)     Jan 04, 2018    0.017   \n",
       "4   138        MY EG Services Bhd (MYEG)     Apr 21, 2017   0.0137   \n",
       "5   138        MY EG Services Bhd (MYEG)     Dec 23, 2016    0.012   \n",
       "6   138        MY EG Services Bhd (MYEG)     Apr 22, 2016    0.012   \n",
       "7   138        MY EG Services Bhd (MYEG)     Jan 04, 2016   0.0095   \n",
       "8   128  Frontken Corporation Bhd (FRKN)     Sep 15, 2017    0.005   \n",
       "9  9385              Lay Hong Bhd (LAYH)     Oct 18, 2018    0.005   \n",
       "\n",
       "   payment_date  yield  \n",
       "0  Apr 28, 2017  2.94%  \n",
       "1  Aug 28, 2015  0.72%  \n",
       "2  May 25, 2018  1.30%  \n",
       "3  Feb 06, 2018  0.63%  \n",
       "4  May 24, 2017  0.64%  \n",
       "5  Jan 25, 2017  0.74%  \n",
       "6  May 24, 2016  0.56%  \n",
       "7  Feb 04, 2016  0.44%  \n",
       "8  Oct 04, 2017  0.60%  \n",
       "9  Nov 15, 2018  0.79%  "
      ]
     },
     "execution_count": 194,
     "metadata": {},
     "output_type": "execute_result"
    }
   ],
   "source": [
    "df_dividends.head(10)"
   ]
  },
  {
   "cell_type": "markdown",
   "metadata": {},
   "source": [
    "## Preprocess the data for training"
   ]
  },
  {
   "cell_type": "code",
   "execution_count": 198,
   "metadata": {},
   "outputs": [
    {
     "data": {
      "text/html": [
       "<div>\n",
       "<style>\n",
       "    .dataframe thead tr:only-child th {\n",
       "        text-align: right;\n",
       "    }\n",
       "\n",
       "    .dataframe thead th {\n",
       "        text-align: left;\n",
       "    }\n",
       "\n",
       "    .dataframe tbody tr th {\n",
       "        vertical-align: top;\n",
       "    }\n",
       "</style>\n",
       "<table border=\"1\" class=\"dataframe\">\n",
       "  <thead>\n",
       "    <tr style=\"text-align: right;\">\n",
       "      <th></th>\n",
       "      <th>code</th>\n",
       "      <th>name</th>\n",
       "      <th>ex_dividend_date</th>\n",
       "      <th>dividend</th>\n",
       "      <th>payment_date</th>\n",
       "      <th>yield</th>\n",
       "      <th>dividend_year</th>\n",
       "    </tr>\n",
       "  </thead>\n",
       "  <tbody>\n",
       "    <tr>\n",
       "      <th>0</th>\n",
       "      <td>5218</td>\n",
       "      <td>Sapura Energy Bhd (SAEN)</td>\n",
       "      <td>Apr 12, 2017</td>\n",
       "      <td>0.01</td>\n",
       "      <td>Apr 28, 2017</td>\n",
       "      <td>2.94</td>\n",
       "      <td>2017</td>\n",
       "    </tr>\n",
       "    <tr>\n",
       "      <th>1</th>\n",
       "      <td>5218</td>\n",
       "      <td>Sapura Energy Bhd (SAEN)</td>\n",
       "      <td>Jul 29, 2015</td>\n",
       "      <td>0.0135</td>\n",
       "      <td>Aug 28, 2015</td>\n",
       "      <td>0.72</td>\n",
       "      <td>2015</td>\n",
       "    </tr>\n",
       "    <tr>\n",
       "      <th>2</th>\n",
       "      <td>138</td>\n",
       "      <td>MY EG Services Bhd (MYEG)</td>\n",
       "      <td>Apr 24, 2018</td>\n",
       "      <td>0.017</td>\n",
       "      <td>May 25, 2018</td>\n",
       "      <td>1.30</td>\n",
       "      <td>2018</td>\n",
       "    </tr>\n",
       "    <tr>\n",
       "      <th>3</th>\n",
       "      <td>138</td>\n",
       "      <td>MY EG Services Bhd (MYEG)</td>\n",
       "      <td>Jan 04, 2018</td>\n",
       "      <td>0.017</td>\n",
       "      <td>Feb 06, 2018</td>\n",
       "      <td>0.63</td>\n",
       "      <td>2018</td>\n",
       "    </tr>\n",
       "    <tr>\n",
       "      <th>4</th>\n",
       "      <td>138</td>\n",
       "      <td>MY EG Services Bhd (MYEG)</td>\n",
       "      <td>Apr 21, 2017</td>\n",
       "      <td>0.0137</td>\n",
       "      <td>May 24, 2017</td>\n",
       "      <td>0.64</td>\n",
       "      <td>2017</td>\n",
       "    </tr>\n",
       "  </tbody>\n",
       "</table>\n",
       "</div>"
      ],
      "text/plain": [
       "   code                       name ex_dividend_date dividend  payment_date  \\\n",
       "0  5218   Sapura Energy Bhd (SAEN)     Apr 12, 2017     0.01  Apr 28, 2017   \n",
       "1  5218   Sapura Energy Bhd (SAEN)     Jul 29, 2015   0.0135  Aug 28, 2015   \n",
       "2   138  MY EG Services Bhd (MYEG)     Apr 24, 2018    0.017  May 25, 2018   \n",
       "3   138  MY EG Services Bhd (MYEG)     Jan 04, 2018    0.017  Feb 06, 2018   \n",
       "4   138  MY EG Services Bhd (MYEG)     Apr 21, 2017   0.0137  May 24, 2017   \n",
       "\n",
       "   yield  dividend_year  \n",
       "0   2.94           2017  \n",
       "1   0.72           2015  \n",
       "2   1.30           2018  \n",
       "3   0.63           2018  \n",
       "4   0.64           2017  "
      ]
     },
     "execution_count": 198,
     "metadata": {},
     "output_type": "execute_result"
    }
   ],
   "source": [
    "df_dividends_train = df_dividends.copy()\n",
    "df_dividends_train['dividend_year'] = pd.to_datetime(df_dividends_train['ex_dividend_date'], format='%b %d, %Y').dt.year\n",
    "#df_dividends_train = df_dividends.drop(['ex_dividend_date', 'payment_date'], axis=1)\n",
    "# df_dividends_train['yield'] = df_dividends_train['yield'].map({'-': '0'})\n",
    "df_dividends_train['yield'] = df_dividends_train['yield'].replace('-','0')\n",
    "df_dividends_train['yield'] = df_dividends_train['yield'].str.rstrip('%').astype('float')\n",
    "df_dividends_train.head()"
   ]
  },
  {
   "cell_type": "markdown",
   "metadata": {},
   "source": [
    "### Apply one-hot encoding to code"
   ]
  },
  {
   "cell_type": "code",
   "execution_count": 199,
   "metadata": {},
   "outputs": [
    {
     "data": {
      "text/plain": [
       "array([293, 293,  65, ...,  48, 231, 231])"
      ]
     },
     "execution_count": 199,
     "metadata": {},
     "output_type": "execute_result"
    }
   ],
   "source": [
    "from sklearn.preprocessing import LabelEncoder, OneHotEncoder\n",
    "\n",
    "label_encoder = LabelEncoder()\n",
    "code = df_dividends_train['code']\n",
    "code_encoded = label_encoder.fit_transform(code)\n",
    "code_encoded"
   ]
  },
  {
   "cell_type": "code",
   "execution_count": 200,
   "metadata": {},
   "outputs": [
    {
     "name": "stdout",
     "output_type": "stream",
     "text": [
      "['0001' '0011' '0012' '0023' '0024' '0028' '0032' '0037' '0039' '0040'\n",
      " '0050' '0053' '0054' '0056' '0059' '0084' '0089' '0090' '0093' '0099'\n",
      " '0100' '0101' '0104' '0105' '0106' '0108' '0111' '0112' '0113' '0120'\n",
      " '0123' '0127' '0136' '0146' '0148' '0151' '0153' '0158' '0161' '0163'\n",
      " '0171' '0172' '0178' '0179' '0182' '0183' '0185' '0186' '0191' '0193'\n",
      " '0195' '1007' '1015' '1023' '1058' '1066' '1082' '1147' '1155' '1163'\n",
      " '1171' '1198' '128' '1295' '1368' '138' '1481' '149' '1503' '1538' '1562'\n",
      " '1619' '1651' '166' '168' '1724' '1783' '1818' '1899' '1929' '1961'\n",
      " '1996' '2' '2038' '2054' '2062' '2089' '21' '2127' '2135' '2186' '2194'\n",
      " '2216' '2224' '2291' '2305' '2445' '2453' '2488' '2542' '2569' '2593'\n",
      " '2607' '2658' '2674' '2755' '2771' '2828' '2836' '2852' '2879' '2925'\n",
      " '2984' '3026' '3034' '3042' '3069' '3107' '3158' '3174' '3182' '3204'\n",
      " '3239' '3247' '3255' '3298' '3301' '3336' '3379' '3379PA' '3395' '3417'\n",
      " '3476' '35' '3514' '3522' '3611' '3662' '3689' '3719' '3794' '3816'\n",
      " '3859' '3867' '3883' '3921' '4006' '4057' '4065' '4197' '4243' '4251'\n",
      " '4324' '4383' '4405' '4448' '4456' '4502' '4588' '4596' '4634' '4677'\n",
      " '4707' '4715' '4731' '4863' '4898' '49' '4944' '4952' '5000' '5001'\n",
      " '5005' '5007' '5008' '5009' '5010' '5011' '5012' '5014' '5015' '5016'\n",
      " '5020' '5021' '5022' '5024' '5026' '5027' '5028' '5029' '5031' '5032'\n",
      " '5035' '5038' '5041' '5042' '5047' '5048' '5049' '5053' '5054' '5056'\n",
      " '5062' '5065' '5066' '5069' '5070' '5071' '5072' '5073' '5075' '5077'\n",
      " '5078' '5080' '5081' '5084' '5085' '5088' '5090' '5094' '5095' '5098'\n",
      " '5099' '5100' '5101' '5102' '5104' '5105' '5107' '5109' '5110' '5111'\n",
      " '5112' '5120' '5121' '5123' '5125' '5126' '5127' '5129' '5130' '5131'\n",
      " '5132' '5133' '5134' '5135' '5136' '5138' '5139' '5140' '5141' '5142'\n",
      " '5143' '5147' '5148' '5152' '5155' '5158' '5159' '5160' '5161' '5162'\n",
      " '5163' '5166' '5167' '5168' '5170' '5171' '5176' '5180' '5181' '5182'\n",
      " '5183' '5184' '5185' '5186' '5190' '5191' '5192' '5196' '5197' '5200'\n",
      " '5202' '5204' '5205' '5207' '5208' '5209' '5210' '5211' '5212' '5213'\n",
      " '5216' '5218' '5219' '5222' '5223' '5225' '5226' '5227' '5228' '5230'\n",
      " '5232' '5235SS' '5236' '5239' '5242' '5243' '5245' '5246' '5247' '5248'\n",
      " '5249' '5250' '5252' '5253' '5254' '5258' '5259' '5260' '5263' '5264'\n",
      " '5267' '5268' '5269' '5271' '5272' '5273' '5275' '5276' '5277' '5278'\n",
      " '5279' '5280' '5284' '5288' '5347' '5355' '5371' '5398' '5401' '5436'\n",
      " '5517' '5533' '5568' '5576' '5584' '5592' '5606' '5614' '5665' '5673'\n",
      " '5681' '5703' '5789' '5797' '58' '5819' '5827' '5843' '5878' '5886'\n",
      " '5908' '5916' '5932' '5959' '5983' '6009' '6012' '6017' '6033' '6041'\n",
      " '6068' '6084' '6114' '6139' '6149' '6173' '6181' '6203' '6238' '6262'\n",
      " '6351' '6399' '6432' '6483' '6491' '65' '6521' '6556' '6572' '6599'\n",
      " '6645' '6718' '6742' '6769' '6807' '6815' '6874' '6888' '6904' '6939'\n",
      " '6947' '6963' '6971' '7003' '7004' '7006' '7014' '7016' '7022' '7029'\n",
      " '7033' '7034' '7035' '7043' '7047' '7048' '7052' '7053' '7054' '7055'\n",
      " '7060' '7062' '7073' '7076' '7078' '7081' '7082' '7083' '7084' '7085'\n",
      " '7087' '7088' '7089' '7090' '7091' '7095' '7099' '7100' '7103' '7106'\n",
      " '7107' '7111' '7113' '7117' '7119' '7120' '7128' '7129' '7132' '7133'\n",
      " '7134' '7137' '7140' '7148' '7149' '7152' '7153' '7154' '7155' '7157'\n",
      " '7161' '7162' '7167' '7168' '7169' '7172' '7173' '7174' '7178' '7186'\n",
      " '7189' '7190' '7199' '7200' '7201' '7202' '7203' '7204' '7205' '7207'\n",
      " '7209' '7210' '7213' '7214' '7215' '7216' '7217' '7222' '7227' '7229'\n",
      " '7230' '7231' '7232' '7233' '7235' '7237' '7245' '7246' '7247' '7248'\n",
      " '7249' '7250' '7252' '7277' '7285' '7293' '7323' '7374' '7382' '7412'\n",
      " '7501' '7528' '7579' '7609' '7617' '7668' '7676' '7722' '7757' '7773'\n",
      " '78' '7803' '7811' '7854' '8' '8052' '8079' '8125' '8133' '8141' '8192'\n",
      " '83' '8311' '8397' '8419' '8443' '8494' '8524' '8567' '8583' '8591'\n",
      " '8605' '8613' '8621' '8648' '8664' '8702' '8761' '8834' '8869' '8877'\n",
      " '8893' '8931' '8966' '8982' '9016' '9059' '9148' '9172' '9199' '9261'\n",
      " '9288' '9296' '9318' '9326' '9334' '9369' '9385' '9423' '9431' '9466'\n",
      " '9571' '9598' '9679' '97' '9741' '9792' '9822' '9865' '9873' '9946'\n",
      " '9962' '9997']\n"
     ]
    }
   ],
   "source": [
    "print(labelEncoder.classes_)"
   ]
  },
  {
   "cell_type": "code",
   "execution_count": 201,
   "metadata": {},
   "outputs": [
    {
     "data": {
      "text/plain": [
       "<2315x585 sparse matrix of type '<class 'numpy.float64'>'\n",
       "\twith 2315 stored elements in Compressed Sparse Row format>"
      ]
     },
     "execution_count": 201,
     "metadata": {},
     "output_type": "execute_result"
    }
   ],
   "source": [
    "one_hot_encoder = OneHotEncoder()\n",
    "code_1hot = one_hot_encoder.fit_transform(code_encoded.reshape(-1,1))\n",
    "code_1hot"
   ]
  },
  {
   "cell_type": "code",
   "execution_count": 202,
   "metadata": {},
   "outputs": [
    {
     "data": {
      "text/plain": [
       "array([[0., 0., 0., ..., 0., 0., 0.],\n",
       "       [0., 0., 0., ..., 0., 0., 0.],\n",
       "       [0., 0., 0., ..., 0., 0., 0.],\n",
       "       ...,\n",
       "       [0., 0., 0., ..., 0., 0., 0.],\n",
       "       [0., 0., 0., ..., 0., 0., 0.],\n",
       "       [0., 0., 0., ..., 0., 0., 0.]])"
      ]
     },
     "execution_count": 202,
     "metadata": {},
     "output_type": "execute_result"
    }
   ],
   "source": [
    "code_1hot.toarray()"
   ]
  },
  {
   "cell_type": "markdown",
   "metadata": {},
   "source": [
    "### Use LabelBinarizer"
   ]
  },
  {
   "cell_type": "code",
   "execution_count": 203,
   "metadata": {},
   "outputs": [
    {
     "data": {
      "text/plain": [
       "array([[0, 0, 0, ..., 0, 0, 0],\n",
       "       [0, 0, 0, ..., 0, 0, 0],\n",
       "       [0, 0, 0, ..., 0, 0, 0],\n",
       "       ...,\n",
       "       [0, 0, 0, ..., 0, 0, 0],\n",
       "       [0, 0, 0, ..., 0, 0, 0],\n",
       "       [0, 0, 0, ..., 0, 0, 0]])"
      ]
     },
     "execution_count": 203,
     "metadata": {},
     "output_type": "execute_result"
    }
   ],
   "source": [
    "from sklearn.preprocessing import LabelBinarizer\n",
    "label_binarizer = LabelBinarizer()\n",
    "code_1hot = label_binarizer.fit_transform(code)\n",
    "code_1hot"
   ]
  },
  {
   "cell_type": "markdown",
   "metadata": {},
   "source": [
    "## Build the preprocessing pipelines"
   ]
  },
  {
   "cell_type": "code",
   "execution_count": null,
   "metadata": {},
   "outputs": [],
   "source": []
  }
 ],
 "metadata": {
  "kernelspec": {
   "display_name": "Python 3",
   "language": "python",
   "name": "python3"
  },
  "language_info": {
   "codemirror_mode": {
    "name": "ipython",
    "version": 3
   },
   "file_extension": ".py",
   "mimetype": "text/x-python",
   "name": "python",
   "nbconvert_exporter": "python",
   "pygments_lexer": "ipython3",
   "version": "3.6.2"
  }
 },
 "nbformat": 4,
 "nbformat_minor": 2
}
