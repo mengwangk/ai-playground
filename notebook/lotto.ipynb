{
  "nbformat": 4,
  "nbformat_minor": 0,
  "metadata": {
    "colab": {
      "name": "lotto.ipynb",
      "version": "0.3.2",
      "provenance": [],
      "toc_visible": true
    },
    "kernelspec": {
      "display_name": "Python 3",
      "language": "python",
      "name": "python3"
    }
  },
  "cells": [
    {
      "metadata": {
        "id": "b5243bUj8-K1",
        "colab_type": "text"
      },
      "cell_type": "markdown",
      "source": [
        "# Deep Learning Lotto implementation in Keras"
      ]
    },
    {
      "metadata": {
        "id": "Tn_b3KPB8-K3",
        "colab_type": "text"
      },
      "cell_type": "markdown",
      "source": [
        "<a href=\"http://www.crest.fr/ckfinder/userfiles/files/Pageperso/vcottet/paper%20-%20Deep%20Learning%20predicts%20Loto.pdf\">Paper</a>\n",
        "<br>\n",
        "<a href=\"\n",
        "https://stackoverflow.com/questions/44202627/keras-model-from-nn-schematic\">StackOverflow</a>"
      ]
    },
    {
      "metadata": {
        "id": "CQBDKNHCB7gO",
        "colab_type": "text"
      },
      "cell_type": "markdown",
      "source": [
        "## Setup"
      ]
    },
    {
      "metadata": {
        "id": "ToVkfCtq8-K4",
        "colab_type": "code",
        "colab": {
          "base_uri": "https://localhost:8080/",
          "height": 68
        },
        "outputId": "bed0ca51-4d09-4f79-9933-c5c2de3c51eb"
      },
      "cell_type": "code",
      "source": [
        "# To support both python 2 and python 3\n",
        "from __future__ import division, print_function, unicode_literals\n",
        "\n",
        "# Common imports\n",
        "import numpy as np\n",
        "import os\n",
        "import pandas as pd\n",
        "\n",
        "# to make this notebook's output stable across runs\n",
        "np.random.seed(42)\n",
        "\n",
        "# To plot pretty figures\n",
        "%matplotlib inline\n",
        "import matplotlib as mpl\n",
        "import matplotlib.pyplot as plt\n",
        "mpl.rc('axes', labelsize=14)\n",
        "mpl.rc('xtick', labelsize=12)\n",
        "mpl.rc('ytick', labelsize=12)\n",
        "\n",
        "# Where to save the figures\n",
        "PROJECT_ROOT_DIR = \".\"\n",
        "CHAPTER_ID = \"end_to_end_project\"\n",
        "IMAGES_PATH = os.path.join(PROJECT_ROOT_DIR, \"images\", CHAPTER_ID)\n",
        "\n",
        "def save_fig(fig_id, tight_layout=True, fig_extension=\"png\", resolution=300):\n",
        "    path = os.path.join(IMAGES_PATH, fig_id + \".\" + fig_extension)\n",
        "    print(\"Saving figure\", fig_id)\n",
        "    if tight_layout:\n",
        "        plt.tight_layout()\n",
        "    plt.savefig(path, format=fig_extension, dpi=resolution)\n",
        "\n",
        "# Ignore useless warnings (see SciPy issue #5998)\n",
        "import warnings\n",
        "warnings.filterwarnings(action=\"ignore\", message=\"^internal gelsd\")\n",
        "\n",
        "\n",
        "## Logging\n",
        "\n",
        "import logging\n",
        "import io\n",
        "import contextlib\n",
        "import sys\n",
        "\n",
        "@contextlib.contextmanager\n",
        "def capture_logs():\n",
        "  \"\"\"Save logs to an io.StringIO.\"\"\"\n",
        "  ip = get_ipython()\n",
        "  s = io.StringIO()\n",
        "  h = logging.StreamHandler(s)\n",
        "  ip.log.addHandler(h)\n",
        "  try:\n",
        "    yield s\n",
        "  finally:\n",
        "    ip.log.removeHandler(h)\n",
        "\n",
        "@contextlib.contextmanager\n",
        "def print_logs():\n",
        "  \"\"\"Print logs inline.\"\"\"  \n",
        "  ip = get_ipython()\n",
        "  h = logging.StreamHandler(sys.stdout)\n",
        "  ip.log.addHandler(h)\n",
        "  try:\n",
        "    yield\n",
        "  finally:\n",
        "    ip.log.removeHandler(h)\n",
        "    \n",
        "\n",
        "ip = get_ipython()\n",
        "\n",
        "## Set logging level\n",
        "ip.log.setLevel(logging.INFO)\n",
        "\n",
        "\n",
        "with capture_logs() as s:\n",
        "  ip.log.warning('capture logs')\n",
        "print(s.getvalue())\n",
        "\n",
        "with print_logs():\n",
        "  ip.log.info('print logs')"
      ],
      "execution_count": 2,
      "outputs": [
        {
          "output_type": "stream",
          "text": [
            "capture logs\n",
            "\n",
            "print logs\n"
          ],
          "name": "stdout"
        }
      ]
    },
    {
      "metadata": {
        "id": "9DdDmsXnCDK4",
        "colab_type": "text"
      },
      "cell_type": "markdown",
      "source": [
        "## Get the data"
      ]
    },
    {
      "metadata": {
        "id": "kcCjDnNqCsxN",
        "colab_type": "code",
        "colab": {}
      },
      "cell_type": "code",
      "source": [
        "import os\n",
        "import zipfile\n",
        "from six.moves import urllib\n",
        "\n",
        "DOWNLOAD_ROOT = \"http://www.sportstoto.com.my/\"\n",
        "LOTTO_PATH = os.path.join(os.getcwd(), \"datasets\", \"lotto\")\n",
        "LOTTO_URL = DOWNLOAD_ROOT + \"upload/Toto655.zip\"\n",
        "LOTTO_ZIP = os.path.join(LOTTO_PATH, \"lotto.zip\")\n",
        "\n",
        "# print(LOTTO_URL)\n",
        "\n",
        "# def fix_bad_zip_file(zip_file):  \n",
        "#  f = open(zip_file, 'r+b')  \n",
        "#  data = f.read()  \n",
        "#  pos = data.find('\\x50\\x4b\\x05\\x06') # End of central directory signature  \n",
        "#  if (pos > 0):  \n",
        "#      self._log(\"Trancating file at location \" + str(pos + 22)+ \".\")  \n",
        "#      f.seek(pos + 22)   # size of 'ZIP end of central directory record' \n",
        "#      f.truncate()  \n",
        "#      f.close()  \n",
        "#  else:  \n",
        "#      # raise error, file is truncated  \n",
        "#     raise RuntimeError('bad zip file')\n",
        "\n",
        "def fetch_data(url=LOTTO_URL, path=LOTTO_PATH, zip_path=LOTTO_ZIP):\n",
        "  if not os.path.isdir(path):\n",
        "      os.makedirs(path)\n",
        "  urllib.request.urlretrieve(url, zip_path)\n",
        "  if (os.path.isfile(zip_path)):\n",
        "    print(f'Download path: {zip_path}')\n",
        "  # fix_bad_zip_file(zip_path)\n",
        "  # with zipfile.ZipFile(zip_path, 'r') as lotto_zip:\n",
        "  #  lotto_zip.extractall(path)"
      ],
      "execution_count": 0,
      "outputs": []
    },
    {
      "metadata": {
        "id": "ddo0SoptEY0z",
        "colab_type": "code",
        "colab": {
          "base_uri": "https://localhost:8080/",
          "height": 51
        },
        "outputId": "076e0d5f-8195-4b6f-c674-b2496881c9fc"
      },
      "cell_type": "code",
      "source": [
        "!rm /content/datasets/lotto/lotto.zip\n",
        "\n",
        "fetch_data()"
      ],
      "execution_count": 4,
      "outputs": [
        {
          "output_type": "stream",
          "text": [
            "rm: cannot remove '/content/datasets/lotto/lotto.zip': No such file or directory\n",
            "Download path: /content/datasets/lotto/lotto.zip\n"
          ],
          "name": "stdout"
        }
      ]
    },
    {
      "metadata": {
        "id": "I7frraxZLNzA",
        "colab_type": "code",
        "colab": {}
      },
      "cell_type": "code",
      "source": [
        "df = pd.read_csv(LOTTO_ZIP, compression='infer', header=0, sep=',', quotechar='\"', dtype=str)"
      ],
      "execution_count": 0,
      "outputs": []
    },
    {
      "metadata": {
        "id": "ZlLHkuqmEeI2",
        "colab_type": "code",
        "colab": {
          "base_uri": "https://localhost:8080/",
          "height": 359
        },
        "outputId": "0d5fe044-06b9-4df6-c282-9d64919fb50c"
      },
      "cell_type": "code",
      "source": [
        "df.head(10)"
      ],
      "execution_count": 8,
      "outputs": [
        {
          "output_type": "execute_result",
          "data": {
            "text/html": [
              "<div>\n",
              "<style scoped>\n",
              "    .dataframe tbody tr th:only-of-type {\n",
              "        vertical-align: middle;\n",
              "    }\n",
              "\n",
              "    .dataframe tbody tr th {\n",
              "        vertical-align: top;\n",
              "    }\n",
              "\n",
              "    .dataframe thead th {\n",
              "        text-align: right;\n",
              "    }\n",
              "</style>\n",
              "<table border=\"1\" class=\"dataframe\">\n",
              "  <thead>\n",
              "    <tr style=\"text-align: right;\">\n",
              "      <th></th>\n",
              "      <th>DrawNo</th>\n",
              "      <th>DrawDate</th>\n",
              "      <th>DrawnNo1</th>\n",
              "      <th>DrawnNo2</th>\n",
              "      <th>DrawnNo3</th>\n",
              "      <th>DrawnNo4</th>\n",
              "      <th>DrawnNo5</th>\n",
              "      <th>DrawnNo6</th>\n",
              "      <th>Jackpot</th>\n",
              "    </tr>\n",
              "  </thead>\n",
              "  <tbody>\n",
              "    <tr>\n",
              "      <th>0</th>\n",
              "      <td>325209</td>\n",
              "      <td>20091031</td>\n",
              "      <td>17</td>\n",
              "      <td>20</td>\n",
              "      <td>24</td>\n",
              "      <td>30</td>\n",
              "      <td>49</td>\n",
              "      <td>50</td>\n",
              "      <td>0426643629</td>\n",
              "    </tr>\n",
              "    <tr>\n",
              "      <th>1</th>\n",
              "      <td>325309</td>\n",
              "      <td>20091101</td>\n",
              "      <td>01</td>\n",
              "      <td>05</td>\n",
              "      <td>18</td>\n",
              "      <td>23</td>\n",
              "      <td>50</td>\n",
              "      <td>51</td>\n",
              "      <td>0439869056</td>\n",
              "    </tr>\n",
              "    <tr>\n",
              "      <th>2</th>\n",
              "      <td>325409</td>\n",
              "      <td>20091103</td>\n",
              "      <td>05</td>\n",
              "      <td>09</td>\n",
              "      <td>13</td>\n",
              "      <td>15</td>\n",
              "      <td>48</td>\n",
              "      <td>55</td>\n",
              "      <td>0454276056</td>\n",
              "    </tr>\n",
              "    <tr>\n",
              "      <th>3</th>\n",
              "      <td>325509</td>\n",
              "      <td>20091104</td>\n",
              "      <td>09</td>\n",
              "      <td>28</td>\n",
              "      <td>36</td>\n",
              "      <td>41</td>\n",
              "      <td>47</td>\n",
              "      <td>50</td>\n",
              "      <td>0466824556</td>\n",
              "    </tr>\n",
              "    <tr>\n",
              "      <th>4</th>\n",
              "      <td>325609</td>\n",
              "      <td>20091107</td>\n",
              "      <td>17</td>\n",
              "      <td>19</td>\n",
              "      <td>24</td>\n",
              "      <td>27</td>\n",
              "      <td>33</td>\n",
              "      <td>38</td>\n",
              "      <td>0480533325</td>\n",
              "    </tr>\n",
              "    <tr>\n",
              "      <th>5</th>\n",
              "      <td>325709</td>\n",
              "      <td>20091108</td>\n",
              "      <td>17</td>\n",
              "      <td>22</td>\n",
              "      <td>30</td>\n",
              "      <td>32</td>\n",
              "      <td>38</td>\n",
              "      <td>54</td>\n",
              "      <td>0494376831</td>\n",
              "    </tr>\n",
              "    <tr>\n",
              "      <th>6</th>\n",
              "      <td>325809</td>\n",
              "      <td>20091111</td>\n",
              "      <td>02</td>\n",
              "      <td>18</td>\n",
              "      <td>25</td>\n",
              "      <td>32</td>\n",
              "      <td>37</td>\n",
              "      <td>54</td>\n",
              "      <td>0508774143</td>\n",
              "    </tr>\n",
              "    <tr>\n",
              "      <th>7</th>\n",
              "      <td>325909</td>\n",
              "      <td>20091114</td>\n",
              "      <td>06</td>\n",
              "      <td>13</td>\n",
              "      <td>21</td>\n",
              "      <td>38</td>\n",
              "      <td>41</td>\n",
              "      <td>45</td>\n",
              "      <td>0523964676</td>\n",
              "    </tr>\n",
              "    <tr>\n",
              "      <th>8</th>\n",
              "      <td>326009</td>\n",
              "      <td>20091115</td>\n",
              "      <td>01</td>\n",
              "      <td>02</td>\n",
              "      <td>32</td>\n",
              "      <td>36</td>\n",
              "      <td>45</td>\n",
              "      <td>51</td>\n",
              "      <td>0538291775</td>\n",
              "    </tr>\n",
              "    <tr>\n",
              "      <th>9</th>\n",
              "      <td>326109</td>\n",
              "      <td>20091117</td>\n",
              "      <td>06</td>\n",
              "      <td>10</td>\n",
              "      <td>31</td>\n",
              "      <td>40</td>\n",
              "      <td>44</td>\n",
              "      <td>54</td>\n",
              "      <td>0550894329</td>\n",
              "    </tr>\n",
              "  </tbody>\n",
              "</table>\n",
              "</div>"
            ],
            "text/plain": [
              "   DrawNo  DrawDate DrawnNo1 DrawnNo2  DrawnNo3  DrawnNo4  DrawnNo5  DrawnNo6  \\\n",
              "0  325209  20091031       17       20        24        30        49        50   \n",
              "1  325309  20091101       01       05        18        23        50        51   \n",
              "2  325409  20091103       05       09        13        15        48        55   \n",
              "3  325509  20091104       09       28        36        41        47        50   \n",
              "4  325609  20091107       17       19        24        27        33        38   \n",
              "5  325709  20091108       17       22        30        32        38        54   \n",
              "6  325809  20091111       02       18        25        32        37        54   \n",
              "7  325909  20091114       06       13        21        38        41        45   \n",
              "8  326009  20091115       01       02        32        36        45        51   \n",
              "9  326109  20091117       06       10        31        40        44        54   \n",
              "\n",
              "      Jackpot  \n",
              "0  0426643629  \n",
              "1  0439869056  \n",
              "2  0454276056  \n",
              "3  0466824556  \n",
              "4  0480533325  \n",
              "5  0494376831  \n",
              "6  0508774143  \n",
              "7  0523964676  \n",
              "8  0538291775  \n",
              "9  0550894329  "
            ]
          },
          "metadata": {
            "tags": []
          },
          "execution_count": 8
        }
      ]
    },
    {
      "metadata": {
        "id": "TtPqd8Titw6r",
        "colab_type": "code",
        "colab": {}
      },
      "cell_type": "code",
      "source": [
        ""
      ],
      "execution_count": 0,
      "outputs": []
    }
  ]
}