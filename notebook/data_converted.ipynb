{
  "nbformat": 4,
  "nbformat_minor": 0,
  "metadata": {
    "colab": {
      "name": "data_converted.ipynb",
      "version": "0.3.2",
      "provenance": [],
      "include_colab_link": true
    },
    "kernelspec": {
      "display_name": "Python 3",
      "language": "python",
      "name": "python3"
    }
  },
  "cells": [
    {
      "cell_type": "markdown",
      "metadata": {
        "id": "view-in-github",
        "colab_type": "text"
      },
      "source": [
        "<a href=\"https://colab.research.google.com/github/mengwangk/myInvestor-toolkit/blob/master/notebook/data_converted.ipynb\" target=\"_parent\"><img src=\"https://colab.research.google.com/assets/colab-badge.svg\" alt=\"Open In Colab\"/></a>"
      ]
    },
    {
      "metadata": {
        "id": "igjelUet1OsS",
        "colab_type": "text"
      },
      "cell_type": "markdown",
      "source": [
        "# Convert training data"
      ]
    },
    {
      "metadata": {
        "id": "HNmqoXB_1OsU",
        "colab_type": "code",
        "colab": {}
      },
      "cell_type": "code",
      "source": [
        "## Common imports\n",
        "\n",
        "import numpy as np\n",
        "import pandas as pd\n",
        "import datetime as dt\n",
        "import calendar as cal\n",
        "import os\n",
        "import glob\n",
        "\n",
        "# to make this notebook's output stable across runs\n",
        "np.random.seed(42)\n",
        "\n",
        "# To plot pretty figures\n",
        "%matplotlib inline\n",
        "import matplotlib\n",
        "import matplotlib.pyplot as plt\n",
        "import matplotlib.dates as mdates\n",
        "\n",
        "plt.rcParams['axes.labelsize'] = 14\n",
        "plt.rcParams['xtick.labelsize'] = 12\n",
        "plt.rcParams['ytick.labelsize'] = 12\n",
        "\n",
        "# Ignore useless warnings (see SciPy issue #5998)\n",
        "import warnings\n",
        "warnings.filterwarnings(action=\"ignore\", module=\"scipy\", message=\"^internal gelsd\")\n",
        "\n",
        "from IPython.display import display\n",
        "pd.options.display.max_columns = 50\n",
        "pd.options.display.html.table_schema = True"
      ],
      "execution_count": 0,
      "outputs": []
    },
    {
      "metadata": {
        "id": "wa117zsN1OsZ",
        "colab_type": "text"
      },
      "cell_type": "markdown",
      "source": [
        "## Convert the historical prices to the desired format"
      ]
    },
    {
      "metadata": {
        "id": "j9P4t02B1Osa",
        "colab_type": "code",
        "colab": {}
      },
      "cell_type": "code",
      "source": [
        "FILE_FOLDER = \"../dataset/prices/*.csv\"\n",
        "\n",
        "UOM = {'K': 1000, 'M': 1000000}\n",
        "\n",
        "def convert_to_numeric(val):\n",
        "    return float(val[:-1]) * UOM[val[-1]]\n",
        "\n",
        "for f in glob.glob(FILE_FOLDER):\n",
        "    df = pd.read_csv(f)\n",
        "    df.rename(columns={'price':'close'}, inplace=True)\n",
        "    df.drop(columns=['change_percent'], inplace=True)\n",
        "    df['date'] = pd.to_datetime(df['date'])\n",
        "    df['volume'] = df['volume'].apply(convert_to_numeric)\n",
        "    df.to_csv()\n"
      ],
      "execution_count": 0,
      "outputs": []
    },
    {
      "metadata": {
        "id": "yBo-qSQr1Ose",
        "colab_type": "code",
        "colab": {}
      },
      "cell_type": "code",
      "source": [
        ""
      ],
      "execution_count": 0,
      "outputs": []
    },
    {
      "metadata": {
        "id": "tzzS6-Ap1Osh",
        "colab_type": "code",
        "colab": {}
      },
      "cell_type": "code",
      "source": [
        ""
      ],
      "execution_count": 0,
      "outputs": []
    }
  ]
}