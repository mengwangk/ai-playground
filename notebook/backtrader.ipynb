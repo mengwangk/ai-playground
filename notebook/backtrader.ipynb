{
 "cells": [
  {
   "cell_type": "markdown",
   "metadata": {},
   "source": [
    "# Backtrader testing"
   ]
  },
  {
   "cell_type": "markdown",
   "metadata": {},
   "source": [
    "## Momentun\n",
    "\n",
    "* RSI > 70 overbought, < 30 oversold\n",
    "\n",
    "## Volatility\n",
    "\n",
    "* BB - %b > 1 sell, < 0, buy \n",
    "\n",
    "\n",
    "## Reference\n",
    "\n",
    "* https://towardsdatascience.com/trading-strategy-technical-analysis-with-python-ta-lib-3ce9d6ce5614\n",
    "* https://towardsdatascience.com/efficient-frontier-optimize-portfolio-with-scipy-57456428323e\n",
    "* https://towardsdatascience.com/trading-strategy-back-testing-with-backtrader-6c173f29e37f\n"
   ]
  },
  {
   "cell_type": "code",
   "execution_count": 7,
   "metadata": {},
   "outputs": [],
   "source": [
    "from __future__ import (absolute_import, division, print_function,\n",
    "                        unicode_literals)\n",
    "\n",
    "import backtrader as bt\n",
    "import seaborn as sns"
   ]
  },
  {
   "cell_type": "code",
   "execution_count": 11,
   "metadata": {},
   "outputs": [
    {
     "name": "stdout",
     "output_type": "stream",
     "text": [
      "Starting Portfolio Value: 10000.00\n",
      "Final Portfolio Value: 500000.00\n"
     ]
    }
   ],
   "source": [
    "cerebro = bt.Cerebro()\n",
    "\n",
    "print('Starting Portfolio Value: %.2f' % cerebro.broker.getvalue())\n",
    "\n",
    "cerebro.broker.setcash(500000.0)\n",
    "\n",
    "cerebro.run()\n",
    "\n",
    "print('Final Portfolio Value: %.2f' % cerebro.broker.getvalue())"
   ]
  },
  {
   "cell_type": "code",
   "execution_count": null,
   "metadata": {},
   "outputs": [],
   "source": []
  }
 ],
 "metadata": {
  "kernelspec": {
   "display_name": "Python 3",
   "language": "python",
   "name": "python3"
  },
  "language_info": {
   "codemirror_mode": {
    "name": "ipython",
    "version": 3
   },
   "file_extension": ".py",
   "mimetype": "text/x-python",
   "name": "python",
   "nbconvert_exporter": "python",
   "pygments_lexer": "ipython3",
   "version": "3.7.0"
  }
 },
 "nbformat": 4,
 "nbformat_minor": 2
}
