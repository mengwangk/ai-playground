{
 "cells": [
  {
   "cell_type": "markdown",
   "metadata": {
    "colab_type": "text",
    "id": "P80sKYvMO4wD"
   },
   "source": [
    "# LSTM for Stock Prediction"
   ]
  },
  {
   "cell_type": "markdown",
   "metadata": {
    "colab_type": "text",
    "id": "8JUZzGbCO4wH"
   },
   "source": [
    "https://medium.com/@aniruddha.choudhury94/stock-market-prediction-by-recurrent-neural-network-on-lstm-model-56de700bff68"
   ]
  },
  {
   "cell_type": "code",
   "execution_count": null,
   "metadata": {
    "colab": {},
    "colab_type": "code",
    "id": "0YC8zQwCO4wH"
   },
   "outputs": [],
   "source": [
    "# To support both python 2 and python 3\n",
    "from __future__ import division, print_function, unicode_literals\n",
    "\n",
    "# Common imports\n",
    "import numpy as np\n",
    "import os\n",
    "import pandas as pd\n",
    "import io\n",
    "\n",
    "# to make this notebook's output stable across runs\n",
    "def reset_graph(seed=42):\n",
    "    tf.reset_default_graph()\n",
    "    tf.set_random_seed(seed)\n",
    "    np.random.seed(seed)\n",
    "\n",
    "# To plot pretty figures\n",
    "%matplotlib inline\n",
    "import matplotlib\n",
    "import matplotlib.pyplot as plt\n",
    "plt.rcParams['axes.labelsize'] = 14\n",
    "plt.rcParams['xtick.labelsize'] = 12\n",
    "plt.rcParams['ytick.labelsize'] = 12\n",
    "\n",
    "# Where to save the figures\n",
    "PROJECT_ROOT_DIR = \".\"\n",
    "CHAPTER_ID = \"rnn\"\n",
    "\n",
    "def save_fig(fig_id, tight_layout=True):\n",
    "    path = os.path.join(PROJECT_ROOT_DIR, \"images\", CHAPTER_ID, fig_id + \".png\")\n",
    "    print(\"Saving figure\", fig_id)\n",
    "    if tight_layout:\n",
    "        plt.tight_layout()\n",
    "    plt.savefig(path, format='png', dpi=300)\n",
    "    \n",
    "# Ignore useless warnings (see SciPy issue #5998)\n",
    "import warnings\n",
    "warnings.filterwarnings(action=\"ignore\", module=\"scipy\", message=\"^internal gelsd\")\n",
    "\n",
    "from IPython.display import display\n",
    "pd.options.display.max_columns = 50\n",
    "pd.options.display.html.table_schema = True"
   ]
  },
  {
   "cell_type": "code",
   "execution_count": 8,
   "metadata": {
    "colab": {
     "base_uri": "https://localhost:8080/",
     "height": 390
    },
    "colab_type": "code",
    "id": "Mtb4wmz1O4wK",
    "outputId": "0122aae1-3969-4349-c6c3-f9f94f05859f"
   },
   "outputs": [
    {
     "data": {
      "application/vnd.dataresource+json": {
       "data": [
        {
         "Close": 10.14,
         "Date": "2011-08-15T00:00:00.000Z",
         "High": 10.16,
         "Low": 10.08,
         "Open": 10.1,
         "Volume": 6490000
        },
        {
         "Close": 10.1,
         "Date": "2011-08-16T00:00:00.000Z",
         "High": 10.24,
         "Low": 10.02,
         "Open": 10.18,
         "Volume": 3160000
        },
        {
         "Close": 10.04,
         "Date": "2011-08-17T00:00:00.000Z",
         "High": 10.1,
         "Low": 10.02,
         "Open": 10.1,
         "Volume": 5410000
        },
        {
         "Close": 9.98,
         "Date": "2011-08-18T00:00:00.000Z",
         "High": 10.14,
         "Low": 9.97,
         "Open": 10.14,
         "Volume": 5350000
        },
        {
         "Close": 9.7,
         "Date": "2011-08-19T00:00:00.000Z",
         "High": 9.85,
         "Low": 9.65,
         "Open": 9.85,
         "Volume": 11570000
        },
        {
         "Close": 9.51,
         "Date": "2011-08-22T00:00:00.000Z",
         "High": 9.69,
         "Low": 9.49,
         "Open": 9.68,
         "Volume": 8520000
        },
        {
         "Close": 9.7,
         "Date": "2011-08-23T00:00:00.000Z",
         "High": 9.7,
         "Low": 9.4,
         "Open": 9.55,
         "Volume": 6520000
        },
        {
         "Close": 9.52,
         "Date": "2011-08-24T00:00:00.000Z",
         "High": 9.8,
         "Low": 9.52,
         "Open": 9.8,
         "Volume": 5090000
        },
        {
         "Close": 9.78,
         "Date": "2011-08-25T00:00:00.000Z",
         "High": 9.78,
         "Low": 9.54,
         "Open": 9.55,
         "Volume": 6120000
        },
        {
         "Close": 9.46,
         "Date": "2011-08-26T00:00:00.000Z",
         "High": 9.73,
         "Low": 9.43,
         "Open": 9.73,
         "Volume": 4560000
        }
       ],
       "schema": {
        "fields": [
         {
          "name": "Date",
          "type": "datetime"
         },
         {
          "name": "Close",
          "type": "number"
         },
         {
          "name": "Open",
          "type": "number"
         },
         {
          "name": "High",
          "type": "number"
         },
         {
          "name": "Low",
          "type": "number"
         },
         {
          "name": "Volume",
          "type": "number"
         }
        ],
        "pandas_version": "0.20.0",
        "primaryKey": [
         "Date"
        ]
       }
      },
      "text/html": [
       "<div>\n",
       "<style scoped>\n",
       "    .dataframe tbody tr th:only-of-type {\n",
       "        vertical-align: middle;\n",
       "    }\n",
       "\n",
       "    .dataframe tbody tr th {\n",
       "        vertical-align: top;\n",
       "    }\n",
       "\n",
       "    .dataframe thead th {\n",
       "        text-align: right;\n",
       "    }\n",
       "</style>\n",
       "<table border=\"1\" class=\"dataframe\">\n",
       "  <thead>\n",
       "    <tr style=\"text-align: right;\">\n",
       "      <th></th>\n",
       "      <th>Close</th>\n",
       "      <th>Open</th>\n",
       "      <th>High</th>\n",
       "      <th>Low</th>\n",
       "      <th>Volume</th>\n",
       "    </tr>\n",
       "    <tr>\n",
       "      <th>Date</th>\n",
       "      <th></th>\n",
       "      <th></th>\n",
       "      <th></th>\n",
       "      <th></th>\n",
       "      <th></th>\n",
       "    </tr>\n",
       "  </thead>\n",
       "  <tbody>\n",
       "    <tr>\n",
       "      <th>2011-08-15</th>\n",
       "      <td>10.14</td>\n",
       "      <td>10.10</td>\n",
       "      <td>10.16</td>\n",
       "      <td>10.08</td>\n",
       "      <td>6490000.0</td>\n",
       "    </tr>\n",
       "    <tr>\n",
       "      <th>2011-08-16</th>\n",
       "      <td>10.10</td>\n",
       "      <td>10.18</td>\n",
       "      <td>10.24</td>\n",
       "      <td>10.02</td>\n",
       "      <td>3160000.0</td>\n",
       "    </tr>\n",
       "    <tr>\n",
       "      <th>2011-08-17</th>\n",
       "      <td>10.04</td>\n",
       "      <td>10.10</td>\n",
       "      <td>10.10</td>\n",
       "      <td>10.02</td>\n",
       "      <td>5410000.0</td>\n",
       "    </tr>\n",
       "    <tr>\n",
       "      <th>2011-08-18</th>\n",
       "      <td>9.98</td>\n",
       "      <td>10.14</td>\n",
       "      <td>10.14</td>\n",
       "      <td>9.97</td>\n",
       "      <td>5350000.0</td>\n",
       "    </tr>\n",
       "    <tr>\n",
       "      <th>2011-08-19</th>\n",
       "      <td>9.70</td>\n",
       "      <td>9.85</td>\n",
       "      <td>9.85</td>\n",
       "      <td>9.65</td>\n",
       "      <td>11570000.0</td>\n",
       "    </tr>\n",
       "    <tr>\n",
       "      <th>2011-08-22</th>\n",
       "      <td>9.51</td>\n",
       "      <td>9.68</td>\n",
       "      <td>9.69</td>\n",
       "      <td>9.49</td>\n",
       "      <td>8520000.0</td>\n",
       "    </tr>\n",
       "    <tr>\n",
       "      <th>2011-08-23</th>\n",
       "      <td>9.70</td>\n",
       "      <td>9.55</td>\n",
       "      <td>9.70</td>\n",
       "      <td>9.40</td>\n",
       "      <td>6520000.0</td>\n",
       "    </tr>\n",
       "    <tr>\n",
       "      <th>2011-08-24</th>\n",
       "      <td>9.52</td>\n",
       "      <td>9.80</td>\n",
       "      <td>9.80</td>\n",
       "      <td>9.52</td>\n",
       "      <td>5090000.0</td>\n",
       "    </tr>\n",
       "    <tr>\n",
       "      <th>2011-08-25</th>\n",
       "      <td>9.78</td>\n",
       "      <td>9.55</td>\n",
       "      <td>9.78</td>\n",
       "      <td>9.54</td>\n",
       "      <td>6120000.0</td>\n",
       "    </tr>\n",
       "    <tr>\n",
       "      <th>2011-08-26</th>\n",
       "      <td>9.46</td>\n",
       "      <td>9.73</td>\n",
       "      <td>9.73</td>\n",
       "      <td>9.43</td>\n",
       "      <td>4560000.0</td>\n",
       "    </tr>\n",
       "  </tbody>\n",
       "</table>\n",
       "</div>"
      ],
      "text/plain": [
       "            Close   Open   High    Low      Volume\n",
       "Date                                              \n",
       "2011-08-15  10.14  10.10  10.16  10.08   6490000.0\n",
       "2011-08-16  10.10  10.18  10.24  10.02   3160000.0\n",
       "2011-08-17  10.04  10.10  10.10  10.02   5410000.0\n",
       "2011-08-18   9.98  10.14  10.14   9.97   5350000.0\n",
       "2011-08-19   9.70   9.85   9.85   9.65  11570000.0\n",
       "2011-08-22   9.51   9.68   9.69   9.49   8520000.0\n",
       "2011-08-23   9.70   9.55   9.70   9.40   6520000.0\n",
       "2011-08-24   9.52   9.80   9.80   9.52   5090000.0\n",
       "2011-08-25   9.78   9.55   9.78   9.54   6120000.0\n",
       "2011-08-26   9.46   9.73   9.73   9.43   4560000.0"
      ]
     },
     "execution_count": 8,
     "metadata": {
      "tags": []
     },
     "output_type": "execute_result"
    }
   ],
   "source": [
    "# from google.colab import files\n",
    "# uploaded = files.upload()\n",
    "\n",
    "UOM = {'K': 1000, 'M': 1000000}\n",
    "\n",
    "def convert_to_numeric(val):\n",
    "    return float(val[:-1]) * UOM[val[-1]]\n",
    "\n",
    "def clean_dataset(df):\n",
    "    df.rename(columns={'Price':'Close', 'Vol.':'Volume'}, inplace=True)\n",
    "    df.drop(columns=['Change %'], axis=1, inplace=True)\n",
    "    df['Date'] = pd.to_datetime(df['Date'])\n",
    "    df['Volume'] = df['Volume'].apply(convert_to_numeric)\n",
    "    df.sort_values(by=['Date'], ascending=True, inplace=True)\n",
    "    df.set_index('Date', inplace=True)\n",
    "\n",
    "# dataset = pd.read_csv('data/GENTING_train_set.csv', parse_dates=True)\n",
    "\n",
    "dataset = pd.read_csv(io.StringIO(uploaded['GENTING_train_set.csv'].decode('utf-8')), parse_dates=True)\n",
    "clean_dataset(dataset)\n",
    "dataset.head(10)"
   ]
  },
  {
   "cell_type": "markdown",
   "metadata": {
    "colab_type": "text",
    "id": "AUWAlPEwO4wQ"
   },
   "source": [
    "# Preprocessing"
   ]
  },
  {
   "cell_type": "code",
   "execution_count": 9,
   "metadata": {
    "colab": {
     "base_uri": "https://localhost:8080/",
     "height": 119
    },
    "colab_type": "code",
    "id": "vtlfPVPvO4wR",
    "outputId": "c5d3b732-11ce-434f-abc0-70ebe91e7486"
   },
   "outputs": [
    {
     "data": {
      "application/vnd.dataresource+json": {
       "data": [
        {
         "index": "Close",
         "values": false
        },
        {
         "index": "Open",
         "values": false
        },
        {
         "index": "High",
         "values": false
        },
        {
         "index": "Low",
         "values": false
        },
        {
         "index": "Volume",
         "values": false
        }
       ],
       "schema": {
        "fields": [
         {
          "name": "index",
          "type": "string"
         },
         {
          "name": "values",
          "type": "boolean"
         }
        ],
        "pandas_version": "0.20.0",
        "primaryKey": [
         "index"
        ]
       }
      },
      "text/plain": [
       "Close     False\n",
       "Open      False\n",
       "High      False\n",
       "Low       False\n",
       "Volume    False\n",
       "dtype: bool"
      ]
     },
     "execution_count": 9,
     "metadata": {
      "tags": []
     },
     "output_type": "execute_result"
    }
   ],
   "source": [
    "dataset.isna().any()"
   ]
  },
  {
   "cell_type": "code",
   "execution_count": 10,
   "metadata": {
    "colab": {
     "base_uri": "https://localhost:8080/",
     "height": 187
    },
    "colab_type": "code",
    "id": "zizWBSUTO4wV",
    "outputId": "39f1d01b-ff68-40ff-c934-d24a13e73a52"
   },
   "outputs": [
    {
     "name": "stdout",
     "output_type": "stream",
     "text": [
      "<class 'pandas.core.frame.DataFrame'>\n",
      "DatetimeIndex: 1768 entries, 2011-08-15 to 2018-10-31\n",
      "Data columns (total 5 columns):\n",
      "Close     1768 non-null float64\n",
      "Open      1768 non-null float64\n",
      "High      1768 non-null float64\n",
      "Low       1768 non-null float64\n",
      "Volume    1768 non-null float64\n",
      "dtypes: float64(5)\n",
      "memory usage: 82.9 KB\n"
     ]
    }
   ],
   "source": [
    "dataset.info()"
   ]
  },
  {
   "cell_type": "code",
   "execution_count": 11,
   "metadata": {
    "colab": {
     "base_uri": "https://localhost:8080/",
     "height": 391
    },
    "colab_type": "code",
    "id": "ENPKuKzGO4wZ",
    "outputId": "5d572f30-fc97-4872-a6c8-1995d953d908"
   },
   "outputs": [
    {
     "data": {
      "text/plain": [
       "<matplotlib.axes._subplots.AxesSubplot at 0x7f820a055b00>"
      ]
     },
     "execution_count": 11,
     "metadata": {
      "tags": []
     },
     "output_type": "execute_result"
    },
    {
     "data": {
      "image/png": "[encoded data removed]",
      "text/plain": [
       "<Figure size 1152x432 with 1 Axes>"
      ]
     },
     "metadata": {
      "tags": []
     },
     "output_type": "display_data"
    }
   ],
   "source": [
    "dataset['Open'].plot(figsize=(16,6))"
   ]
  },
  {
   "cell_type": "code",
   "execution_count": null,
   "metadata": {
    "colab": {},
    "colab_type": "code",
    "id": "uqqSwCWZO4wc"
   },
   "outputs": [],
   "source": [
    "# convert column \"a\" of a DataFrame\n",
    "# dataset[\"Close\"] = dataset[\"Close\"].str.replace(',', '').astype(float)"
   ]
  },
  {
   "cell_type": "code",
   "execution_count": 13,
   "metadata": {
    "colab": {
     "base_uri": "https://localhost:8080/",
     "height": 390
    },
    "colab_type": "code",
    "id": "x0VWYyJmO4wf",
    "outputId": "ad07bada-d6a1-4fc1-a5a2-223dc7eff508"
   },
   "outputs": [
    {
     "data": {
      "application/vnd.dataresource+json": {
       "data": [
        {
         "Close": null,
         "Date": "2011-08-15T00:00:00.000Z",
         "High": null,
         "Low": null,
         "Open": null,
         "Volume": null
        },
        {
         "Close": null,
         "Date": "2011-08-16T00:00:00.000Z",
         "High": null,
         "Low": null,
         "Open": null,
         "Volume": null
        },
        {
         "Close": null,
         "Date": "2011-08-17T00:00:00.000Z",
         "High": null,
         "Low": null,
         "Open": null,
         "Volume": null
        },
        {
         "Close": null,
         "Date": "2011-08-18T00:00:00.000Z",
         "High": null,
         "Low": null,
         "Open": null,
         "Volume": null
        },
        {
         "Close": null,
         "Date": "2011-08-19T00:00:00.000Z",
         "High": null,
         "Low": null,
         "Open": null,
         "Volume": null
        },
        {
         "Close": null,
         "Date": "2011-08-22T00:00:00.000Z",
         "High": null,
         "Low": null,
         "Open": null,
         "Volume": null
        },
        {
         "Close": 9.8814285714,
         "Date": "2011-08-23T00:00:00.000Z",
         "High": 9.9828571429,
         "Low": 9.8042857143,
         "Open": 9.9428571429,
         "Volume": 6717142.857142857
        },
        {
         "Close": 9.7928571429,
         "Date": "2011-08-24T00:00:00.000Z",
         "High": 9.9314285714,
         "Low": 9.7242857143,
         "Open": 9.9,
         "Volume": 6517142.857142857
        },
        {
         "Close": 9.7471428571,
         "Date": "2011-08-25T00:00:00.000Z",
         "High": 9.8657142857,
         "Low": 9.6557142857,
         "Open": 9.81,
         "Volume": 6940000
        },
        {
         "Close": 9.6642857143,
         "Date": "2011-08-26T00:00:00.000Z",
         "High": 9.8128571429,
         "Low": 9.5714285714,
         "Open": 9.7571428571,
         "Volume": 6818571.428571428
        }
       ],
       "schema": {
        "fields": [
         {
          "name": "Date",
          "type": "datetime"
         },
         {
          "name": "Close",
          "type": "number"
         },
         {
          "name": "Open",
          "type": "number"
         },
         {
          "name": "High",
          "type": "number"
         },
         {
          "name": "Low",
          "type": "number"
         },
         {
          "name": "Volume",
          "type": "number"
         }
        ],
        "pandas_version": "0.20.0",
        "primaryKey": [
         "Date"
        ]
       }
      },
      "text/html": [
       "<div>\n",
       "<style scoped>\n",
       "    .dataframe tbody tr th:only-of-type {\n",
       "        vertical-align: middle;\n",
       "    }\n",
       "\n",
       "    .dataframe tbody tr th {\n",
       "        vertical-align: top;\n",
       "    }\n",
       "\n",
       "    .dataframe thead th {\n",
       "        text-align: right;\n",
       "    }\n",
       "</style>\n",
       "<table border=\"1\" class=\"dataframe\">\n",
       "  <thead>\n",
       "    <tr style=\"text-align: right;\">\n",
       "      <th></th>\n",
       "      <th>Close</th>\n",
       "      <th>Open</th>\n",
       "      <th>High</th>\n",
       "      <th>Low</th>\n",
       "      <th>Volume</th>\n",
       "    </tr>\n",
       "    <tr>\n",
       "      <th>Date</th>\n",
       "      <th></th>\n",
       "      <th></th>\n",
       "      <th></th>\n",
       "      <th></th>\n",
       "      <th></th>\n",
       "    </tr>\n",
       "  </thead>\n",
       "  <tbody>\n",
       "    <tr>\n",
       "      <th>2011-08-15</th>\n",
       "      <td>NaN</td>\n",
       "      <td>NaN</td>\n",
       "      <td>NaN</td>\n",
       "      <td>NaN</td>\n",
       "      <td>NaN</td>\n",
       "    </tr>\n",
       "    <tr>\n",
       "      <th>2011-08-16</th>\n",
       "      <td>NaN</td>\n",
       "      <td>NaN</td>\n",
       "      <td>NaN</td>\n",
       "      <td>NaN</td>\n",
       "      <td>NaN</td>\n",
       "    </tr>\n",
       "    <tr>\n",
       "      <th>2011-08-17</th>\n",
       "      <td>NaN</td>\n",
       "      <td>NaN</td>\n",
       "      <td>NaN</td>\n",
       "      <td>NaN</td>\n",
       "      <td>NaN</td>\n",
       "    </tr>\n",
       "    <tr>\n",
       "      <th>2011-08-18</th>\n",
       "      <td>NaN</td>\n",
       "      <td>NaN</td>\n",
       "      <td>NaN</td>\n",
       "      <td>NaN</td>\n",
       "      <td>NaN</td>\n",
       "    </tr>\n",
       "    <tr>\n",
       "      <th>2011-08-19</th>\n",
       "      <td>NaN</td>\n",
       "      <td>NaN</td>\n",
       "      <td>NaN</td>\n",
       "      <td>NaN</td>\n",
       "      <td>NaN</td>\n",
       "    </tr>\n",
       "    <tr>\n",
       "      <th>2011-08-22</th>\n",
       "      <td>NaN</td>\n",
       "      <td>NaN</td>\n",
       "      <td>NaN</td>\n",
       "      <td>NaN</td>\n",
       "      <td>NaN</td>\n",
       "    </tr>\n",
       "    <tr>\n",
       "      <th>2011-08-23</th>\n",
       "      <td>9.881429</td>\n",
       "      <td>9.942857</td>\n",
       "      <td>9.982857</td>\n",
       "      <td>9.804286</td>\n",
       "      <td>6.717143e+06</td>\n",
       "    </tr>\n",
       "    <tr>\n",
       "      <th>2011-08-24</th>\n",
       "      <td>9.792857</td>\n",
       "      <td>9.900000</td>\n",
       "      <td>9.931429</td>\n",
       "      <td>9.724286</td>\n",
       "      <td>6.517143e+06</td>\n",
       "    </tr>\n",
       "    <tr>\n",
       "      <th>2011-08-25</th>\n",
       "      <td>9.747143</td>\n",
       "      <td>9.810000</td>\n",
       "      <td>9.865714</td>\n",
       "      <td>9.655714</td>\n",
       "      <td>6.940000e+06</td>\n",
       "    </tr>\n",
       "    <tr>\n",
       "      <th>2011-08-26</th>\n",
       "      <td>9.664286</td>\n",
       "      <td>9.757143</td>\n",
       "      <td>9.812857</td>\n",
       "      <td>9.571429</td>\n",
       "      <td>6.818571e+06</td>\n",
       "    </tr>\n",
       "  </tbody>\n",
       "</table>\n",
       "</div>"
      ],
      "text/plain": [
       "               Close      Open      High       Low        Volume\n",
       "Date                                                            \n",
       "2011-08-15       NaN       NaN       NaN       NaN           NaN\n",
       "2011-08-16       NaN       NaN       NaN       NaN           NaN\n",
       "2011-08-17       NaN       NaN       NaN       NaN           NaN\n",
       "2011-08-18       NaN       NaN       NaN       NaN           NaN\n",
       "2011-08-19       NaN       NaN       NaN       NaN           NaN\n",
       "2011-08-22       NaN       NaN       NaN       NaN           NaN\n",
       "2011-08-23  9.881429  9.942857  9.982857  9.804286  6.717143e+06\n",
       "2011-08-24  9.792857  9.900000  9.931429  9.724286  6.517143e+06\n",
       "2011-08-25  9.747143  9.810000  9.865714  9.655714  6.940000e+06\n",
       "2011-08-26  9.664286  9.757143  9.812857  9.571429  6.818571e+06"
      ]
     },
     "execution_count": 13,
     "metadata": {
      "tags": []
     },
     "output_type": "execute_result"
    }
   ],
   "source": [
    "# 7 day rolling mean\n",
    "dataset.rolling(7).mean().head(10)"
   ]
  },
  {
   "cell_type": "code",
   "execution_count": 14,
   "metadata": {
    "colab": {
     "base_uri": "https://localhost:8080/",
     "height": 391
    },
    "colab_type": "code",
    "id": "eo3Uglx-O4wi",
    "outputId": "5754a0bb-4f02-4040-dfc7-4542cbeb1d57"
   },
   "outputs": [
    {
     "data": {
      "text/plain": [
       "<matplotlib.axes._subplots.AxesSubplot at 0x7f81e720e898>"
      ]
     },
     "execution_count": 14,
     "metadata": {
      "tags": []
     },
     "output_type": "execute_result"
    },
    {
     "data": {
      "image/png": "[encoded data removed]",
      "text/plain": [
       "<Figure size 1152x432 with 1 Axes>"
      ]
     },
     "metadata": {
      "tags": []
     },
     "output_type": "display_data"
    }
   ],
   "source": [
    "dataset['Open'].plot(figsize=(16,6))\n",
    "dataset.rolling(window=30).mean()['Close'].plot()"
   ]
  },
  {
   "cell_type": "code",
   "execution_count": 15,
   "metadata": {
    "colab": {
     "base_uri": "https://localhost:8080/",
     "height": 391
    },
    "colab_type": "code",
    "id": "b8k4XFWlO4wl",
    "outputId": "607740c3-d034-4684-af84-8168c57a0aa9"
   },
   "outputs": [
    {
     "data": {
      "text/plain": [
       "<matplotlib.axes._subplots.AxesSubplot at 0x7f81e51a3470>"
      ]
     },
     "execution_count": 15,
     "metadata": {
      "tags": []
     },
     "output_type": "execute_result"
    },
    {
     "data": {
      "image/png": "[encoded data removed]",
      "text/plain": [
       "<Figure size 1152x432 with 1 Axes>"
      ]
     },
     "metadata": {
      "tags": []
     },
     "output_type": "display_data"
    }
   ],
   "source": [
    "dataset['Close: 30 Day Mean'] = dataset['Close'].rolling(window=30).mean()\n",
    "dataset[['Close','Close: 30 Day Mean']].plot(figsize=(16,6))"
   ]
  },
  {
   "cell_type": "code",
   "execution_count": 16,
   "metadata": {
    "colab": {
     "base_uri": "https://localhost:8080/",
     "height": 391
    },
    "colab_type": "code",
    "id": "h-yQF94lO4wp",
    "outputId": "0e8a1a6f-1e20-436e-da57-6962c80a57d5"
   },
   "outputs": [
    {
     "data": {
      "text/plain": [
       "<matplotlib.axes._subplots.AxesSubplot at 0x7f81e3908518>"
      ]
     },
     "execution_count": 16,
     "metadata": {
      "tags": []
     },
     "output_type": "execute_result"
    },
    {
     "data": {
      "image/png": "[encoded data removed]",
      "text/plain": [
       "<Figure size 1152x432 with 1 Axes>"
      ]
     },
     "metadata": {
      "tags": []
     },
     "output_type": "display_data"
    }
   ],
   "source": [
    "# Optional specify a minimum number of periods\n",
    "dataset['Close'].expanding(min_periods=1).mean().plot(figsize=(16,6))"
   ]
  },
  {
   "cell_type": "markdown",
   "metadata": {
    "colab_type": "text",
    "id": "MHjToYx5O4ws"
   },
   "source": [
    "# Training"
   ]
  },
  {
   "cell_type": "code",
   "execution_count": null,
   "metadata": {
    "colab": {},
    "colab_type": "code",
    "id": "xbKs9EmtO4wt"
   },
   "outputs": [],
   "source": [
    "training_set=dataset['Open']\n",
    "training_set=pd.DataFrame(training_set)"
   ]
  },
  {
   "cell_type": "code",
   "execution_count": null,
   "metadata": {
    "colab": {},
    "colab_type": "code",
    "id": "agrIL0iTO4wy"
   },
   "outputs": [],
   "source": [
    "# Feature Scaling\n",
    "from sklearn.preprocessing import MinMaxScaler\n",
    "sc = MinMaxScaler(feature_range = (0, 1))\n",
    "training_set_scaled = sc.fit_transform(training_set)"
   ]
  },
  {
   "cell_type": "code",
   "execution_count": null,
   "metadata": {
    "colab": {},
    "colab_type": "code",
    "id": "hHE1gYXZO4w1"
   },
   "outputs": [],
   "source": [
    "# Creating a data structure with 60 timesteps and 1 output\n",
    "X_train = []\n",
    "y_train = []\n",
    "for i in range(60, len(training_set)):\n",
    "    X_train.append(training_set_scaled[i-60:i, 0])\n",
    "    y_train.append(training_set_scaled[i, 0])\n",
    "X_train, y_train = np.array(X_train), np.array(y_train)\n",
    "\n",
    "# Reshaping\n",
    "X_train = np.reshape(X_train, (X_train.shape[0], X_train.shape[1], 1))\n",
    "# print(len(training_set))"
   ]
  },
  {
   "cell_type": "code",
   "execution_count": null,
   "metadata": {
    "colab": {},
    "colab_type": "code",
    "id": "q6J5SCcOO4w5"
   },
   "outputs": [],
   "source": [
    "# Part 2 - Building the RNN\n",
    "\n",
    "# Importing the Keras libraries and packages\n",
    "from keras.models import Sequential\n",
    "from keras.layers import Dense\n",
    "from keras.layers import LSTM\n",
    "from keras.layers import Dropout"
   ]
  },
  {
   "cell_type": "code",
   "execution_count": null,
   "metadata": {
    "colab": {},
    "colab_type": "code",
    "id": "gR_P-In9O4w8"
   },
   "outputs": [],
   "source": [
    "# Initialising the RNN\n",
    "regressor = Sequential()"
   ]
  },
  {
   "cell_type": "code",
   "execution_count": null,
   "metadata": {
    "colab": {},
    "colab_type": "code",
    "id": "GvG3HtqJO4w-"
   },
   "outputs": [],
   "source": [
    "# Adding the first LSTM layer and some Dropout regularisation\n",
    "regressor.add(LSTM(units = 50, return_sequences = True, input_shape = (X_train.shape[1], 1)))\n",
    "regressor.add(Dropout(0.2))\n",
    "\n",
    "# Adding a second LSTM layer and some Dropout regularisation\n",
    "regressor.add(LSTM(units = 50, return_sequences = True))\n",
    "regressor.add(Dropout(0.2))\n",
    "\n",
    "# Adding a third LSTM layer and some Dropout regularisation\n",
    "regressor.add(LSTM(units = 50, return_sequences = True))\n",
    "regressor.add(Dropout(0.2))\n",
    "\n",
    "# Adding a fourth LSTM layer and some Dropout regularisation\n",
    "regressor.add(LSTM(units = 50))\n",
    "regressor.add(Dropout(0.2))\n",
    "\n",
    "# Adding the output layer\n",
    "regressor.add(Dense(units = 1))"
   ]
  },
  {
   "cell_type": "code",
   "execution_count": null,
   "metadata": {
    "colab": {},
    "colab_type": "code",
    "id": "GQUrVjMJO4xD",
    "outputId": "f2238010-5db3-4f6f-8693-8e35098e93ff"
   },
   "outputs": [
    {
     "name": "stdout",
     "output_type": "stream",
     "text": [
      "Epoch 1/100\n",
      "1708/1708 [==============================] - 32s 19ms/step - loss: 0.0398\n",
      "Epoch 2/100\n",
      "1708/1708 [==============================] - 25s 15ms/step - loss: 0.0081\n",
      "Epoch 3/100\n",
      "1708/1708 [==============================] - 33s 19ms/step - loss: 0.0070\n",
      "Epoch 4/100\n",
      "1708/1708 [==============================] - 27s 16ms/step - loss: 0.0063\n",
      "Epoch 5/100\n",
      "1708/1708 [==============================] - 27s 16ms/step - loss: 0.0057\n",
      "Epoch 6/100\n",
      "1708/1708 [==============================] - 25s 14ms/step - loss: 0.0065\n",
      "Epoch 7/100\n",
      "1708/1708 [==============================] - 26s 15ms/step - loss: 0.0058\n",
      "Epoch 8/100\n",
      "1708/1708 [==============================] - 26s 15ms/step - loss: 0.0052\n",
      "Epoch 9/100\n",
      "1708/1708 [==============================] - 34s 20ms/step - loss: 0.0052\n",
      "Epoch 10/100\n",
      "1708/1708 [==============================] - 35s 20ms/step - loss: 0.0053\n",
      "Epoch 11/100\n",
      "1708/1708 [==============================] - 35s 20ms/step - loss: 0.0048\n",
      "Epoch 12/100\n",
      "1708/1708 [==============================] - 35s 21ms/step - loss: 0.0048\n",
      "Epoch 13/100\n",
      "1708/1708 [==============================] - 27s 16ms/step - loss: 0.0046\n",
      "Epoch 14/100\n",
      "1708/1708 [==============================] - 27s 16ms/step - loss: 0.0048\n",
      "Epoch 15/100\n",
      "1708/1708 [==============================] - 24s 14ms/step - loss: 0.0044\n",
      "Epoch 16/100\n",
      "1708/1708 [==============================] - 25s 15ms/step - loss: 0.0045\n",
      "Epoch 17/100\n",
      "1708/1708 [==============================] - 26s 15ms/step - loss: 0.0048\n",
      "Epoch 18/100\n",
      "1708/1708 [==============================] - 26s 15ms/step - loss: 0.0043\n",
      "Epoch 19/100\n",
      "1708/1708 [==============================] - 27s 16ms/step - loss: 0.0038\n",
      "Epoch 20/100\n",
      "1708/1708 [==============================] - 26s 15ms/step - loss: 0.0040\n",
      "Epoch 21/100\n",
      "1708/1708 [==============================] - 28s 16ms/step - loss: 0.0038\n",
      "Epoch 22/100\n",
      "1708/1708 [==============================] - 29s 17ms/step - loss: 0.0037\n",
      "Epoch 23/100\n",
      "1708/1708 [==============================] - 27s 16ms/step - loss: 0.0034\n",
      "Epoch 24/100\n",
      "1708/1708 [==============================] - 26s 15ms/step - loss: 0.0035\n",
      "Epoch 25/100\n",
      "1708/1708 [==============================] - 32s 19ms/step - loss: 0.0033\n",
      "Epoch 26/100\n",
      "1708/1708 [==============================] - 29s 17ms/step - loss: 0.0033\n",
      "Epoch 27/100\n",
      "1708/1708 [==============================] - 28s 16ms/step - loss: 0.0030\n",
      "Epoch 28/100\n",
      "1708/1708 [==============================] - 29s 17ms/step - loss: 0.0032\n",
      "Epoch 29/100\n",
      "1708/1708 [==============================] - 33s 19ms/step - loss: 0.0029\n",
      "Epoch 30/100\n",
      "1708/1708 [==============================] - 31s 18ms/step - loss: 0.0029\n",
      "Epoch 31/100\n",
      "1708/1708 [==============================] - 36s 21ms/step - loss: 0.0028\n",
      "Epoch 32/100\n",
      "1708/1708 [==============================] - 34s 20ms/step - loss: 0.0028\n",
      "Epoch 33/100\n",
      "1708/1708 [==============================] - 38s 22ms/step - loss: 0.0027\n",
      "Epoch 34/100\n",
      "1708/1708 [==============================] - 31s 18ms/step - loss: 0.0025\n",
      "Epoch 35/100\n",
      "1708/1708 [==============================] - 31s 18ms/step - loss: 0.0025\n",
      "Epoch 36/100\n",
      "1708/1708 [==============================] - 41s 24ms/step - loss: 0.0027\n",
      "Epoch 37/100\n",
      "1708/1708 [==============================] - 37s 21ms/step - loss: 0.0024\n",
      "Epoch 38/100\n",
      "1708/1708 [==============================] - 31s 18ms/step - loss: 0.0025\n",
      "Epoch 39/100\n",
      "1708/1708 [==============================] - 30s 18ms/step - loss: 0.0022\n",
      "Epoch 40/100\n",
      "1708/1708 [==============================] - 35s 21ms/step - loss: 0.0025\n",
      "Epoch 41/100\n",
      "1708/1708 [==============================] - 34s 20ms/step - loss: 0.0022\n",
      "Epoch 42/100\n",
      "1708/1708 [==============================] - 34s 20ms/step - loss: 0.0022\n",
      "Epoch 43/100\n",
      "1708/1708 [==============================] - 35s 21ms/step - loss: 0.0021\n",
      "Epoch 44/100\n",
      "1708/1708 [==============================] - 37s 22ms/step - loss: 0.0021\n",
      "Epoch 45/100\n",
      "1708/1708 [==============================] - 38s 22ms/step - loss: 0.0021\n",
      "Epoch 46/100\n",
      "1708/1708 [==============================] - 33s 19ms/step - loss: 0.0020\n",
      "Epoch 47/100\n",
      "1708/1708 [==============================] - 35s 21ms/step - loss: 0.0022\n",
      "Epoch 48/100\n",
      "1708/1708 [==============================] - 26s 15ms/step - loss: 0.0019\n",
      "Epoch 49/100\n",
      "1708/1708 [==============================] - 25s 15ms/step - loss: 0.0019\n",
      "Epoch 50/100\n",
      "1708/1708 [==============================] - 25s 15ms/step - loss: 0.0020\n",
      "Epoch 51/100\n",
      "1708/1708 [==============================] - 25s 15ms/step - loss: 0.0020\n",
      "Epoch 52/100\n",
      "1708/1708 [==============================] - 25s 15ms/step - loss: 0.0018\n",
      "Epoch 53/100\n",
      "1708/1708 [==============================] - 25s 15ms/step - loss: 0.0018\n",
      "Epoch 54/100\n",
      "1708/1708 [==============================] - 25s 15ms/step - loss: 0.0017\n",
      "Epoch 55/100\n",
      "1708/1708 [==============================] - 25s 15ms/step - loss: 0.0016\n",
      "Epoch 56/100\n",
      "1708/1708 [==============================] - 25s 15ms/step - loss: 0.0018\n",
      "Epoch 57/100\n",
      "1708/1708 [==============================] - 25s 15ms/step - loss: 0.0016\n",
      "Epoch 58/100\n",
      "1708/1708 [==============================] - 25s 15ms/step - loss: 0.0017\n",
      "Epoch 59/100\n",
      "1708/1708 [==============================] - 25s 15ms/step - loss: 0.0018\n",
      "Epoch 60/100\n",
      "1708/1708 [==============================] - 25s 15ms/step - loss: 0.0016\n",
      "Epoch 61/100\n",
      "1708/1708 [==============================] - 26s 15ms/step - loss: 0.0017\n",
      "Epoch 62/100\n",
      "1708/1708 [==============================] - 26s 15ms/step - loss: 0.0015\n",
      "Epoch 63/100\n",
      "1708/1708 [==============================] - 25s 15ms/step - loss: 0.0015\n",
      "Epoch 64/100\n",
      "1708/1708 [==============================] - 25s 15ms/step - loss: 0.0016\n",
      "Epoch 65/100\n",
      "1708/1708 [==============================] - 25s 15ms/step - loss: 0.0016\n",
      "Epoch 66/100\n",
      "1708/1708 [==============================] - 26s 15ms/step - loss: 0.0016\n",
      "Epoch 67/100\n",
      "1708/1708 [==============================] - 25s 15ms/step - loss: 0.0015\n",
      "Epoch 68/100\n",
      "1708/1708 [==============================] - 25s 15ms/step - loss: 0.0015\n",
      "Epoch 69/100\n",
      "1708/1708 [==============================] - 25s 15ms/step - loss: 0.0015\n",
      "Epoch 70/100\n",
      "1708/1708 [==============================] - 25s 15ms/step - loss: 0.0015\n",
      "Epoch 71/100\n",
      "1708/1708 [==============================] - 26s 15ms/step - loss: 0.0015\n",
      "Epoch 72/100\n",
      "1708/1708 [==============================] - 25s 15ms/step - loss: 0.0014\n",
      "Epoch 73/100\n",
      "1708/1708 [==============================] - 26s 15ms/step - loss: 0.0014\n",
      "Epoch 74/100\n",
      "1708/1708 [==============================] - 26s 15ms/step - loss: 0.0015\n",
      "Epoch 75/100\n",
      "1708/1708 [==============================] - 25s 15ms/step - loss: 0.0014\n",
      "Epoch 76/100\n",
      "1708/1708 [==============================] - 26s 15ms/step - loss: 0.0014\n",
      "Epoch 77/100\n",
      "1708/1708 [==============================] - 25s 15ms/step - loss: 0.0014\n",
      "Epoch 78/100\n",
      "1708/1708 [==============================] - 25s 15ms/step - loss: 0.0013\n",
      "Epoch 79/100\n",
      "1708/1708 [==============================] - 26s 15ms/step - loss: 0.0014\n",
      "Epoch 80/100\n",
      "1708/1708 [==============================] - 25s 15ms/step - loss: 0.0014\n",
      "Epoch 81/100\n",
      "1708/1708 [==============================] - 25s 15ms/step - loss: 0.0013\n",
      "Epoch 82/100\n",
      "1708/1708 [==============================] - 25s 15ms/step - loss: 0.0014\n",
      "Epoch 83/100\n",
      "1708/1708 [==============================] - 26s 15ms/step - loss: 0.0015\n",
      "Epoch 84/100\n",
      "1708/1708 [==============================] - 26s 15ms/step - loss: 0.0013\n",
      "Epoch 85/100\n",
      "1708/1708 [==============================] - 26s 15ms/step - loss: 0.0012\n",
      "Epoch 86/100\n",
      "1708/1708 [==============================] - 26s 15ms/step - loss: 0.0013\n",
      "Epoch 87/100\n",
      "1708/1708 [==============================] - 26s 15ms/step - loss: 0.0013\n",
      "Epoch 88/100\n",
      "1708/1708 [==============================] - 26s 15ms/step - loss: 0.0013\n",
      "Epoch 89/100\n",
      "1708/1708 [==============================] - 25s 15ms/step - loss: 0.0013\n",
      "Epoch 90/100\n",
      "1708/1708 [==============================] - 25s 15ms/step - loss: 0.0012\n",
      "Epoch 91/100\n",
      "1708/1708 [==============================] - 25s 15ms/step - loss: 0.0012\n",
      "Epoch 92/100\n",
      "1708/1708 [==============================] - 26s 15ms/step - loss: 0.0012\n",
      "Epoch 93/100\n",
      "1708/1708 [==============================] - 26s 15ms/step - loss: 0.0013\n",
      "Epoch 94/100\n",
      "1708/1708 [==============================] - 26s 15ms/step - loss: 0.0013\n",
      "Epoch 95/100\n",
      "1708/1708 [==============================] - 26s 15ms/step - loss: 0.0012\n",
      "Epoch 96/100\n",
      "1708/1708 [==============================] - 26s 15ms/step - loss: 0.0012\n",
      "Epoch 97/100\n",
      "1708/1708 [==============================] - 26s 15ms/step - loss: 0.0012\n",
      "Epoch 98/100\n",
      "1708/1708 [==============================] - 26s 15ms/step - loss: 0.0012\n",
      "Epoch 99/100\n",
      "1708/1708 [==============================] - 33s 19ms/step - loss: 0.0012\n",
      "Epoch 100/100\n",
      "1708/1708 [==============================] - 28s 16ms/step - loss: 0.0012\n"
     ]
    },
    {
     "data": {
      "text/plain": [
       "<keras.callbacks.History at 0x10f8bfdd8>"
      ]
     },
     "execution_count": 21,
     "metadata": {
      "tags": []
     },
     "output_type": "execute_result"
    }
   ],
   "source": [
    "# Compiling the RNN\n",
    "regressor.compile(optimizer = 'adam', loss = 'mean_squared_error')\n",
    "\n",
    "# Fitting the RNN to the Training set\n",
    "regressor.fit(X_train, y_train, epochs = 100, batch_size = 32)"
   ]
  },
  {
   "cell_type": "code",
   "execution_count": null,
   "metadata": {
    "colab": {},
    "colab_type": "code",
    "id": "zsiD3nXbO4xG"
   },
   "outputs": [],
   "source": [
    "dataset_test = pd.read_csv('data/GENTING_test_set.csv', parse_dates=True)\n",
    "clean_dataset(dataset_test)"
   ]
  },
  {
   "cell_type": "code",
   "execution_count": null,
   "metadata": {
    "colab": {},
    "colab_type": "code",
    "id": "gE0Pz0k5O4xJ",
    "outputId": "cd124e8e-0e35-4084-f8e8-5061555c5319"
   },
   "outputs": [
    {
     "data": {
      "application/vnd.dataresource+json": {
       "data": [
        {
         "Close": 7.4,
         "Date": "2018-11-01T00:00:00.000Z",
         "High": 7.43,
         "Low": 7.24,
         "Open": 7.34,
         "Volume": 1730000
        },
        {
         "Close": 7.2,
         "Date": "2018-11-02T00:00:00.000Z",
         "High": 7.78,
         "Low": 7.2,
         "Open": 7.45,
         "Volume": 25910000
        },
        {
         "Close": 6.74,
         "Date": "2018-11-05T00:00:00.000Z",
         "High": 6.96,
         "Low": 6.35,
         "Open": 6.53,
         "Volume": 36450000
        },
        {
         "Close": 6.74,
         "Date": "2018-11-07T00:00:00.000Z",
         "High": 6.93,
         "Low": 6.7,
         "Open": 6.8,
         "Volume": 12300000
        },
        {
         "Close": 6.76,
         "Date": "2018-11-08T00:00:00.000Z",
         "High": 6.85,
         "Low": 6.73,
         "Open": 6.85,
         "Volume": 14210000
        }
       ],
       "schema": {
        "fields": [
         {
          "name": "Date",
          "type": "datetime"
         },
         {
          "name": "Close",
          "type": "number"
         },
         {
          "name": "Open",
          "type": "number"
         },
         {
          "name": "High",
          "type": "number"
         },
         {
          "name": "Low",
          "type": "number"
         },
         {
          "name": "Volume",
          "type": "number"
         }
        ],
        "pandas_version": "0.20.0",
        "primaryKey": [
         "Date"
        ]
       }
      },
      "text/html": [
       "<div>\n",
       "<style scoped>\n",
       "    .dataframe tbody tr th:only-of-type {\n",
       "        vertical-align: middle;\n",
       "    }\n",
       "\n",
       "    .dataframe tbody tr th {\n",
       "        vertical-align: top;\n",
       "    }\n",
       "\n",
       "    .dataframe thead th {\n",
       "        text-align: right;\n",
       "    }\n",
       "</style>\n",
       "<table border=\"1\" class=\"dataframe\">\n",
       "  <thead>\n",
       "    <tr style=\"text-align: right;\">\n",
       "      <th></th>\n",
       "      <th>Close</th>\n",
       "      <th>Open</th>\n",
       "      <th>High</th>\n",
       "      <th>Low</th>\n",
       "      <th>Volume</th>\n",
       "    </tr>\n",
       "    <tr>\n",
       "      <th>Date</th>\n",
       "      <th></th>\n",
       "      <th></th>\n",
       "      <th></th>\n",
       "      <th></th>\n",
       "      <th></th>\n",
       "    </tr>\n",
       "  </thead>\n",
       "  <tbody>\n",
       "    <tr>\n",
       "      <th>2018-11-01</th>\n",
       "      <td>7.40</td>\n",
       "      <td>7.34</td>\n",
       "      <td>7.43</td>\n",
       "      <td>7.24</td>\n",
       "      <td>1730000.0</td>\n",
       "    </tr>\n",
       "    <tr>\n",
       "      <th>2018-11-02</th>\n",
       "      <td>7.20</td>\n",
       "      <td>7.45</td>\n",
       "      <td>7.78</td>\n",
       "      <td>7.20</td>\n",
       "      <td>25910000.0</td>\n",
       "    </tr>\n",
       "    <tr>\n",
       "      <th>2018-11-05</th>\n",
       "      <td>6.74</td>\n",
       "      <td>6.53</td>\n",
       "      <td>6.96</td>\n",
       "      <td>6.35</td>\n",
       "      <td>36450000.0</td>\n",
       "    </tr>\n",
       "    <tr>\n",
       "      <th>2018-11-07</th>\n",
       "      <td>6.74</td>\n",
       "      <td>6.80</td>\n",
       "      <td>6.93</td>\n",
       "      <td>6.70</td>\n",
       "      <td>12300000.0</td>\n",
       "    </tr>\n",
       "    <tr>\n",
       "      <th>2018-11-08</th>\n",
       "      <td>6.76</td>\n",
       "      <td>6.85</td>\n",
       "      <td>6.85</td>\n",
       "      <td>6.73</td>\n",
       "      <td>14210000.0</td>\n",
       "    </tr>\n",
       "  </tbody>\n",
       "</table>\n",
       "</div>"
      ],
      "text/plain": [
       "            Close  Open  High   Low      Volume\n",
       "Date                                           \n",
       "2018-11-01   7.40  7.34  7.43  7.24   1730000.0\n",
       "2018-11-02   7.20  7.45  7.78  7.20  25910000.0\n",
       "2018-11-05   6.74  6.53  6.96  6.35  36450000.0\n",
       "2018-11-07   6.74  6.80  6.93  6.70  12300000.0\n",
       "2018-11-08   6.76  6.85  6.85  6.73  14210000.0"
      ]
     },
     "execution_count": 25,
     "metadata": {
      "tags": []
     },
     "output_type": "execute_result"
    }
   ],
   "source": [
    "dataset_test.head()"
   ]
  },
  {
   "cell_type": "code",
   "execution_count": null,
   "metadata": {
    "colab": {},
    "colab_type": "code",
    "id": "ssSXeR2jO4xL",
    "outputId": "fc190281-37bf-4995-f632-55f83750320a"
   },
   "outputs": [
    {
     "name": "stdout",
     "output_type": "stream",
     "text": [
      "<class 'pandas.core.frame.DataFrame'>\n",
      "DatetimeIndex: 53 entries, 2018-11-01 to 2019-01-18\n",
      "Data columns (total 5 columns):\n",
      "Close     53 non-null float64\n",
      "Open      53 non-null float64\n",
      "High      53 non-null float64\n",
      "Low       53 non-null float64\n",
      "Volume    53 non-null float64\n",
      "dtypes: float64(5)\n",
      "memory usage: 2.5 KB\n"
     ]
    }
   ],
   "source": [
    "dataset_test.info()"
   ]
  },
  {
   "cell_type": "code",
   "execution_count": null,
   "metadata": {
    "colab": {},
    "colab_type": "code",
    "id": "MJOkrCTRO4xO"
   },
   "outputs": [],
   "source": [
    "test_set=dataset_test['Open']\n",
    "test_set=pd.DataFrame(test_set)"
   ]
  },
  {
   "cell_type": "code",
   "execution_count": null,
   "metadata": {
    "colab": {},
    "colab_type": "code",
    "id": "SEeK7ryeO4xR",
    "outputId": "9a7b2593-95b9-4ed0-c606-f59534b08154"
   },
   "outputs": [
    {
     "name": "stdout",
     "output_type": "stream",
     "text": [
      "<class 'pandas.core.frame.DataFrame'>\n",
      "DatetimeIndex: 53 entries, 2018-11-01 to 2019-01-18\n",
      "Data columns (total 1 columns):\n",
      "Open    53 non-null float64\n",
      "dtypes: float64(1)\n",
      "memory usage: 848.0 bytes\n"
     ]
    }
   ],
   "source": [
    "test_set.info()"
   ]
  },
  {
   "cell_type": "code",
   "execution_count": null,
   "metadata": {
    "colab": {},
    "colab_type": "code",
    "id": "bWu1C9cSO4xS"
   },
   "outputs": [],
   "source": [
    "# Feature Scaling\n",
    "from sklearn.preprocessing import MinMaxScaler\n",
    "sc = MinMaxScaler(feature_range = (0, 1))\n",
    "test_set_scaled = sc.fit_transform(test_set)"
   ]
  },
  {
   "cell_type": "code",
   "execution_count": null,
   "metadata": {
    "colab": {},
    "colab_type": "code",
    "id": "ycGhgqUXO4xX",
    "outputId": "b8d9ce51-0fb5-4f4a-fa07-71a67033d17c"
   },
   "outputs": [
    {
     "data": {
      "application/vnd.dataresource+json": {
       "data": [
        {
         "0": 0.9266666667,
         "index": 0
        },
        {
         "0": 1,
         "index": 1
        },
        {
         "0": 0.3866666667,
         "index": 2
        },
        {
         "0": 0.5666666667,
         "index": 3
        },
        {
         "0": 0.6,
         "index": 4
        }
       ],
       "schema": {
        "fields": [
         {
          "name": "index",
          "type": "integer"
         },
         {
          "name": 0,
          "type": "number"
         }
        ],
        "pandas_version": "0.20.0",
        "primaryKey": [
         "index"
        ]
       }
      },
      "text/html": [
       "<div>\n",
       "<style scoped>\n",
       "    .dataframe tbody tr th:only-of-type {\n",
       "        vertical-align: middle;\n",
       "    }\n",
       "\n",
       "    .dataframe tbody tr th {\n",
       "        vertical-align: top;\n",
       "    }\n",
       "\n",
       "    .dataframe thead th {\n",
       "        text-align: right;\n",
       "    }\n",
       "</style>\n",
       "<table border=\"1\" class=\"dataframe\">\n",
       "  <thead>\n",
       "    <tr style=\"text-align: right;\">\n",
       "      <th></th>\n",
       "      <th>0</th>\n",
       "    </tr>\n",
       "  </thead>\n",
       "  <tbody>\n",
       "    <tr>\n",
       "      <th>0</th>\n",
       "      <td>0.926667</td>\n",
       "    </tr>\n",
       "    <tr>\n",
       "      <th>1</th>\n",
       "      <td>1.000000</td>\n",
       "    </tr>\n",
       "    <tr>\n",
       "      <th>2</th>\n",
       "      <td>0.386667</td>\n",
       "    </tr>\n",
       "    <tr>\n",
       "      <th>3</th>\n",
       "      <td>0.566667</td>\n",
       "    </tr>\n",
       "    <tr>\n",
       "      <th>4</th>\n",
       "      <td>0.600000</td>\n",
       "    </tr>\n",
       "  </tbody>\n",
       "</table>\n",
       "</div>"
      ],
      "text/plain": [
       "          0\n",
       "0  0.926667\n",
       "1  1.000000\n",
       "2  0.386667\n",
       "3  0.566667\n",
       "4  0.600000"
      ]
     },
     "execution_count": 87,
     "metadata": {
      "tags": []
     },
     "output_type": "execute_result"
    }
   ],
   "source": [
    "test_set_scaled=pd.DataFrame(test_set_scaled)\n",
    "test_set_scaled.head()"
   ]
  },
  {
   "cell_type": "code",
   "execution_count": null,
   "metadata": {
    "colab": {},
    "colab_type": "code",
    "id": "pVn3xE5xO4xZ",
    "outputId": "b86a3fab-720e-45fa-eab8-71a4e943fab3"
   },
   "outputs": [
    {
     "name": "stdout",
     "output_type": "stream",
     "text": [
      "60\n",
      "(20, 60, 1)\n",
      "(20, 1)\n"
     ]
    },
    {
     "data": {
      "image/png": "[encoded data removed]",
      "text/plain": [
       "<Figure size 432x288 with 1 Axes>"
      ]
     },
     "metadata": {
      "needs_background": "light",
      "tags": []
     },
     "output_type": "display_data"
    }
   ],
   "source": [
    "# Getting the predicted stock price of 2017\n",
    "dataset_total = pd.concat((dataset['Open'], dataset_test['Open']), axis = 0)\n",
    "inputs = dataset_total[len(dataset_total) - len(dataset_test) - 60:].values\n",
    "inputs = inputs.reshape(-1,1)\n",
    "inputs = sc.transform(inputs)\n",
    "X_test = []\n",
    "for i in range(60, 80):\n",
    "    X_test.append(inputs[i-60:i, 0])\n",
    "print(len(X_test[0]))\n",
    "X_test = np.array(X_test)\n",
    "X_test = np.reshape(X_test, (X_test.shape[0], X_test.shape[1], 1))\n",
    "predicted_stock_price = regressor.predict(X_test)\n",
    "predicted_stock_price = sc.inverse_transform(predicted_stock_price)\n",
    "print(X_test.shape)\n",
    "print(predicted_stock_price.shape)\n",
    "\n",
    "inputs = dataset_total[len(dataset_total) - len(dataset_test) - 60:].values\n",
    "inputs = inputs.reshape(-1,1)\n",
    "real_stock_price = []\n",
    "for i in range(60, 80):\n",
    "    real_stock_price.append(inputs[i-60:i, 0])    \n",
    "real_stock_price = np.array(real_stock_price)\n",
    "#print(real_stock_price)\n",
    "\n",
    "#print(predicted_stock_price.shape)\n",
    "#print(real_stock_prices.shape)\n",
    "#real_stock_prices = dataset_total[len(dataset_total) - len(dataset_test) - 60:].values\n",
    "#real_stock_prices = real_stock_prices.reshape(-1,1)\n",
    "#print(len(real_stock_prices))\n",
    "#print(len(predicted_stock_price))\n",
    "\n",
    "# Visualising the results\n",
    "#plt.plot(real_stock_prices, color = 'red', label = 'Real Genting Stock Price')\n",
    "plt.plot(predicted_stock_price, color = 'blue', label = 'Predicted Genting Stock Price')\n",
    "plt.title('Genting Stock Price Prediction')\n",
    "plt.xlabel('Time')\n",
    "plt.ylabel('Genting Stock Price')\n",
    "plt.legend()\n",
    "plt.show()\n",
    "#print(predicted_stock_price)\n",
    "#print(test_set)"
   ]
  },
  {
   "cell_type": "code",
   "execution_count": null,
   "metadata": {
    "colab": {},
    "colab_type": "code",
    "id": "M9j5-0o9O4xc"
   },
   "outputs": [],
   "source": [
    "# https://machinelearningmastery.com/make-predictions-long-short-term-memory-models-keras/\n",
    "# Save the model\n",
    "# regressor.save('Genting.h5')"
   ]
  },
  {
   "cell_type": "code",
   "execution_count": null,
   "metadata": {
    "colab": {},
    "colab_type": "code",
    "id": "0s815ZuQO4xe"
   },
   "outputs": [],
   "source": [
    "# from keras.models import load_model\n",
    "# load model from single file\n",
    "# model = load_model('Genting.h5')\n",
    "# make predictions\n"
   ]
  },
  {
   "cell_type": "markdown",
   "metadata": {
    "colab_type": "text",
    "id": "O6emhMkuO4xg"
   },
   "source": [
    "# Prediction\n",
    "\n",
    "* https://blog.statsbot.co/time-series-prediction-using-recurrent-neural-networks-lstms-807fa6ca7f\n",
    "* https://github.com/neelabhpant/Deep-Learning-in-Python/blob/master/Time%20Series%20Prediction.ipynb"
   ]
  },
  {
   "cell_type": "code",
   "execution_count": 18,
   "metadata": {
    "colab": {
     "base_uri": "https://localhost:8080/",
     "height": 390
    },
    "colab_type": "code",
    "id": "boVm4fyXO4xh",
    "outputId": "d409d0d5-de0e-416e-b6ce-7c62a8953fcd"
   },
   "outputs": [
    {
     "data": {
      "application/vnd.dataresource+json": {
       "data": [
        {
         "Close": 10.14,
         "Date": "2011-08-15T00:00:00.000Z",
         "High": 10.16,
         "Low": 10.08,
         "Open": 10.1,
         "Volume": 6490000
        },
        {
         "Close": 10.1,
         "Date": "2011-08-16T00:00:00.000Z",
         "High": 10.24,
         "Low": 10.02,
         "Open": 10.18,
         "Volume": 3160000
        },
        {
         "Close": 10.04,
         "Date": "2011-08-17T00:00:00.000Z",
         "High": 10.1,
         "Low": 10.02,
         "Open": 10.1,
         "Volume": 5410000
        },
        {
         "Close": 9.98,
         "Date": "2011-08-18T00:00:00.000Z",
         "High": 10.14,
         "Low": 9.97,
         "Open": 10.14,
         "Volume": 5350000
        },
        {
         "Close": 9.7,
         "Date": "2011-08-19T00:00:00.000Z",
         "High": 9.85,
         "Low": 9.65,
         "Open": 9.85,
         "Volume": 11570000
        },
        {
         "Close": 9.51,
         "Date": "2011-08-22T00:00:00.000Z",
         "High": 9.69,
         "Low": 9.49,
         "Open": 9.68,
         "Volume": 8520000
        },
        {
         "Close": 9.7,
         "Date": "2011-08-23T00:00:00.000Z",
         "High": 9.7,
         "Low": 9.4,
         "Open": 9.55,
         "Volume": 6520000
        },
        {
         "Close": 9.52,
         "Date": "2011-08-24T00:00:00.000Z",
         "High": 9.8,
         "Low": 9.52,
         "Open": 9.8,
         "Volume": 5090000
        },
        {
         "Close": 9.78,
         "Date": "2011-08-25T00:00:00.000Z",
         "High": 9.78,
         "Low": 9.54,
         "Open": 9.55,
         "Volume": 6120000
        },
        {
         "Close": 9.46,
         "Date": "2011-08-26T00:00:00.000Z",
         "High": 9.73,
         "Low": 9.43,
         "Open": 9.73,
         "Volume": 4560000
        }
       ],
       "schema": {
        "fields": [
         {
          "name": "Date",
          "type": "datetime"
         },
         {
          "name": "Close",
          "type": "number"
         },
         {
          "name": "Open",
          "type": "number"
         },
         {
          "name": "High",
          "type": "number"
         },
         {
          "name": "Low",
          "type": "number"
         },
         {
          "name": "Volume",
          "type": "number"
         }
        ],
        "pandas_version": "0.20.0",
        "primaryKey": [
         "Date"
        ]
       }
      },
      "text/html": [
       "<div>\n",
       "<style scoped>\n",
       "    .dataframe tbody tr th:only-of-type {\n",
       "        vertical-align: middle;\n",
       "    }\n",
       "\n",
       "    .dataframe tbody tr th {\n",
       "        vertical-align: top;\n",
       "    }\n",
       "\n",
       "    .dataframe thead th {\n",
       "        text-align: right;\n",
       "    }\n",
       "</style>\n",
       "<table border=\"1\" class=\"dataframe\">\n",
       "  <thead>\n",
       "    <tr style=\"text-align: right;\">\n",
       "      <th></th>\n",
       "      <th>Close</th>\n",
       "      <th>Open</th>\n",
       "      <th>High</th>\n",
       "      <th>Low</th>\n",
       "      <th>Volume</th>\n",
       "    </tr>\n",
       "    <tr>\n",
       "      <th>Date</th>\n",
       "      <th></th>\n",
       "      <th></th>\n",
       "      <th></th>\n",
       "      <th></th>\n",
       "      <th></th>\n",
       "    </tr>\n",
       "  </thead>\n",
       "  <tbody>\n",
       "    <tr>\n",
       "      <th>2011-08-15</th>\n",
       "      <td>10.14</td>\n",
       "      <td>10.10</td>\n",
       "      <td>10.16</td>\n",
       "      <td>10.08</td>\n",
       "      <td>6490000.0</td>\n",
       "    </tr>\n",
       "    <tr>\n",
       "      <th>2011-08-16</th>\n",
       "      <td>10.10</td>\n",
       "      <td>10.18</td>\n",
       "      <td>10.24</td>\n",
       "      <td>10.02</td>\n",
       "      <td>3160000.0</td>\n",
       "    </tr>\n",
       "    <tr>\n",
       "      <th>2011-08-17</th>\n",
       "      <td>10.04</td>\n",
       "      <td>10.10</td>\n",
       "      <td>10.10</td>\n",
       "      <td>10.02</td>\n",
       "      <td>5410000.0</td>\n",
       "    </tr>\n",
       "    <tr>\n",
       "      <th>2011-08-18</th>\n",
       "      <td>9.98</td>\n",
       "      <td>10.14</td>\n",
       "      <td>10.14</td>\n",
       "      <td>9.97</td>\n",
       "      <td>5350000.0</td>\n",
       "    </tr>\n",
       "    <tr>\n",
       "      <th>2011-08-19</th>\n",
       "      <td>9.70</td>\n",
       "      <td>9.85</td>\n",
       "      <td>9.85</td>\n",
       "      <td>9.65</td>\n",
       "      <td>11570000.0</td>\n",
       "    </tr>\n",
       "    <tr>\n",
       "      <th>2011-08-22</th>\n",
       "      <td>9.51</td>\n",
       "      <td>9.68</td>\n",
       "      <td>9.69</td>\n",
       "      <td>9.49</td>\n",
       "      <td>8520000.0</td>\n",
       "    </tr>\n",
       "    <tr>\n",
       "      <th>2011-08-23</th>\n",
       "      <td>9.70</td>\n",
       "      <td>9.55</td>\n",
       "      <td>9.70</td>\n",
       "      <td>9.40</td>\n",
       "      <td>6520000.0</td>\n",
       "    </tr>\n",
       "    <tr>\n",
       "      <th>2011-08-24</th>\n",
       "      <td>9.52</td>\n",
       "      <td>9.80</td>\n",
       "      <td>9.80</td>\n",
       "      <td>9.52</td>\n",
       "      <td>5090000.0</td>\n",
       "    </tr>\n",
       "    <tr>\n",
       "      <th>2011-08-25</th>\n",
       "      <td>9.78</td>\n",
       "      <td>9.55</td>\n",
       "      <td>9.78</td>\n",
       "      <td>9.54</td>\n",
       "      <td>6120000.0</td>\n",
       "    </tr>\n",
       "    <tr>\n",
       "      <th>2011-08-26</th>\n",
       "      <td>9.46</td>\n",
       "      <td>9.73</td>\n",
       "      <td>9.73</td>\n",
       "      <td>9.43</td>\n",
       "      <td>4560000.0</td>\n",
       "    </tr>\n",
       "  </tbody>\n",
       "</table>\n",
       "</div>"
      ],
      "text/plain": [
       "            Close   Open   High    Low      Volume\n",
       "Date                                              \n",
       "2011-08-15  10.14  10.10  10.16  10.08   6490000.0\n",
       "2011-08-16  10.10  10.18  10.24  10.02   3160000.0\n",
       "2011-08-17  10.04  10.10  10.10  10.02   5410000.0\n",
       "2011-08-18   9.98  10.14  10.14   9.97   5350000.0\n",
       "2011-08-19   9.70   9.85   9.85   9.65  11570000.0\n",
       "2011-08-22   9.51   9.68   9.69   9.49   8520000.0\n",
       "2011-08-23   9.70   9.55   9.70   9.40   6520000.0\n",
       "2011-08-24   9.52   9.80   9.80   9.52   5090000.0\n",
       "2011-08-25   9.78   9.55   9.78   9.54   6120000.0\n",
       "2011-08-26   9.46   9.73   9.73   9.43   4560000.0"
      ]
     },
     "execution_count": 18,
     "metadata": {
      "tags": []
     },
     "output_type": "execute_result"
    }
   ],
   "source": [
    "# df_idx = pd.read_csv('data/GENTING_data_set.csv')\n",
    "df_idx = pd.read_csv(io.StringIO(uploaded['GENTING_data_set.csv'].decode('utf-8')))\n",
    "df_idx['Date'] = pd.to_datetime(df_idx[\"Date\"])\n",
    "clean_dataset(df_idx)\n",
    "df_idx.head(10)"
   ]
  },
  {
   "cell_type": "code",
   "execution_count": null,
   "metadata": {
    "colab": {},
    "colab_type": "code",
    "id": "YGXgtE7rO4xk"
   },
   "outputs": [],
   "source": [
    "#df_idx = df_idx.sort_index(axis=1, ascending=True)\n",
    "#df_idx = df_idx.iloc[::-1]\n",
    "#df_idx.head(10)"
   ]
  },
  {
   "cell_type": "code",
   "execution_count": 21,
   "metadata": {
    "colab": {
     "base_uri": "https://localhost:8080/",
     "height": 293
    },
    "colab_type": "code",
    "id": "70bQ8HcdO4xo",
    "outputId": "61ffe551-beb9-46d1-9de5-bf21e0b016d3"
   },
   "outputs": [
    {
     "data": {
      "text/plain": [
       "<matplotlib.axes._subplots.AxesSubplot at 0x7f81e3804e80>"
      ]
     },
     "execution_count": 21,
     "metadata": {
      "tags": []
     },
     "output_type": "execute_result"
    },
    {
     "data": {
      "image/png": "[encoded data removed]",
      "text/plain": [
       "<Figure size 432x288 with 1 Axes>"
      ]
     },
     "metadata": {
      "tags": []
     },
     "output_type": "display_data"
    }
   ],
   "source": [
    "data = df_idx[['Close']]\n",
    "data.plot(y='Close')"
   ]
  },
  {
   "cell_type": "code",
   "execution_count": 22,
   "metadata": {
    "colab": {
     "base_uri": "https://localhost:8080/",
     "height": 51
    },
    "colab_type": "code",
    "id": "Mv_s9Q0LO4xq",
    "outputId": "08b24cbb-cdc0-4e39-b0fd-c12b45fa00df"
   },
   "outputs": [
    {
     "name": "stdout",
     "output_type": "stream",
     "text": [
      "Total data: 7 years\n",
      "80 percent data = 2011 to 2016\n"
     ]
    }
   ],
   "source": [
    "diff = data.index.values[-1] - data.index.values[0]\n",
    "days = diff.astype('timedelta64[D]')\n",
    "days = days / np.timedelta64(1, 'D')\n",
    "years = int(days/365)\n",
    "print(\"Total data: %d years\"%years)\n",
    "print(\"80 percent data = 2011 to %d\"%(2011 + int(0.8*years)))"
   ]
  },
  {
   "cell_type": "markdown",
   "metadata": {
    "colab_type": "text",
    "id": "5uMN9-nZO4xs"
   },
   "source": [
    "### Create training and test data"
   ]
  },
  {
   "cell_type": "code",
   "execution_count": 23,
   "metadata": {
    "colab": {
     "base_uri": "https://localhost:8080/",
     "height": 667
    },
    "colab_type": "code",
    "id": "r8-zNnPNO4xt",
    "outputId": "eb36e62a-a938-432f-f656-82d36670a2c6"
   },
   "outputs": [
    {
     "data": {
      "image/png": "[encoded data removed]",
      "text/plain": [
       "<Figure size 720x864 with 1 Axes>"
      ]
     },
     "metadata": {
      "tags": []
     },
     "output_type": "display_data"
    }
   ],
   "source": [
    "split_date = pd.Timestamp('07-07-2018')\n",
    "\n",
    "train = data.loc[:split_date]\n",
    "test = data.loc[split_date:]\n",
    "\n",
    "ax = train.plot(figsize=(10,12))\n",
    "test.plot(ax=ax)\n",
    "plt.legend(['train', 'test'])\n",
    "plt.show()"
   ]
  },
  {
   "cell_type": "markdown",
   "metadata": {
    "colab_type": "text",
    "id": "l6uTTdCxO4xw"
   },
   "source": [
    "### Normalize the dataset"
   ]
  },
  {
   "cell_type": "code",
   "execution_count": null,
   "metadata": {
    "colab": {},
    "colab_type": "code",
    "id": "mO72hooIO4xw"
   },
   "outputs": [],
   "source": [
    "from sklearn.preprocessing import MinMaxScaler\n",
    "sc = MinMaxScaler()\n",
    "train_sc = sc.fit_transform(train)\n",
    "test_sc = sc.transform(test)"
   ]
  },
  {
   "cell_type": "code",
   "execution_count": null,
   "metadata": {
    "colab": {},
    "colab_type": "code",
    "id": "VlKT65g6O4xy"
   },
   "outputs": [],
   "source": [
    "train_sc_df = pd.DataFrame(train_sc, columns=['Y'], index=train.index)\n",
    "test_sc_df = pd.DataFrame(test_sc, columns=['Y'], index=test.index)\n",
    "\n",
    "for s in range(1,2):\n",
    "    train_sc_df['X_{}'.format(s)] = train_sc_df['Y'].shift(s)\n",
    "    test_sc_df['X_{}'.format(s)] = test_sc_df['Y'].shift(s)\n",
    "\n",
    "#print(train_sc_df)\n",
    "X_train = train_sc_df.dropna().drop('Y', axis=1)\n",
    "y_train = train_sc_df.dropna().drop('X_1', axis=1)\n",
    "\n",
    "X_test = test_sc_df.dropna().drop('Y', axis=1)\n",
    "y_test = test_sc_df.dropna().drop('X_1', axis=1)\n",
    "\n",
    "X_train = X_train.as_matrix()\n",
    "y_train = y_train.as_matrix()\n",
    "\n",
    "X_test = X_test.as_matrix()\n",
    "y_test = y_test.as_matrix()"
   ]
  },
  {
   "cell_type": "code",
   "execution_count": 26,
   "metadata": {
    "colab": {
     "base_uri": "https://localhost:8080/",
     "height": 51
    },
    "colab_type": "code",
    "id": "T-U4-zUyO4x1",
    "outputId": "5d9f2449-6e37-48ab-b646-7cb082c906d8"
   },
   "outputs": [
    {
     "name": "stdout",
     "output_type": "stream",
     "text": [
      "Train size: (1689 x 1)\n",
      "Test size: (130 x 1)\n"
     ]
    }
   ],
   "source": [
    "print('Train size: (%d x %d)'%(X_train.shape[0], X_train.shape[1]))\n",
    "print('Test size: (%d x %d)'%(X_test.shape[0], X_test.shape[1]))"
   ]
  },
  {
   "cell_type": "markdown",
   "metadata": {
    "colab_type": "text",
    "id": "9l47bVzzO4x6"
   },
   "source": [
    "### Setup baseline model of SVM regressor"
   ]
  },
  {
   "cell_type": "code",
   "execution_count": 27,
   "metadata": {
    "colab": {
     "base_uri": "https://localhost:8080/",
     "height": 105
    },
    "colab_type": "code",
    "id": "ZSq8vuTCO4x7",
    "outputId": "8dce4865-2410-4e10-f683-ce75e35d31e4"
   },
   "outputs": [
    {
     "name": "stderr",
     "output_type": "stream",
     "text": [
      "/usr/local/lib/python3.6/dist-packages/sklearn/utils/validation.py:761: DataConversionWarning: A column-vector y was passed when a 1d array was expected. Please change the shape of y to (n_samples, ), for example using ravel().\n",
      "  y = column_or_1d(y, warn=True)\n",
      "/usr/local/lib/python3.6/dist-packages/sklearn/svm/base.py:196: FutureWarning: The default value of gamma will change from 'auto' to 'scale' in version 0.22 to account better for unscaled features. Set gamma explicitly to 'auto' or 'scale' to avoid this warning.\n",
      "  \"avoid this warning.\", FutureWarning)\n"
     ]
    }
   ],
   "source": [
    "from sklearn.svm import SVR\n",
    "regressor = SVR(kernel='rbf')\n",
    "regressor.fit(X_train, y_train)\n",
    "y_pred = regressor.predict(X_test)"
   ]
  },
  {
   "cell_type": "code",
   "execution_count": 28,
   "metadata": {
    "colab": {
     "base_uri": "https://localhost:8080/",
     "height": 284
    },
    "colab_type": "code",
    "id": "4Q8wD1vFO4yE",
    "outputId": "e9f91936-13b8-439f-e524-23f2a279195c"
   },
   "outputs": [
    {
     "data": {
      "text/plain": [
       "[<matplotlib.lines.Line2D at 0x7f81dfee85c0>]"
      ]
     },
     "execution_count": 28,
     "metadata": {
      "tags": []
     },
     "output_type": "execute_result"
    },
    {
     "data": {
      "image/png": "[encoded data removed]",
      "text/plain": [
       "<Figure size 432x288 with 1 Axes>"
      ]
     },
     "metadata": {
      "tags": []
     },
     "output_type": "display_data"
    }
   ],
   "source": [
    "plt.plot(y_test)\n",
    "plt.plot(y_pred)"
   ]
  },
  {
   "cell_type": "code",
   "execution_count": 29,
   "metadata": {
    "colab": {
     "base_uri": "https://localhost:8080/",
     "height": 34
    },
    "colab_type": "code",
    "id": "dvJ8uPChO4yH",
    "outputId": "7652db73-7a6b-467e-da02-a58ad4dda430"
   },
   "outputs": [
    {
     "name": "stdout",
     "output_type": "stream",
     "text": [
      "R-squared is: 0.838649\n"
     ]
    }
   ],
   "source": [
    "from sklearn.metrics import r2_score\n",
    "\n",
    "def adj_r2_score(r2, n, k):\n",
    "    return 1-((1-r2)*((n-1)/(n-k-1)))\n",
    "\n",
    "r2_test = r2_score(y_test, y_pred)\n",
    "print(\"R-squared is: %f\"%r2_test)"
   ]
  },
  {
   "cell_type": "markdown",
   "metadata": {
    "colab_type": "text",
    "id": "MfsSaaZ8O4yL"
   },
   "source": [
    "### Build a neural network"
   ]
  },
  {
   "cell_type": "code",
   "execution_count": 30,
   "metadata": {
    "colab": {
     "base_uri": "https://localhost:8080/",
     "height": 34
    },
    "colab_type": "code",
    "id": "cv3moJulO4yM",
    "outputId": "40cbc8a7-216e-49e2-cc38-a7daba789c97"
   },
   "outputs": [
    {
     "name": "stderr",
     "output_type": "stream",
     "text": [
      "Using TensorFlow backend.\n"
     ]
    }
   ],
   "source": [
    "from keras.models import Sequential\n",
    "from keras.layers import Dense\n",
    "from keras.optimizers import Adam\n",
    "import keras.backend as K"
   ]
  },
  {
   "cell_type": "markdown",
   "metadata": {
    "colab_type": "text",
    "id": "vn7rKpC2O4yN"
   },
   "source": [
    "#### 1 hidden layer with 1 neuron"
   ]
  },
  {
   "cell_type": "code",
   "execution_count": 31,
   "metadata": {
    "colab": {
     "base_uri": "https://localhost:8080/",
     "height": 714
    },
    "colab_type": "code",
    "id": "PI-6J7PeO4yO",
    "outputId": "3bbaf4d2-acd0-4520-b8e5-f5d2b204afaf"
   },
   "outputs": [
    {
     "name": "stdout",
     "output_type": "stream",
     "text": [
      "Epoch 1/20\n",
      "1689/1689 [==============================] - 0s 266us/step - loss: 0.0026\n",
      "Epoch 2/20\n",
      "1689/1689 [==============================] - 0s 49us/step - loss: 0.0018\n",
      "Epoch 3/20\n",
      "1689/1689 [==============================] - 0s 44us/step - loss: 0.0017\n",
      "Epoch 4/20\n",
      "1689/1689 [==============================] - 0s 47us/step - loss: 0.0017\n",
      "Epoch 5/20\n",
      "1689/1689 [==============================] - 0s 51us/step - loss: 0.0017\n",
      "Epoch 6/20\n",
      "1689/1689 [==============================] - 0s 50us/step - loss: 0.0017\n",
      "Epoch 7/20\n",
      "1689/1689 [==============================] - 0s 47us/step - loss: 0.0017\n",
      "Epoch 8/20\n",
      "1689/1689 [==============================] - 0s 50us/step - loss: 0.0017\n",
      "Epoch 9/20\n",
      "1689/1689 [==============================] - 0s 46us/step - loss: 0.0017\n",
      "Epoch 10/20\n",
      "1689/1689 [==============================] - 0s 46us/step - loss: 0.0017\n",
      "Epoch 11/20\n",
      "1689/1689 [==============================] - 0s 45us/step - loss: 0.0017\n",
      "Epoch 12/20\n",
      "1689/1689 [==============================] - 0s 45us/step - loss: 0.0017\n",
      "Epoch 13/20\n",
      "1689/1689 [==============================] - 0s 48us/step - loss: 0.0017\n",
      "Epoch 14/20\n",
      "1689/1689 [==============================] - 0s 49us/step - loss: 0.0017\n",
      "Epoch 15/20\n",
      "1689/1689 [==============================] - 0s 47us/step - loss: 0.0017\n",
      "Epoch 16/20\n",
      "1689/1689 [==============================] - 0s 49us/step - loss: 0.0017\n",
      "Epoch 17/20\n",
      "1689/1689 [==============================] - 0s 51us/step - loss: 0.0017\n",
      "Epoch 18/20\n",
      "1689/1689 [==============================] - 0s 47us/step - loss: 0.0017\n",
      "Epoch 19/20\n",
      "1689/1689 [==============================] - 0s 48us/step - loss: 0.0017\n",
      "Epoch 20/20\n",
      "1689/1689 [==============================] - 0s 47us/step - loss: 0.0017\n"
     ]
    },
    {
     "data": {
      "text/plain": [
       "<keras.callbacks.History at 0x7f81d13a67f0>"
      ]
     },
     "execution_count": 31,
     "metadata": {
      "tags": []
     },
     "output_type": "execute_result"
    }
   ],
   "source": [
    "K.clear_session()\n",
    "model = Sequential()\n",
    "model.add(Dense(1, input_shape=(X_test.shape[1],), activation='tanh', kernel_initializer='lecun_uniform'))\n",
    "model.compile(optimizer=Adam(lr=0.001), loss='mean_squared_error')\n",
    "model.fit(X_train, y_train, batch_size=16, epochs=20, verbose=1)"
   ]
  },
  {
   "cell_type": "code",
   "execution_count": 32,
   "metadata": {
    "colab": {
     "base_uri": "https://localhost:8080/",
     "height": 284
    },
    "colab_type": "code",
    "id": "dc0-mG9BO4yS",
    "outputId": "c975ed92-5e85-4ec7-8277-fddcc93efe77"
   },
   "outputs": [
    {
     "name": "stdout",
     "output_type": "stream",
     "text": [
      "R-Squared: 0.877721\n"
     ]
    },
    {
     "data": {
      "image/png": "[encoded data removed]",
      "text/plain": [
       "<Figure size 432x288 with 1 Axes>"
      ]
     },
     "metadata": {
      "tags": []
     },
     "output_type": "display_data"
    }
   ],
   "source": [
    "y_pred = model.predict(X_test)\n",
    "plt.plot(y_test)\n",
    "plt.plot(y_pred)\n",
    "print('R-Squared: %f'%(r2_score(y_test, y_pred)))"
   ]
  },
  {
   "cell_type": "markdown",
   "metadata": {
    "colab_type": "text",
    "id": "kxL2OT6pO4yX"
   },
   "source": [
    "#### 2 Hidden Layers with 50 neurons each and ReLU activation function"
   ]
  },
  {
   "cell_type": "code",
   "execution_count": 33,
   "metadata": {
    "colab": {
     "base_uri": "https://localhost:8080/",
     "height": 714
    },
    "colab_type": "code",
    "id": "R3URxd2XO4yY",
    "outputId": "b213aa1e-496f-4f65-f035-0374755d981e"
   },
   "outputs": [
    {
     "name": "stdout",
     "output_type": "stream",
     "text": [
      "Epoch 1/20\n",
      "1689/1689 [==============================] - 0s 144us/step - loss: 0.0011\n",
      "Epoch 2/20\n",
      "1689/1689 [==============================] - 0s 58us/step - loss: 9.5874e-04\n",
      "Epoch 3/20\n",
      "1689/1689 [==============================] - 0s 57us/step - loss: 9.4433e-04\n",
      "Epoch 4/20\n",
      "1689/1689 [==============================] - 0s 58us/step - loss: 9.8704e-04\n",
      "Epoch 5/20\n",
      "1689/1689 [==============================] - 0s 59us/step - loss: 0.0011\n",
      "Epoch 6/20\n",
      "1689/1689 [==============================] - 0s 61us/step - loss: 9.2197e-04\n",
      "Epoch 7/20\n",
      "1689/1689 [==============================] - 0s 58us/step - loss: 8.8217e-04\n",
      "Epoch 8/20\n",
      "1689/1689 [==============================] - 0s 60us/step - loss: 0.0010\n",
      "Epoch 9/20\n",
      "1689/1689 [==============================] - 0s 58us/step - loss: 9.4738e-04\n",
      "Epoch 10/20\n",
      "1689/1689 [==============================] - 0s 58us/step - loss: 9.6245e-04\n",
      "Epoch 11/20\n",
      "1689/1689 [==============================] - 0s 67us/step - loss: 9.2550e-04\n",
      "Epoch 12/20\n",
      "1689/1689 [==============================] - 0s 57us/step - loss: 9.7793e-04\n",
      "Epoch 13/20\n",
      "1689/1689 [==============================] - 0s 61us/step - loss: 9.5617e-04\n",
      "Epoch 14/20\n",
      "1689/1689 [==============================] - 0s 60us/step - loss: 9.0231e-04\n",
      "Epoch 15/20\n",
      "1689/1689 [==============================] - 0s 57us/step - loss: 9.5398e-04\n",
      "Epoch 16/20\n",
      "1689/1689 [==============================] - 0s 58us/step - loss: 0.0010\n",
      "Epoch 17/20\n",
      "1689/1689 [==============================] - 0s 60us/step - loss: 9.4388e-04\n",
      "Epoch 18/20\n",
      "1689/1689 [==============================] - 0s 61us/step - loss: 9.0684e-04\n",
      "Epoch 19/20\n",
      "1689/1689 [==============================] - 0s 60us/step - loss: 0.0011\n",
      "Epoch 20/20\n",
      "1689/1689 [==============================] - 0s 58us/step - loss: 9.2678e-04\n"
     ]
    },
    {
     "data": {
      "text/plain": [
       "<keras.callbacks.History at 0x7f81cd8d3e10>"
      ]
     },
     "execution_count": 33,
     "metadata": {
      "tags": []
     },
     "output_type": "execute_result"
    }
   ],
   "source": [
    "K.clear_session()\n",
    "model = Sequential()\n",
    "model.add(Dense(50, input_shape=(X_test.shape[1],), activation='relu', kernel_initializer='lecun_uniform'))\n",
    "model.add(Dense(50, input_shape=(X_test.shape[1],), activation='relu'))\n",
    "model.add(Dense(1))\n",
    "model.compile(optimizer=Adam(lr=0.001), loss='mean_squared_error')\n",
    "model.fit(X_train, y_train, batch_size=16, epochs=20, verbose=1)"
   ]
  },
  {
   "cell_type": "code",
   "execution_count": 34,
   "metadata": {
    "colab": {
     "base_uri": "https://localhost:8080/",
     "height": 284
    },
    "colab_type": "code",
    "id": "UOTkuQogO4ya",
    "outputId": "7a47a565-27c5-46e2-a976-083e8926ce9c"
   },
   "outputs": [
    {
     "name": "stdout",
     "output_type": "stream",
     "text": [
      "R-Squared: 0.929931\n"
     ]
    },
    {
     "data": {
      "image/png": "[encoded data removed]",
      "text/plain": [
       "<Figure size 432x288 with 1 Axes>"
      ]
     },
     "metadata": {
      "tags": []
     },
     "output_type": "display_data"
    }
   ],
   "source": [
    "y_pred = model.predict(X_test)\n",
    "plt.plot(y_test)\n",
    "plt.plot(y_pred)\n",
    "print('R-Squared: %f'%(r2_score(y_test, y_pred)))"
   ]
  },
  {
   "cell_type": "markdown",
   "metadata": {
    "colab_type": "text",
    "id": "8DBgdcBNO4ye"
   },
   "source": [
    "## LSTM\n",
    "\n",
    "* https://github.com/neelabhpant/Deep-Learning-in-Python/blob/master/usd_to_inr_models.ipynb"
   ]
  },
  {
   "cell_type": "code",
   "execution_count": 36,
   "metadata": {
    "colab": {
     "base_uri": "https://localhost:8080/",
     "height": 390
    },
    "colab_type": "code",
    "id": "XuMqtrBhO4yf",
    "outputId": "ed3e9623-418a-4ad9-898b-e24759171c5d"
   },
   "outputs": [
    {
     "data": {
      "application/vnd.dataresource+json": {
       "data": [
        {
         "Close": 10.14,
         "Date": "2011-08-15T00:00:00.000Z",
         "High": 10.16,
         "Low": 10.08,
         "Open": 10.1,
         "Volume": 6490000
        },
        {
         "Close": 10.1,
         "Date": "2011-08-16T00:00:00.000Z",
         "High": 10.24,
         "Low": 10.02,
         "Open": 10.18,
         "Volume": 3160000
        },
        {
         "Close": 10.04,
         "Date": "2011-08-17T00:00:00.000Z",
         "High": 10.1,
         "Low": 10.02,
         "Open": 10.1,
         "Volume": 5410000
        },
        {
         "Close": 9.98,
         "Date": "2011-08-18T00:00:00.000Z",
         "High": 10.14,
         "Low": 9.97,
         "Open": 10.14,
         "Volume": 5350000
        },
        {
         "Close": 9.7,
         "Date": "2011-08-19T00:00:00.000Z",
         "High": 9.85,
         "Low": 9.65,
         "Open": 9.85,
         "Volume": 11570000
        },
        {
         "Close": 9.51,
         "Date": "2011-08-22T00:00:00.000Z",
         "High": 9.69,
         "Low": 9.49,
         "Open": 9.68,
         "Volume": 8520000
        },
        {
         "Close": 9.7,
         "Date": "2011-08-23T00:00:00.000Z",
         "High": 9.7,
         "Low": 9.4,
         "Open": 9.55,
         "Volume": 6520000
        },
        {
         "Close": 9.52,
         "Date": "2011-08-24T00:00:00.000Z",
         "High": 9.8,
         "Low": 9.52,
         "Open": 9.8,
         "Volume": 5090000
        },
        {
         "Close": 9.78,
         "Date": "2011-08-25T00:00:00.000Z",
         "High": 9.78,
         "Low": 9.54,
         "Open": 9.55,
         "Volume": 6120000
        },
        {
         "Close": 9.46,
         "Date": "2011-08-26T00:00:00.000Z",
         "High": 9.73,
         "Low": 9.43,
         "Open": 9.73,
         "Volume": 4560000
        }
       ],
       "schema": {
        "fields": [
         {
          "name": "Date",
          "type": "datetime"
         },
         {
          "name": "Close",
          "type": "number"
         },
         {
          "name": "Open",
          "type": "number"
         },
         {
          "name": "High",
          "type": "number"
         },
         {
          "name": "Low",
          "type": "number"
         },
         {
          "name": "Volume",
          "type": "number"
         }
        ],
        "pandas_version": "0.20.0",
        "primaryKey": [
         "Date"
        ]
       }
      },
      "text/html": [
       "<div>\n",
       "<style scoped>\n",
       "    .dataframe tbody tr th:only-of-type {\n",
       "        vertical-align: middle;\n",
       "    }\n",
       "\n",
       "    .dataframe tbody tr th {\n",
       "        vertical-align: top;\n",
       "    }\n",
       "\n",
       "    .dataframe thead th {\n",
       "        text-align: right;\n",
       "    }\n",
       "</style>\n",
       "<table border=\"1\" class=\"dataframe\">\n",
       "  <thead>\n",
       "    <tr style=\"text-align: right;\">\n",
       "      <th></th>\n",
       "      <th>Close</th>\n",
       "      <th>Open</th>\n",
       "      <th>High</th>\n",
       "      <th>Low</th>\n",
       "      <th>Volume</th>\n",
       "    </tr>\n",
       "    <tr>\n",
       "      <th>Date</th>\n",
       "      <th></th>\n",
       "      <th></th>\n",
       "      <th></th>\n",
       "      <th></th>\n",
       "      <th></th>\n",
       "    </tr>\n",
       "  </thead>\n",
       "  <tbody>\n",
       "    <tr>\n",
       "      <th>2011-08-15</th>\n",
       "      <td>10.14</td>\n",
       "      <td>10.10</td>\n",
       "      <td>10.16</td>\n",
       "      <td>10.08</td>\n",
       "      <td>6490000.0</td>\n",
       "    </tr>\n",
       "    <tr>\n",
       "      <th>2011-08-16</th>\n",
       "      <td>10.10</td>\n",
       "      <td>10.18</td>\n",
       "      <td>10.24</td>\n",
       "      <td>10.02</td>\n",
       "      <td>3160000.0</td>\n",
       "    </tr>\n",
       "    <tr>\n",
       "      <th>2011-08-17</th>\n",
       "      <td>10.04</td>\n",
       "      <td>10.10</td>\n",
       "      <td>10.10</td>\n",
       "      <td>10.02</td>\n",
       "      <td>5410000.0</td>\n",
       "    </tr>\n",
       "    <tr>\n",
       "      <th>2011-08-18</th>\n",
       "      <td>9.98</td>\n",
       "      <td>10.14</td>\n",
       "      <td>10.14</td>\n",
       "      <td>9.97</td>\n",
       "      <td>5350000.0</td>\n",
       "    </tr>\n",
       "    <tr>\n",
       "      <th>2011-08-19</th>\n",
       "      <td>9.70</td>\n",
       "      <td>9.85</td>\n",
       "      <td>9.85</td>\n",
       "      <td>9.65</td>\n",
       "      <td>11570000.0</td>\n",
       "    </tr>\n",
       "    <tr>\n",
       "      <th>2011-08-22</th>\n",
       "      <td>9.51</td>\n",
       "      <td>9.68</td>\n",
       "      <td>9.69</td>\n",
       "      <td>9.49</td>\n",
       "      <td>8520000.0</td>\n",
       "    </tr>\n",
       "    <tr>\n",
       "      <th>2011-08-23</th>\n",
       "      <td>9.70</td>\n",
       "      <td>9.55</td>\n",
       "      <td>9.70</td>\n",
       "      <td>9.40</td>\n",
       "      <td>6520000.0</td>\n",
       "    </tr>\n",
       "    <tr>\n",
       "      <th>2011-08-24</th>\n",
       "      <td>9.52</td>\n",
       "      <td>9.80</td>\n",
       "      <td>9.80</td>\n",
       "      <td>9.52</td>\n",
       "      <td>5090000.0</td>\n",
       "    </tr>\n",
       "    <tr>\n",
       "      <th>2011-08-25</th>\n",
       "      <td>9.78</td>\n",
       "      <td>9.55</td>\n",
       "      <td>9.78</td>\n",
       "      <td>9.54</td>\n",
       "      <td>6120000.0</td>\n",
       "    </tr>\n",
       "    <tr>\n",
       "      <th>2011-08-26</th>\n",
       "      <td>9.46</td>\n",
       "      <td>9.73</td>\n",
       "      <td>9.73</td>\n",
       "      <td>9.43</td>\n",
       "      <td>4560000.0</td>\n",
       "    </tr>\n",
       "  </tbody>\n",
       "</table>\n",
       "</div>"
      ],
      "text/plain": [
       "            Close   Open   High    Low      Volume\n",
       "Date                                              \n",
       "2011-08-15  10.14  10.10  10.16  10.08   6490000.0\n",
       "2011-08-16  10.10  10.18  10.24  10.02   3160000.0\n",
       "2011-08-17  10.04  10.10  10.10  10.02   5410000.0\n",
       "2011-08-18   9.98  10.14  10.14   9.97   5350000.0\n",
       "2011-08-19   9.70   9.85   9.85   9.65  11570000.0\n",
       "2011-08-22   9.51   9.68   9.69   9.49   8520000.0\n",
       "2011-08-23   9.70   9.55   9.70   9.40   6520000.0\n",
       "2011-08-24   9.52   9.80   9.80   9.52   5090000.0\n",
       "2011-08-25   9.78   9.55   9.78   9.54   6120000.0\n",
       "2011-08-26   9.46   9.73   9.73   9.43   4560000.0"
      ]
     },
     "execution_count": 36,
     "metadata": {
      "tags": []
     },
     "output_type": "execute_result"
    }
   ],
   "source": [
    "df_idx = pd.read_csv(io.StringIO(uploaded['GENTING_data_set.csv'].decode('utf-8')))\n",
    "df_idx['Date'] = pd.to_datetime(df_idx[\"Date\"])\n",
    "clean_dataset(df_idx)\n",
    "df_idx.head(10)"
   ]
  },
  {
   "cell_type": "code",
   "execution_count": 38,
   "metadata": {
    "colab": {
     "base_uri": "https://localhost:8080/",
     "height": 293
    },
    "colab_type": "code",
    "id": "bEumrv3hO4yh",
    "outputId": "6dc25b00-81ec-4a6a-94a8-8860b234b441"
   },
   "outputs": [
    {
     "data": {
      "text/plain": [
       "<matplotlib.axes._subplots.AxesSubplot at 0x7f81cc476128>"
      ]
     },
     "execution_count": 38,
     "metadata": {
      "tags": []
     },
     "output_type": "execute_result"
    },
    {
     "data": {
      "image/png": "[encoded data removed]",
      "text/plain": [
       "<Figure size 432x288 with 1 Axes>"
      ]
     },
     "metadata": {
      "tags": []
     },
     "output_type": "display_data"
    }
   ],
   "source": [
    "df = df_idx[[\"Close\"]]\n",
    "df.plot()"
   ]
  },
  {
   "cell_type": "code",
   "execution_count": 39,
   "metadata": {
    "colab": {
     "base_uri": "https://localhost:8080/",
     "height": 293
    },
    "colab_type": "code",
    "id": "XkQmYxprO4yl",
    "outputId": "e33c301a-636d-474c-e291-6915accefad8"
   },
   "outputs": [
    {
     "data": {
      "text/plain": [
       "<matplotlib.legend.Legend at 0x7f81e38e46a0>"
      ]
     },
     "execution_count": 39,
     "metadata": {
      "tags": []
     },
     "output_type": "execute_result"
    },
    {
     "data": {
      "image/png": "[encoded data removed]",
      "text/plain": [
       "<Figure size 432x288 with 1 Axes>"
      ]
     },
     "metadata": {
      "tags": []
     },
     "output_type": "display_data"
    }
   ],
   "source": [
    "split_date = pd.Timestamp('07-07-2018')\n",
    "\n",
    "train = df.loc[:split_date]\n",
    "test = df.loc[split_date:]\n",
    "\n",
    "ax = train.plot()\n",
    "test.plot(ax=ax)\n",
    "plt.legend(['train', 'test'])"
   ]
  },
  {
   "cell_type": "code",
   "execution_count": 64,
   "metadata": {
    "colab": {
     "base_uri": "https://localhost:8080/",
     "height": 1122
    },
    "colab_type": "code",
    "id": "zU20V-aMO4yo",
    "outputId": "cb3cc40b-7db1-4de9-c14d-54f73fc1fac2"
   },
   "outputs": [
    {
     "name": "stdout",
     "output_type": "stream",
     "text": [
      "            Close\n",
      "Date             \n",
      "2018-07-09   8.37\n",
      "2018-07-10   8.50\n",
      "2018-07-11   8.60\n",
      "2018-07-12   8.52\n",
      "2018-07-13   8.62\n",
      "2018-07-16   8.66\n",
      "2018-07-17   8.68\n",
      "2018-07-18   8.75\n",
      "2018-07-19   8.82\n",
      "2018-07-20   8.85\n",
      "2018-07-23   8.81\n",
      "2018-07-24   8.78\n",
      "2018-07-25   8.69\n",
      "2018-07-26   8.62\n",
      "2018-07-27   8.70\n",
      "2018-07-30   8.71\n",
      "2018-07-31   8.75\n",
      "2018-08-01   8.71\n",
      "2018-08-02   8.71\n",
      "2018-08-03   8.70\n",
      "2018-08-06   8.69\n",
      "2018-08-07   8.70\n",
      "2018-08-08   8.70\n",
      "2018-08-09   8.80\n",
      "2018-08-10   8.75\n",
      "2018-08-13   8.66\n",
      "2018-08-14   8.71\n",
      "2018-08-15   8.61\n",
      "2018-08-16   8.55\n",
      "2018-08-17   8.61\n",
      "...           ...\n",
      "2018-12-06   6.28\n",
      "2018-12-07   6.26\n",
      "2018-12-10   6.05\n",
      "2018-12-11   5.93\n",
      "2018-12-12   6.00\n",
      "2018-12-13   6.02\n",
      "2018-12-14   6.07\n",
      "2018-12-17   6.04\n",
      "2018-12-18   6.03\n",
      "2018-12-19   6.33\n",
      "2018-12-20   6.23\n",
      "2018-12-21   6.27\n",
      "2018-12-24   6.23\n",
      "2018-12-26   6.02\n",
      "2018-12-27   6.09\n",
      "2018-12-28   6.06\n",
      "2018-12-31   6.10\n",
      "2019-01-02   6.00\n",
      "2019-01-03   5.96\n",
      "2019-01-04   5.93\n",
      "2019-01-07   6.06\n",
      "2019-01-08   6.31\n",
      "2019-01-09   6.41\n",
      "2019-01-10   6.40\n",
      "2019-01-11   6.45\n",
      "2019-01-14   6.38\n",
      "2019-01-15   6.45\n",
      "2019-01-16   6.42\n",
      "2019-01-17   6.82\n",
      "2019-01-18   6.79\n",
      "\n",
      "[131 rows x 1 columns]\n"
     ]
    }
   ],
   "source": [
    "from sklearn.preprocessing import MinMaxScaler\n",
    "from sklearn.metrics import r2_score\n",
    "\n",
    "sc = MinMaxScaler()\n",
    "train_sc = sc.fit_transform(train)\n",
    "test_sc = sc.transform(test)"
   ]
  },
  {
   "cell_type": "code",
   "execution_count": null,
   "metadata": {
    "colab": {},
    "colab_type": "code",
    "id": "9ZKwJpoyO4yp"
   },
   "outputs": [],
   "source": [
    "X_train = train_sc[:-1]\n",
    "y_train = train_sc[1:]\n",
    "\n",
    "X_test = test_sc[:-1]\n",
    "y_test = test_sc[1:]"
   ]
  },
  {
   "cell_type": "code",
   "execution_count": null,
   "metadata": {
    "colab": {},
    "colab_type": "code",
    "id": "sZUDYE04O4yq"
   },
   "outputs": [],
   "source": [
    "from keras.models import Sequential\n",
    "from keras.layers import Dense\n",
    "import keras.backend as K\n",
    "from keras.callbacks import EarlyStopping\n",
    "from keras.optimizers import Adam\n",
    "from keras.models import load_model"
   ]
  },
  {
   "cell_type": "markdown",
   "metadata": {
    "colab_type": "text",
    "id": "y0rNQe9pT6Eu"
   },
   "source": [
    "### Non shifted - ANN"
   ]
  },
  {
   "cell_type": "code",
   "execution_count": 47,
   "metadata": {
    "colab": {
     "base_uri": "https://localhost:8080/",
     "height": 2414
    },
    "colab_type": "code",
    "id": "brvISr1oO4yt",
    "outputId": "d2800f63-9fe3-4d04-8e9e-98d19b52c968"
   },
   "outputs": [
    {
     "name": "stdout",
     "output_type": "stream",
     "text": [
      "Epoch 1/200\n",
      "1689/1689 [==============================] - 0s 88us/step - loss: 0.2361\n",
      "Epoch 2/200\n",
      "1689/1689 [==============================] - 0s 28us/step - loss: 0.1175\n",
      "Epoch 3/200\n",
      "1689/1689 [==============================] - 0s 31us/step - loss: 0.0538\n",
      "Epoch 4/200\n",
      "1689/1689 [==============================] - 0s 25us/step - loss: 0.0258\n",
      "Epoch 5/200\n",
      "1689/1689 [==============================] - 0s 26us/step - loss: 0.0158\n",
      "Epoch 6/200\n",
      "1689/1689 [==============================] - 0s 28us/step - loss: 0.0127\n",
      "Epoch 7/200\n",
      "1689/1689 [==============================] - 0s 25us/step - loss: 0.0116\n",
      "Epoch 8/200\n",
      "1689/1689 [==============================] - 0s 28us/step - loss: 0.0110\n",
      "Epoch 9/200\n",
      "1689/1689 [==============================] - 0s 27us/step - loss: 0.0104\n",
      "Epoch 10/200\n",
      "1689/1689 [==============================] - 0s 25us/step - loss: 0.0099\n",
      "Epoch 11/200\n",
      "1689/1689 [==============================] - 0s 26us/step - loss: 0.0094\n",
      "Epoch 12/200\n",
      "1689/1689 [==============================] - 0s 27us/step - loss: 0.0089\n",
      "Epoch 13/200\n",
      "1689/1689 [==============================] - 0s 26us/step - loss: 0.0084\n",
      "Epoch 14/200\n",
      "1689/1689 [==============================] - 0s 25us/step - loss: 0.0079\n",
      "Epoch 15/200\n",
      "1689/1689 [==============================] - 0s 26us/step - loss: 0.0074\n",
      "Epoch 16/200\n",
      "1689/1689 [==============================] - 0s 27us/step - loss: 0.0069\n",
      "Epoch 17/200\n",
      "1689/1689 [==============================] - 0s 27us/step - loss: 0.0065\n",
      "Epoch 18/200\n",
      "1689/1689 [==============================] - 0s 28us/step - loss: 0.0060\n",
      "Epoch 19/200\n",
      "1689/1689 [==============================] - 0s 27us/step - loss: 0.0055\n",
      "Epoch 20/200\n",
      "1689/1689 [==============================] - 0s 28us/step - loss: 0.0051\n",
      "Epoch 21/200\n",
      "1689/1689 [==============================] - 0s 28us/step - loss: 0.0047\n",
      "Epoch 22/200\n",
      "1689/1689 [==============================] - 0s 26us/step - loss: 0.0043\n",
      "Epoch 23/200\n",
      "1689/1689 [==============================] - 0s 27us/step - loss: 0.0039\n",
      "Epoch 24/200\n",
      "1689/1689 [==============================] - 0s 29us/step - loss: 0.0036\n",
      "Epoch 25/200\n",
      "1689/1689 [==============================] - 0s 26us/step - loss: 0.0032\n",
      "Epoch 26/200\n",
      "1689/1689 [==============================] - 0s 27us/step - loss: 0.0029\n",
      "Epoch 27/200\n",
      "1689/1689 [==============================] - 0s 28us/step - loss: 0.0027\n",
      "Epoch 28/200\n",
      "1689/1689 [==============================] - 0s 25us/step - loss: 0.0024\n",
      "Epoch 29/200\n",
      "1689/1689 [==============================] - 0s 27us/step - loss: 0.0022\n",
      "Epoch 30/200\n",
      "1689/1689 [==============================] - 0s 28us/step - loss: 0.0020\n",
      "Epoch 31/200\n",
      "1689/1689 [==============================] - 0s 28us/step - loss: 0.0018\n",
      "Epoch 32/200\n",
      "1689/1689 [==============================] - 0s 27us/step - loss: 0.0016\n",
      "Epoch 33/200\n",
      "1689/1689 [==============================] - 0s 25us/step - loss: 0.0015\n",
      "Epoch 34/200\n",
      "1689/1689 [==============================] - 0s 28us/step - loss: 0.0014\n",
      "Epoch 35/200\n",
      "1689/1689 [==============================] - 0s 27us/step - loss: 0.0013\n",
      "Epoch 36/200\n",
      "1689/1689 [==============================] - 0s 25us/step - loss: 0.0012\n",
      "Epoch 37/200\n",
      "1689/1689 [==============================] - 0s 27us/step - loss: 0.0011\n",
      "Epoch 38/200\n",
      "1689/1689 [==============================] - 0s 29us/step - loss: 0.0011\n",
      "Epoch 39/200\n",
      "1689/1689 [==============================] - 0s 23us/step - loss: 0.0010\n",
      "Epoch 40/200\n",
      "1689/1689 [==============================] - 0s 25us/step - loss: 9.6808e-04\n",
      "Epoch 41/200\n",
      "1689/1689 [==============================] - 0s 24us/step - loss: 9.3649e-04\n",
      "Epoch 42/200\n",
      "1689/1689 [==============================] - 0s 24us/step - loss: 9.1147e-04\n",
      "Epoch 43/200\n",
      "1689/1689 [==============================] - 0s 24us/step - loss: 8.9184e-04\n",
      "Epoch 44/200\n",
      "1689/1689 [==============================] - 0s 23us/step - loss: 8.7661e-04\n",
      "Epoch 45/200\n",
      "1689/1689 [==============================] - 0s 25us/step - loss: 8.6489e-04\n",
      "Epoch 46/200\n",
      "1689/1689 [==============================] - 0s 22us/step - loss: 8.5596e-04\n",
      "Epoch 47/200\n",
      "1689/1689 [==============================] - 0s 23us/step - loss: 8.4917e-04\n",
      "Epoch 48/200\n",
      "1689/1689 [==============================] - 0s 23us/step - loss: 8.4406e-04\n",
      "Epoch 49/200\n",
      "1689/1689 [==============================] - 0s 23us/step - loss: 8.4022e-04\n",
      "Epoch 50/200\n",
      "1689/1689 [==============================] - 0s 24us/step - loss: 8.3739e-04\n",
      "Epoch 51/200\n",
      "1689/1689 [==============================] - 0s 25us/step - loss: 8.3529e-04\n",
      "Epoch 52/200\n",
      "1689/1689 [==============================] - 0s 25us/step - loss: 8.3368e-04\n",
      "Epoch 53/200\n",
      "1689/1689 [==============================] - 0s 25us/step - loss: 8.3247e-04\n",
      "Epoch 54/200\n",
      "1689/1689 [==============================] - 0s 24us/step - loss: 8.3158e-04\n",
      "Epoch 55/200\n",
      "1689/1689 [==============================] - 0s 23us/step - loss: 8.3091e-04\n",
      "Epoch 56/200\n",
      "1689/1689 [==============================] - 0s 24us/step - loss: 8.3039e-04\n",
      "Epoch 57/200\n",
      "1689/1689 [==============================] - 0s 22us/step - loss: 8.2998e-04\n",
      "Epoch 58/200\n",
      "1689/1689 [==============================] - 0s 23us/step - loss: 8.2964e-04\n",
      "Epoch 59/200\n",
      "1689/1689 [==============================] - 0s 23us/step - loss: 8.2937e-04\n",
      "Epoch 60/200\n",
      "1689/1689 [==============================] - 0s 24us/step - loss: 8.2918e-04\n",
      "Epoch 61/200\n",
      "1689/1689 [==============================] - 0s 24us/step - loss: 8.2906e-04\n",
      "Epoch 62/200\n",
      "1689/1689 [==============================] - 0s 23us/step - loss: 8.2897e-04\n",
      "Epoch 63/200\n",
      "1689/1689 [==============================] - 0s 25us/step - loss: 8.2890e-04\n",
      "Epoch 64/200\n",
      "1689/1689 [==============================] - 0s 25us/step - loss: 8.2887e-04\n",
      "Epoch 65/200\n",
      "1689/1689 [==============================] - 0s 25us/step - loss: 8.2885e-04\n",
      "Epoch 66/200\n",
      "1689/1689 [==============================] - 0s 24us/step - loss: 8.2883e-04\n",
      "Epoch 67/200\n",
      "1689/1689 [==============================] - 0s 25us/step - loss: 8.2882e-04\n",
      "Epoch 68/200\n",
      "1689/1689 [==============================] - 0s 23us/step - loss: 8.2881e-04\n",
      "Epoch 69/200\n",
      "1689/1689 [==============================] - 0s 23us/step - loss: 8.2883e-04\n",
      "Epoch 70/200\n",
      "1689/1689 [==============================] - 0s 24us/step - loss: 8.2886e-04\n",
      "Epoch 00070: early stopping\n"
     ]
    }
   ],
   "source": [
    "K.clear_session()\n",
    "\n",
    "model = Sequential()\n",
    "model.add(Dense(12, input_dim=1, activation='relu'))\n",
    "model.add(Dense(1))\n",
    "model.compile(loss='mean_squared_error', optimizer='adam')\n",
    "early_stop = EarlyStopping(monitor='loss', patience=2, verbose=1)\n",
    "history = model.fit(X_train, y_train, epochs=200, batch_size=32, verbose=1, callbacks=[early_stop], shuffle=False)"
   ]
  },
  {
   "cell_type": "code",
   "execution_count": 48,
   "metadata": {
    "colab": {
     "base_uri": "https://localhost:8080/",
     "height": 102
    },
    "colab_type": "code",
    "id": "I7mpllQ4O4yu",
    "outputId": "80f37590-4a40-43ec-e777-6d9cfc3b9106"
   },
   "outputs": [
    {
     "name": "stdout",
     "output_type": "stream",
     "text": [
      "The R2 score on the Train set is:\t0.978\n",
      "The Adjusted R2 score on the Train set is:\t0.978\n",
      "\n",
      "The R2 score on the Test set is:\t0.931\n",
      "The Adjusted R2 score on the Test set is:\t0.931\n"
     ]
    }
   ],
   "source": [
    "y_pred_test_ann = model.predict(X_test)\n",
    "y_train_pred_ann = model.predict(X_train)\n",
    "print(\"The R2 score on the Train set is:\\t{:0.3f}\".format(r2_score(y_train, y_train_pred_ann)))\n",
    "r2_train = r2_score(y_train, y_train_pred_ann)\n",
    "print(\"The Adjusted R2 score on the Train set is:\\t{:0.3f}\\n\".format(adj_r2_score(r2_train, X_train.shape[0], X_train.shape[1])))\n",
    "print(\"The R2 score on the Test set is:\\t{:0.3f}\".format(r2_score(y_test, y_pred_test_ann)))\n",
    "r2_test = r2_score(y_test, y_pred_test_ann)\n",
    "print(\"The Adjusted R2 score on the Test set is:\\t{:0.3f}\".format(adj_r2_score(r2_test, X_test.shape[0], X_test.shape[1])))"
   ]
  },
  {
   "cell_type": "code",
   "execution_count": null,
   "metadata": {
    "colab": {},
    "colab_type": "code",
    "id": "cRLS0rc5O4yw"
   },
   "outputs": [],
   "source": [
    "model.save('ANN_NonShift.h5')"
   ]
  },
  {
   "cell_type": "markdown",
   "metadata": {
    "colab_type": "text",
    "id": "8PWABgrwO4yx"
   },
   "source": [
    "### Process the data for LSTM"
   ]
  },
  {
   "cell_type": "code",
   "execution_count": null,
   "metadata": {
    "colab": {},
    "colab_type": "code",
    "id": "_hRPaUtKO4yz"
   },
   "outputs": [],
   "source": [
    "X_tr_t = X_train.reshape(X_train.shape[0], 1, X_train.shape[1])\n",
    "X_tst_t = X_test.reshape(X_test.shape[0], 1, X_test.shape[1])\n",
    "#print(X_tr_t)"
   ]
  },
  {
   "cell_type": "code",
   "execution_count": 51,
   "metadata": {
    "colab": {
     "base_uri": "https://localhost:8080/",
     "height": 6902
    },
    "colab_type": "code",
    "id": "laL9TQidO4y2",
    "outputId": "2f58085d-c380-4d4f-90de-b4ff697287a8"
   },
   "outputs": [
    {
     "name": "stdout",
     "output_type": "stream",
     "text": [
      "Epoch 1/200\n",
      "1689/1689 [==============================] - 1s 327us/step - loss: 0.5930\n",
      "Epoch 2/200\n",
      "1689/1689 [==============================] - 0s 55us/step - loss: 0.4243\n",
      "Epoch 3/200\n",
      "1689/1689 [==============================] - 0s 53us/step - loss: 0.2972\n",
      "Epoch 4/200\n",
      "1689/1689 [==============================] - 0s 54us/step - loss: 0.2046\n",
      "Epoch 5/200\n",
      "1689/1689 [==============================] - 0s 53us/step - loss: 0.1367\n",
      "Epoch 6/200\n",
      "1689/1689 [==============================] - 0s 54us/step - loss: 0.0895\n",
      "Epoch 7/200\n",
      "1689/1689 [==============================] - 0s 53us/step - loss: 0.0600\n",
      "Epoch 8/200\n",
      "1689/1689 [==============================] - 0s 54us/step - loss: 0.0436\n",
      "Epoch 9/200\n",
      "1689/1689 [==============================] - 0s 54us/step - loss: 0.0354\n",
      "Epoch 10/200\n",
      "1689/1689 [==============================] - 0s 53us/step - loss: 0.0314\n",
      "Epoch 11/200\n",
      "1689/1689 [==============================] - 0s 53us/step - loss: 0.0292\n",
      "Epoch 12/200\n",
      "1689/1689 [==============================] - 0s 54us/step - loss: 0.0278\n",
      "Epoch 13/200\n",
      "1689/1689 [==============================] - 0s 56us/step - loss: 0.0266\n",
      "Epoch 14/200\n",
      "1689/1689 [==============================] - 0s 54us/step - loss: 0.0256\n",
      "Epoch 15/200\n",
      "1689/1689 [==============================] - 0s 55us/step - loss: 0.0246\n",
      "Epoch 16/200\n",
      "1689/1689 [==============================] - 0s 55us/step - loss: 0.0236\n",
      "Epoch 17/200\n",
      "1689/1689 [==============================] - 0s 54us/step - loss: 0.0226\n",
      "Epoch 18/200\n",
      "1689/1689 [==============================] - 0s 54us/step - loss: 0.0217\n",
      "Epoch 19/200\n",
      "1689/1689 [==============================] - 0s 53us/step - loss: 0.0207\n",
      "Epoch 20/200\n",
      "1689/1689 [==============================] - 0s 54us/step - loss: 0.0198\n",
      "Epoch 21/200\n",
      "1689/1689 [==============================] - 0s 52us/step - loss: 0.0189\n",
      "Epoch 22/200\n",
      "1689/1689 [==============================] - 0s 54us/step - loss: 0.0180\n",
      "Epoch 23/200\n",
      "1689/1689 [==============================] - 0s 53us/step - loss: 0.0171\n",
      "Epoch 24/200\n",
      "1689/1689 [==============================] - 0s 55us/step - loss: 0.0162\n",
      "Epoch 25/200\n",
      "1689/1689 [==============================] - 0s 54us/step - loss: 0.0154\n",
      "Epoch 26/200\n",
      "1689/1689 [==============================] - 0s 53us/step - loss: 0.0145\n",
      "Epoch 27/200\n",
      "1689/1689 [==============================] - 0s 54us/step - loss: 0.0137\n",
      "Epoch 28/200\n",
      "1689/1689 [==============================] - 0s 54us/step - loss: 0.0129\n",
      "Epoch 29/200\n",
      "1689/1689 [==============================] - 0s 54us/step - loss: 0.0121\n",
      "Epoch 30/200\n",
      "1689/1689 [==============================] - 0s 53us/step - loss: 0.0114\n",
      "Epoch 31/200\n",
      "1689/1689 [==============================] - 0s 53us/step - loss: 0.0107\n",
      "Epoch 32/200\n",
      "1689/1689 [==============================] - 0s 55us/step - loss: 0.0100\n",
      "Epoch 33/200\n",
      "1689/1689 [==============================] - 0s 55us/step - loss: 0.0093\n",
      "Epoch 34/200\n",
      "1689/1689 [==============================] - 0s 54us/step - loss: 0.0087\n",
      "Epoch 35/200\n",
      "1689/1689 [==============================] - 0s 57us/step - loss: 0.0081\n",
      "Epoch 36/200\n",
      "1689/1689 [==============================] - 0s 54us/step - loss: 0.0075\n",
      "Epoch 37/200\n",
      "1689/1689 [==============================] - 0s 54us/step - loss: 0.0069\n",
      "Epoch 38/200\n",
      "1689/1689 [==============================] - 0s 58us/step - loss: 0.0064\n",
      "Epoch 39/200\n",
      "1689/1689 [==============================] - 0s 54us/step - loss: 0.0059\n",
      "Epoch 40/200\n",
      "1689/1689 [==============================] - 0s 53us/step - loss: 0.0054\n",
      "Epoch 41/200\n",
      "1689/1689 [==============================] - 0s 55us/step - loss: 0.0050\n",
      "Epoch 42/200\n",
      "1689/1689 [==============================] - 0s 54us/step - loss: 0.0046\n",
      "Epoch 43/200\n",
      "1689/1689 [==============================] - 0s 55us/step - loss: 0.0042\n",
      "Epoch 44/200\n",
      "1689/1689 [==============================] - 0s 52us/step - loss: 0.0039\n",
      "Epoch 45/200\n",
      "1689/1689 [==============================] - 0s 54us/step - loss: 0.0035\n",
      "Epoch 46/200\n",
      "1689/1689 [==============================] - 0s 54us/step - loss: 0.0032\n",
      "Epoch 47/200\n",
      "1689/1689 [==============================] - 0s 54us/step - loss: 0.0029\n",
      "Epoch 48/200\n",
      "1689/1689 [==============================] - 0s 55us/step - loss: 0.0027\n",
      "Epoch 49/200\n",
      "1689/1689 [==============================] - 0s 53us/step - loss: 0.0025\n",
      "Epoch 50/200\n",
      "1689/1689 [==============================] - 0s 53us/step - loss: 0.0023\n",
      "Epoch 51/200\n",
      "1689/1689 [==============================] - 0s 54us/step - loss: 0.0021\n",
      "Epoch 52/200\n",
      "1689/1689 [==============================] - 0s 54us/step - loss: 0.0019\n",
      "Epoch 53/200\n",
      "1689/1689 [==============================] - 0s 53us/step - loss: 0.0018\n",
      "Epoch 54/200\n",
      "1689/1689 [==============================] - 0s 55us/step - loss: 0.0016\n",
      "Epoch 55/200\n",
      "1689/1689 [==============================] - 0s 54us/step - loss: 0.0015\n",
      "Epoch 56/200\n",
      "1689/1689 [==============================] - 0s 53us/step - loss: 0.0014\n",
      "Epoch 57/200\n",
      "1689/1689 [==============================] - 0s 53us/step - loss: 0.0013\n",
      "Epoch 58/200\n",
      "1689/1689 [==============================] - 0s 53us/step - loss: 0.0012\n",
      "Epoch 59/200\n",
      "1689/1689 [==============================] - 0s 53us/step - loss: 0.0012\n",
      "Epoch 60/200\n",
      "1689/1689 [==============================] - 0s 54us/step - loss: 0.0011\n",
      "Epoch 61/200\n",
      "1689/1689 [==============================] - 0s 54us/step - loss: 0.0011\n",
      "Epoch 62/200\n",
      "1689/1689 [==============================] - 0s 55us/step - loss: 0.0010\n",
      "Epoch 63/200\n",
      "1689/1689 [==============================] - 0s 55us/step - loss: 0.0010\n",
      "Epoch 64/200\n",
      "1689/1689 [==============================] - 0s 54us/step - loss: 9.8167e-04\n",
      "Epoch 65/200\n",
      "1689/1689 [==============================] - 0s 56us/step - loss: 9.5981e-04\n",
      "Epoch 66/200\n",
      "1689/1689 [==============================] - 0s 55us/step - loss: 9.4205e-04\n",
      "Epoch 67/200\n",
      "1689/1689 [==============================] - 0s 55us/step - loss: 9.2771e-04\n",
      "Epoch 68/200\n",
      "1689/1689 [==============================] - 0s 54us/step - loss: 9.1619e-04\n",
      "Epoch 69/200\n",
      "1689/1689 [==============================] - 0s 54us/step - loss: 9.0699e-04\n",
      "Epoch 70/200\n",
      "1689/1689 [==============================] - 0s 55us/step - loss: 8.9970e-04\n",
      "Epoch 71/200\n",
      "1689/1689 [==============================] - 0s 53us/step - loss: 8.9394e-04\n",
      "Epoch 72/200\n",
      "1689/1689 [==============================] - 0s 54us/step - loss: 8.8941e-04\n",
      "Epoch 73/200\n",
      "1689/1689 [==============================] - 0s 54us/step - loss: 8.8583e-04\n",
      "Epoch 74/200\n",
      "1689/1689 [==============================] - 0s 55us/step - loss: 8.8300e-04\n",
      "Epoch 75/200\n",
      "1689/1689 [==============================] - 0s 54us/step - loss: 8.8077e-04\n",
      "Epoch 76/200\n",
      "1689/1689 [==============================] - 0s 55us/step - loss: 8.7900e-04\n",
      "Epoch 77/200\n",
      "1689/1689 [==============================] - 0s 55us/step - loss: 8.7759e-04\n",
      "Epoch 78/200\n",
      "1689/1689 [==============================] - 0s 60us/step - loss: 8.7644e-04\n",
      "Epoch 79/200\n",
      "1689/1689 [==============================] - 0s 59us/step - loss: 8.7549e-04\n",
      "Epoch 80/200\n",
      "1689/1689 [==============================] - 0s 56us/step - loss: 8.7469e-04\n",
      "Epoch 81/200\n",
      "1689/1689 [==============================] - 0s 55us/step - loss: 8.7401e-04\n",
      "Epoch 82/200\n",
      "1689/1689 [==============================] - 0s 54us/step - loss: 8.7341e-04\n",
      "Epoch 83/200\n",
      "1689/1689 [==============================] - 0s 55us/step - loss: 8.7288e-04\n",
      "Epoch 84/200\n",
      "1689/1689 [==============================] - 0s 55us/step - loss: 8.7239e-04\n",
      "Epoch 85/200\n",
      "1689/1689 [==============================] - 0s 53us/step - loss: 8.7192e-04\n",
      "Epoch 86/200\n",
      "1689/1689 [==============================] - 0s 53us/step - loss: 8.7146e-04\n",
      "Epoch 87/200\n",
      "1689/1689 [==============================] - 0s 55us/step - loss: 8.7102e-04\n",
      "Epoch 88/200\n",
      "1689/1689 [==============================] - 0s 54us/step - loss: 8.7061e-04\n",
      "Epoch 89/200\n",
      "1689/1689 [==============================] - 0s 53us/step - loss: 8.7020e-04\n",
      "Epoch 90/200\n",
      "1689/1689 [==============================] - 0s 54us/step - loss: 8.6982e-04\n",
      "Epoch 91/200\n",
      "1689/1689 [==============================] - 0s 54us/step - loss: 8.6946e-04\n",
      "Epoch 92/200\n",
      "1689/1689 [==============================] - 0s 54us/step - loss: 8.6909e-04\n",
      "Epoch 93/200\n",
      "1689/1689 [==============================] - 0s 56us/step - loss: 8.6871e-04\n",
      "Epoch 94/200\n",
      "1689/1689 [==============================] - 0s 53us/step - loss: 8.6837e-04\n",
      "Epoch 95/200\n",
      "1689/1689 [==============================] - 0s 53us/step - loss: 8.6804e-04\n",
      "Epoch 96/200\n",
      "1689/1689 [==============================] - 0s 57us/step - loss: 8.6774e-04\n",
      "Epoch 97/200\n",
      "1689/1689 [==============================] - 0s 54us/step - loss: 8.6744e-04\n",
      "Epoch 98/200\n",
      "1689/1689 [==============================] - 0s 53us/step - loss: 8.6717e-04\n",
      "Epoch 99/200\n",
      "1689/1689 [==============================] - 0s 56us/step - loss: 8.6692e-04\n",
      "Epoch 100/200\n",
      "1689/1689 [==============================] - 0s 55us/step - loss: 8.6665e-04\n",
      "Epoch 101/200\n",
      "1689/1689 [==============================] - 0s 53us/step - loss: 8.6640e-04\n",
      "Epoch 102/200\n",
      "1689/1689 [==============================] - 0s 53us/step - loss: 8.6617e-04\n",
      "Epoch 103/200\n",
      "1689/1689 [==============================] - 0s 57us/step - loss: 8.6595e-04\n",
      "Epoch 104/200\n",
      "1689/1689 [==============================] - 0s 54us/step - loss: 8.6574e-04\n",
      "Epoch 105/200\n",
      "1689/1689 [==============================] - 0s 54us/step - loss: 8.6554e-04\n",
      "Epoch 106/200\n",
      "1689/1689 [==============================] - 0s 55us/step - loss: 8.6535e-04\n",
      "Epoch 107/200\n",
      "1689/1689 [==============================] - 0s 56us/step - loss: 8.6515e-04\n",
      "Epoch 108/200\n",
      "1689/1689 [==============================] - 0s 55us/step - loss: 8.6495e-04\n",
      "Epoch 109/200\n",
      "1689/1689 [==============================] - 0s 55us/step - loss: 8.6471e-04\n",
      "Epoch 110/200\n",
      "1689/1689 [==============================] - 0s 54us/step - loss: 8.6441e-04\n",
      "Epoch 111/200\n",
      "1689/1689 [==============================] - 0s 54us/step - loss: 8.6407e-04\n",
      "Epoch 112/200\n",
      "1689/1689 [==============================] - 0s 54us/step - loss: 8.6363e-04\n",
      "Epoch 113/200\n",
      "1689/1689 [==============================] - 0s 54us/step - loss: 8.6319e-04\n",
      "Epoch 114/200\n",
      "1689/1689 [==============================] - 0s 54us/step - loss: 8.6277e-04\n",
      "Epoch 115/200\n",
      "1689/1689 [==============================] - 0s 55us/step - loss: 8.6233e-04\n",
      "Epoch 116/200\n",
      "1689/1689 [==============================] - 0s 55us/step - loss: 8.6190e-04\n",
      "Epoch 117/200\n",
      "1689/1689 [==============================] - 0s 54us/step - loss: 8.6145e-04\n",
      "Epoch 118/200\n",
      "1689/1689 [==============================] - 0s 54us/step - loss: 8.6098e-04\n",
      "Epoch 119/200\n",
      "1689/1689 [==============================] - 0s 53us/step - loss: 8.6055e-04\n",
      "Epoch 120/200\n",
      "1689/1689 [==============================] - 0s 55us/step - loss: 8.6011e-04\n",
      "Epoch 121/200\n",
      "1689/1689 [==============================] - 0s 56us/step - loss: 8.5966e-04\n",
      "Epoch 122/200\n",
      "1689/1689 [==============================] - 0s 53us/step - loss: 8.5919e-04\n",
      "Epoch 123/200\n",
      "1689/1689 [==============================] - 0s 54us/step - loss: 8.5874e-04\n",
      "Epoch 124/200\n",
      "1689/1689 [==============================] - 0s 55us/step - loss: 8.5825e-04\n",
      "Epoch 125/200\n",
      "1689/1689 [==============================] - 0s 54us/step - loss: 8.5777e-04\n",
      "Epoch 126/200\n",
      "1689/1689 [==============================] - 0s 53us/step - loss: 8.5726e-04\n",
      "Epoch 127/200\n",
      "1689/1689 [==============================] - 0s 53us/step - loss: 8.5671e-04\n",
      "Epoch 128/200\n",
      "1689/1689 [==============================] - 0s 54us/step - loss: 8.5618e-04\n",
      "Epoch 129/200\n",
      "1689/1689 [==============================] - 0s 56us/step - loss: 8.5565e-04\n",
      "Epoch 130/200\n",
      "1689/1689 [==============================] - 0s 56us/step - loss: 8.5514e-04\n",
      "Epoch 131/200\n",
      "1689/1689 [==============================] - 0s 56us/step - loss: 8.5463e-04\n",
      "Epoch 132/200\n",
      "1689/1689 [==============================] - 0s 55us/step - loss: 8.5412e-04\n",
      "Epoch 133/200\n",
      "1689/1689 [==============================] - 0s 55us/step - loss: 8.5363e-04\n",
      "Epoch 134/200\n",
      "1689/1689 [==============================] - 0s 56us/step - loss: 8.5314e-04\n",
      "Epoch 135/200\n",
      "1689/1689 [==============================] - 0s 53us/step - loss: 8.5266e-04\n",
      "Epoch 136/200\n",
      "1689/1689 [==============================] - 0s 53us/step - loss: 8.5217e-04\n",
      "Epoch 137/200\n",
      "1689/1689 [==============================] - 0s 55us/step - loss: 8.5174e-04\n",
      "Epoch 138/200\n",
      "1689/1689 [==============================] - 0s 54us/step - loss: 8.5131e-04\n",
      "Epoch 139/200\n",
      "1689/1689 [==============================] - 0s 55us/step - loss: 8.5089e-04\n",
      "Epoch 140/200\n",
      "1689/1689 [==============================] - 0s 54us/step - loss: 8.5047e-04\n",
      "Epoch 141/200\n",
      "1689/1689 [==============================] - 0s 55us/step - loss: 8.5008e-04\n",
      "Epoch 142/200\n",
      "1689/1689 [==============================] - 0s 54us/step - loss: 8.4972e-04\n",
      "Epoch 143/200\n",
      "1689/1689 [==============================] - 0s 55us/step - loss: 8.4937e-04\n",
      "Epoch 144/200\n",
      "1689/1689 [==============================] - 0s 54us/step - loss: 8.4903e-04\n",
      "Epoch 145/200\n",
      "1689/1689 [==============================] - 0s 57us/step - loss: 8.4870e-04\n",
      "Epoch 146/200\n",
      "1689/1689 [==============================] - 0s 55us/step - loss: 8.4837e-04\n",
      "Epoch 147/200\n",
      "1689/1689 [==============================] - 0s 56us/step - loss: 8.4805e-04\n",
      "Epoch 148/200\n",
      "1689/1689 [==============================] - 0s 56us/step - loss: 8.4774e-04\n",
      "Epoch 149/200\n",
      "1689/1689 [==============================] - 0s 55us/step - loss: 8.4743e-04\n",
      "Epoch 150/200\n",
      "1689/1689 [==============================] - 0s 55us/step - loss: 8.4714e-04\n",
      "Epoch 151/200\n",
      "1689/1689 [==============================] - 0s 55us/step - loss: 8.4685e-04\n",
      "Epoch 152/200\n",
      "1689/1689 [==============================] - 0s 55us/step - loss: 8.4656e-04\n",
      "Epoch 153/200\n",
      "1689/1689 [==============================] - 0s 53us/step - loss: 8.4629e-04\n",
      "Epoch 154/200\n",
      "1689/1689 [==============================] - 0s 57us/step - loss: 8.4601e-04\n",
      "Epoch 155/200\n",
      "1689/1689 [==============================] - 0s 53us/step - loss: 8.4574e-04\n",
      "Epoch 156/200\n",
      "1689/1689 [==============================] - 0s 56us/step - loss: 8.4548e-04\n",
      "Epoch 157/200\n",
      "1689/1689 [==============================] - 0s 54us/step - loss: 8.4522e-04\n",
      "Epoch 158/200\n",
      "1689/1689 [==============================] - 0s 54us/step - loss: 8.4495e-04\n",
      "Epoch 159/200\n",
      "1689/1689 [==============================] - 0s 54us/step - loss: 8.4470e-04\n",
      "Epoch 160/200\n",
      "1689/1689 [==============================] - 0s 57us/step - loss: 8.4445e-04\n",
      "Epoch 161/200\n",
      "1689/1689 [==============================] - 0s 57us/step - loss: 8.4419e-04\n",
      "Epoch 162/200\n",
      "1689/1689 [==============================] - 0s 55us/step - loss: 8.4392e-04\n",
      "Epoch 163/200\n",
      "1689/1689 [==============================] - 0s 54us/step - loss: 8.4366e-04\n",
      "Epoch 164/200\n",
      "1689/1689 [==============================] - 0s 56us/step - loss: 8.4340e-04\n",
      "Epoch 165/200\n",
      "1689/1689 [==============================] - 0s 56us/step - loss: 8.4315e-04\n",
      "Epoch 166/200\n",
      "1689/1689 [==============================] - 0s 53us/step - loss: 8.4289e-04\n",
      "Epoch 167/200\n",
      "1689/1689 [==============================] - 0s 54us/step - loss: 8.4264e-04\n",
      "Epoch 168/200\n",
      "1689/1689 [==============================] - 0s 55us/step - loss: 8.4239e-04\n",
      "Epoch 169/200\n",
      "1689/1689 [==============================] - 0s 55us/step - loss: 8.4216e-04\n",
      "Epoch 170/200\n",
      "1689/1689 [==============================] - 0s 54us/step - loss: 8.4195e-04\n",
      "Epoch 171/200\n",
      "1689/1689 [==============================] - 0s 57us/step - loss: 8.4169e-04\n",
      "Epoch 172/200\n",
      "1689/1689 [==============================] - 0s 55us/step - loss: 8.4146e-04\n",
      "Epoch 173/200\n",
      "1689/1689 [==============================] - 0s 55us/step - loss: 8.4117e-04\n",
      "Epoch 174/200\n",
      "1689/1689 [==============================] - 0s 56us/step - loss: 8.4090e-04\n",
      "Epoch 175/200\n",
      "1689/1689 [==============================] - 0s 56us/step - loss: 8.4065e-04\n",
      "Epoch 176/200\n",
      "1689/1689 [==============================] - 0s 56us/step - loss: 8.4041e-04\n",
      "Epoch 177/200\n",
      "1689/1689 [==============================] - 0s 55us/step - loss: 8.4019e-04\n",
      "Epoch 178/200\n",
      "1689/1689 [==============================] - 0s 57us/step - loss: 8.3998e-04\n",
      "Epoch 179/200\n",
      "1689/1689 [==============================] - 0s 54us/step - loss: 8.3977e-04\n",
      "Epoch 180/200\n",
      "1689/1689 [==============================] - 0s 54us/step - loss: 8.3957e-04\n",
      "Epoch 181/200\n",
      "1689/1689 [==============================] - 0s 54us/step - loss: 8.3935e-04\n",
      "Epoch 182/200\n",
      "1689/1689 [==============================] - 0s 56us/step - loss: 8.3914e-04\n",
      "Epoch 183/200\n",
      "1689/1689 [==============================] - 0s 53us/step - loss: 8.3894e-04\n",
      "Epoch 184/200\n",
      "1689/1689 [==============================] - 0s 54us/step - loss: 8.3873e-04\n",
      "Epoch 185/200\n",
      "1689/1689 [==============================] - 0s 55us/step - loss: 8.3860e-04\n",
      "Epoch 186/200\n",
      "1689/1689 [==============================] - 0s 54us/step - loss: 8.3847e-04\n",
      "Epoch 187/200\n",
      "1689/1689 [==============================] - 0s 55us/step - loss: 8.3836e-04\n",
      "Epoch 188/200\n",
      "1689/1689 [==============================] - 0s 56us/step - loss: 8.3815e-04\n",
      "Epoch 189/200\n",
      "1689/1689 [==============================] - 0s 55us/step - loss: 8.3796e-04\n",
      "Epoch 190/200\n",
      "1689/1689 [==============================] - 0s 54us/step - loss: 8.3777e-04\n",
      "Epoch 191/200\n",
      "1689/1689 [==============================] - 0s 56us/step - loss: 8.3760e-04\n",
      "Epoch 192/200\n",
      "1689/1689 [==============================] - 0s 55us/step - loss: 8.3744e-04\n",
      "Epoch 193/200\n",
      "1689/1689 [==============================] - 0s 55us/step - loss: 8.3729e-04\n",
      "Epoch 194/200\n",
      "1689/1689 [==============================] - 0s 54us/step - loss: 8.3709e-04\n",
      "Epoch 195/200\n",
      "1689/1689 [==============================] - 0s 56us/step - loss: 8.3692e-04\n",
      "Epoch 196/200\n",
      "1689/1689 [==============================] - 0s 52us/step - loss: 8.3679e-04\n",
      "Epoch 197/200\n",
      "1689/1689 [==============================] - 0s 53us/step - loss: 8.3660e-04\n",
      "Epoch 198/200\n",
      "1689/1689 [==============================] - 0s 53us/step - loss: 8.3644e-04\n",
      "Epoch 199/200\n",
      "1689/1689 [==============================] - 0s 54us/step - loss: 8.3626e-04\n",
      "Epoch 200/200\n",
      "1689/1689 [==============================] - 0s 55us/step - loss: 8.3620e-04\n",
      "The R2 score on the Train set is:\t0.977\n",
      "The Adjusted R2 score on the Train set is:\t0.977\n",
      "\n",
      "The R2 score on the Test set is:\t0.881\n",
      "The Adjusted R2 score on the Test set is:\t0.880\n"
     ]
    }
   ],
   "source": [
    "from keras.layers import LSTM\n",
    "K.clear_session()\n",
    "model_lstm = Sequential()\n",
    "model_lstm.add(LSTM(7, input_shape=(1, X_train.shape[1]), activation='relu', kernel_initializer='lecun_uniform', return_sequences=False))\n",
    "model_lstm.add(Dense(1))\n",
    "model_lstm.compile(loss='mean_squared_error', optimizer='adam')\n",
    "early_stop = EarlyStopping(monitor='loss', patience=5, verbose=1)\n",
    "history_model_lstm = model_lstm.fit(X_tr_t, y_train, epochs=200, batch_size=32, verbose=1, shuffle=False, callbacks=[early_stop])\n",
    "\n",
    "y_pred_test_lstm = model_lstm.predict(X_tst_t)\n",
    "y_train_pred_lstm = model_lstm.predict(X_tr_t)\n",
    "print(\"The R2 score on the Train set is:\\t{:0.3f}\".format(r2_score(y_train, y_train_pred_lstm)))\n",
    "r2_train = r2_score(y_train, y_train_pred_lstm)\n",
    "print(\"The Adjusted R2 score on the Train set is:\\t{:0.3f}\\n\".format(adj_r2_score(r2_train, X_train.shape[0], X_train.shape[1])))\n",
    "print(\"The R2 score on the Test set is:\\t{:0.3f}\".format(r2_score(y_test, y_pred_test_lstm)))\n",
    "r2_test = r2_score(y_test, y_pred_test_lstm)\n",
    "print(\"The Adjusted R2 score on the Test set is:\\t{:0.3f}\".format(adj_r2_score(r2_test, X_test.shape[0], X_test.shape[1])))"
   ]
  },
  {
   "cell_type": "code",
   "execution_count": null,
   "metadata": {
    "colab": {},
    "colab_type": "code",
    "id": "x0GEmeJvO4y4"
   },
   "outputs": [],
   "source": [
    "model_lstm.save('LSTM_NonShift.h5')"
   ]
  },
  {
   "cell_type": "markdown",
   "metadata": {
    "colab_type": "text",
    "id": "foSfQk8CVMLz"
   },
   "source": [
    "### Prediction made by each model"
   ]
  },
  {
   "cell_type": "code",
   "execution_count": null,
   "metadata": {
    "colab": {},
    "colab_type": "code",
    "id": "-Q5mMlPNVRLb"
   },
   "outputs": [],
   "source": [
    "model_ann = load_model('ANN_NonShift.h5')\n",
    "model_lstm = load_model('LSTM_NonShift.h5')"
   ]
  },
  {
   "cell_type": "code",
   "execution_count": 54,
   "metadata": {
    "colab": {
     "base_uri": "https://localhost:8080/",
     "height": 51
    },
    "colab_type": "code",
    "id": "Rd74J_CeVhoQ",
    "outputId": "853f8f82-75a3-4651-d9fa-d9577aca0104"
   },
   "outputs": [
    {
     "name": "stdout",
     "output_type": "stream",
     "text": [
      "130/130 [==============================] - 0s 922us/step\n",
      "130/130 [==============================] - 0s 1ms/step\n"
     ]
    }
   ],
   "source": [
    "score_ann= model_ann.evaluate(X_test, y_test, batch_size=32)\n",
    "score_lstm= model_lstm.evaluate(X_tst_t, y_test, batch_size=32)\n"
   ]
  },
  {
   "cell_type": "code",
   "execution_count": 55,
   "metadata": {
    "colab": {
     "base_uri": "https://localhost:8080/",
     "height": 51
    },
    "colab_type": "code",
    "id": "p1PnJCd_VnNa",
    "outputId": "a3b998f3-a23c-4c46-9647-3797d638fb26"
   },
   "outputs": [
    {
     "name": "stdout",
     "output_type": "stream",
     "text": [
      "ANN: 0.011028\n",
      "LSTM: 0.005309\n"
     ]
    }
   ],
   "source": [
    "print('ANN: %f'%score_ann)\n",
    "print('LSTM: %f'%score_lstm)\n"
   ]
  },
  {
   "cell_type": "code",
   "execution_count": null,
   "metadata": {
    "colab": {},
    "colab_type": "code",
    "id": "GL-bUUL6VqFe"
   },
   "outputs": [],
   "source": [
    "y_pred_test_ANN = model_ann.predict(X_test)\n",
    "y_pred_test_LSTM = model_lstm.predict(X_tst_t)"
   ]
  },
  {
   "cell_type": "code",
   "execution_count": null,
   "metadata": {
    "colab": {},
    "colab_type": "code",
    "id": "iEDbhFRqVvGO"
   },
   "outputs": [],
   "source": [
    "col1 = pd.DataFrame(y_test, columns=['True'])\n",
    "col2 = pd.DataFrame(y_pred_test_ANN, columns=['ANN_prediction'])\n",
    "col3 = pd.DataFrame(y_pred_test_LSTM, columns=['LSTM_prediction'])\n",
    "col4 = pd.DataFrame(history.history['loss'], columns=['Loss_ANN'])\n",
    "col5 = pd.DataFrame(history_model_lstm.history['loss'], columns=['Loss_LSTM'])\n",
    "results = pd.concat([col1, col2, col3, col4, col5], axis=1)\n",
    "results.to_excel('PredictionResults_ANN-LSTM_NonShift.xlsx')"
   ]
  },
  {
   "cell_type": "markdown",
   "metadata": {
    "colab_type": "text",
    "id": "Vxqe05C9VzNx"
   },
   "source": [
    "### ANN's Prediction Visual"
   ]
  },
  {
   "cell_type": "code",
   "execution_count": 60,
   "metadata": {
    "colab": {
     "base_uri": "https://localhost:8080/",
     "height": 300
    },
    "colab_type": "code",
    "id": "-OnPWaF8V5T5",
    "outputId": "7af2dd6f-d34d-4276-9462-a0908f1cf9ec"
   },
   "outputs": [
    {
     "data": {
      "image/png": "[encoded data removed]",
      "text/plain": [
       "<Figure size 432x288 with 1 Axes>"
      ]
     },
     "metadata": {
      "tags": []
     },
     "output_type": "display_data"
    }
   ],
   "source": [
    "plt.plot(y_test, label='True')\n",
    "plt.plot(y_pred_test_ANN, label='ANN')\n",
    "plt.title(\"ANN's_Prediction\")\n",
    "plt.xlabel('Observation')\n",
    "plt.ylabel('Price Scaled')\n",
    "plt.legend()\n",
    "plt.show()"
   ]
  },
  {
   "cell_type": "markdown",
   "metadata": {
    "colab_type": "text",
    "id": "hMeha_DfV8R5"
   },
   "source": [
    "### LSTM's Prediction Visual"
   ]
  },
  {
   "cell_type": "code",
   "execution_count": 61,
   "metadata": {
    "colab": {
     "base_uri": "https://localhost:8080/",
     "height": 300
    },
    "colab_type": "code",
    "id": "aqfpBL5tWEvQ",
    "outputId": "b02c4167-488f-4e82-91b0-609f2039e92e"
   },
   "outputs": [
    {
     "data": {
      "image/png": "[encoded data removed]",
      "text/plain": [
       "<Figure size 432x288 with 1 Axes>"
      ]
     },
     "metadata": {
      "tags": []
     },
     "output_type": "display_data"
    }
   ],
   "source": [
    "plt.plot(y_test, label='True')\n",
    "plt.plot(y_pred_test_LSTM, label='LSTM')\n",
    "plt.title(\"LSTM's_Prediction\")\n",
    "plt.xlabel('Observation')\n",
    "plt.ylabel('Price Scaled')\n",
    "plt.legend()\n",
    "plt.show()"
   ]
  },
  {
   "cell_type": "code",
   "execution_count": null,
   "metadata": {
    "colab": {},
    "colab_type": "code",
    "id": "Nppkje6sWHFt"
   },
   "outputs": [],
   "source": []
  }
 ],
 "metadata": {
  "colab": {
   "name": "LSTM.ipynb",
   "provenance": [],
   "toc_visible": true,
   "version": "0.3.2"
  },
  "kernelspec": {
   "display_name": "Python 3",
   "language": "python",
   "name": "python3"
  },
  "language_info": {
   "codemirror_mode": {
    "name": "ipython",
    "version": 3
   },
   "file_extension": ".py",
   "mimetype": "text/x-python",
   "name": "python",
   "nbconvert_exporter": "python",
   "pygments_lexer": "ipython3",
   "version": "3.7.2"
  }
 },
 "nbformat": 4,
 "nbformat_minor": 2
}
