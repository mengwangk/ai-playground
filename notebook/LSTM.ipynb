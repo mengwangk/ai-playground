{
  "nbformat": 4,
  "nbformat_minor": 0,
  "metadata": {
    "colab": {
      "name": "LSTM.ipynb",
      "version": "0.3.2",
      "provenance": []
    },
    "kernelspec": {
      "display_name": "Python 3",
      "language": "python",
      "name": "python3"
    }
  },
  "cells": [
    {
      "metadata": {
        "id": "P80sKYvMO4wD",
        "colab_type": "text"
      },
      "cell_type": "markdown",
      "source": [
        "# LSTM for Stock Prediction"
      ]
    },
    {
      "metadata": {
        "id": "8JUZzGbCO4wH",
        "colab_type": "text"
      },
      "cell_type": "markdown",
      "source": [
        "https://medium.com/@aniruddha.choudhury94/stock-market-prediction-by-recurrent-neural-network-on-lstm-model-56de700bff68"
      ]
    },
    {
      "metadata": {
        "id": "0YC8zQwCO4wH",
        "colab_type": "code",
        "colab": {}
      },
      "cell_type": "code",
      "source": [
        "# To support both python 2 and python 3\n",
        "from __future__ import division, print_function, unicode_literals\n",
        "\n",
        "# Common imports\n",
        "import numpy as np\n",
        "import os\n",
        "import pandas as pd\n",
        "\n",
        "# to make this notebook's output stable across runs\n",
        "def reset_graph(seed=42):\n",
        "    tf.reset_default_graph()\n",
        "    tf.set_random_seed(seed)\n",
        "    np.random.seed(seed)\n",
        "\n",
        "# To plot pretty figures\n",
        "%matplotlib inline\n",
        "import matplotlib\n",
        "import matplotlib.pyplot as plt\n",
        "plt.rcParams['axes.labelsize'] = 14\n",
        "plt.rcParams['xtick.labelsize'] = 12\n",
        "plt.rcParams['ytick.labelsize'] = 12\n",
        "\n",
        "# Where to save the figures\n",
        "PROJECT_ROOT_DIR = \".\"\n",
        "CHAPTER_ID = \"rnn\"\n",
        "\n",
        "def save_fig(fig_id, tight_layout=True):\n",
        "    path = os.path.join(PROJECT_ROOT_DIR, \"images\", CHAPTER_ID, fig_id + \".png\")\n",
        "    print(\"Saving figure\", fig_id)\n",
        "    if tight_layout:\n",
        "        plt.tight_layout()\n",
        "    plt.savefig(path, format='png', dpi=300)\n",
        "    \n",
        "# Ignore useless warnings (see SciPy issue #5998)\n",
        "import warnings\n",
        "warnings.filterwarnings(action=\"ignore\", module=\"scipy\", message=\"^internal gelsd\")\n",
        "\n",
        "from IPython.display import display\n",
        "pd.options.display.max_columns = 50\n",
        "pd.options.display.html.table_schema = True"
      ],
      "execution_count": 0,
      "outputs": []
    },
    {
      "metadata": {
        "id": "Mtb4wmz1O4wK",
        "colab_type": "code",
        "colab": {
          "base_uri": "https://localhost:8080/",
          "height": 915
        },
        "outputId": "402affd4-6d7e-4825-c21a-955d53faff1c"
      },
      "cell_type": "code",
      "source": [
        "UOM = {'K': 1000, 'M': 1000000}\n",
        "\n",
        "def convert_to_numeric(val):\n",
        "    return float(val[:-1]) * UOM[val[-1]]\n",
        "\n",
        "def clean_dataset(df):\n",
        "    df.rename(columns={'Price':'Close', 'Vol.':'Volume'}, inplace=True)\n",
        "    df.drop(columns=['Change %'], axis=1, inplace=True)\n",
        "    df['Date'] = pd.to_datetime(df['Date'])\n",
        "    df['Volume'] = df['Volume'].apply(convert_to_numeric)\n",
        "    df.sort_values(by=['Date'], ascending=True, inplace=True)\n",
        "    df.set_index('Date', inplace=True)\n",
        "\n",
        "dataset = pd.read_csv('data/GENTING_train_set.csv', parse_dates=True)\n",
        "clean_dataset(dataset)\n",
        "dataset.head(10)"
      ],
      "execution_count": 4,
      "outputs": [
        {
          "output_type": "error",
          "ename": "FileNotFoundError",
          "evalue": "ignored",
          "traceback": [
            "\u001b[0;31m---------------------------------------------------------------------------\u001b[0m",
            "\u001b[0;31mFileNotFoundError\u001b[0m                         Traceback (most recent call last)",
            "\u001b[0;32m<ipython-input-4-20f6c8dd2373>\u001b[0m in \u001b[0;36m<module>\u001b[0;34m()\u001b[0m\n\u001b[1;32m     12\u001b[0m     \u001b[0mdf\u001b[0m\u001b[0;34m.\u001b[0m\u001b[0mset_index\u001b[0m\u001b[0;34m(\u001b[0m\u001b[0;34m'Date'\u001b[0m\u001b[0;34m,\u001b[0m \u001b[0minplace\u001b[0m\u001b[0;34m=\u001b[0m\u001b[0;32mTrue\u001b[0m\u001b[0;34m)\u001b[0m\u001b[0;34m\u001b[0m\u001b[0;34m\u001b[0m\u001b[0m\n\u001b[1;32m     13\u001b[0m \u001b[0;34m\u001b[0m\u001b[0m\n\u001b[0;32m---> 14\u001b[0;31m \u001b[0mdataset\u001b[0m \u001b[0;34m=\u001b[0m \u001b[0mpd\u001b[0m\u001b[0;34m.\u001b[0m\u001b[0mread_csv\u001b[0m\u001b[0;34m(\u001b[0m\u001b[0;34m'data/GENTING_train_set.csv'\u001b[0m\u001b[0;34m,\u001b[0m \u001b[0mparse_dates\u001b[0m\u001b[0;34m=\u001b[0m\u001b[0;32mTrue\u001b[0m\u001b[0;34m)\u001b[0m\u001b[0;34m\u001b[0m\u001b[0;34m\u001b[0m\u001b[0m\n\u001b[0m\u001b[1;32m     15\u001b[0m \u001b[0mclean_dataset\u001b[0m\u001b[0;34m(\u001b[0m\u001b[0mdataset\u001b[0m\u001b[0;34m)\u001b[0m\u001b[0;34m\u001b[0m\u001b[0;34m\u001b[0m\u001b[0m\n\u001b[1;32m     16\u001b[0m \u001b[0mdataset\u001b[0m\u001b[0;34m.\u001b[0m\u001b[0mhead\u001b[0m\u001b[0;34m(\u001b[0m\u001b[0;36m10\u001b[0m\u001b[0;34m)\u001b[0m\u001b[0;34m\u001b[0m\u001b[0;34m\u001b[0m\u001b[0m\n",
            "\u001b[0;32m/usr/local/lib/python3.6/dist-packages/pandas/io/parsers.py\u001b[0m in \u001b[0;36mparser_f\u001b[0;34m(filepath_or_buffer, sep, delimiter, header, names, index_col, usecols, squeeze, prefix, mangle_dupe_cols, dtype, engine, converters, true_values, false_values, skipinitialspace, skiprows, nrows, na_values, keep_default_na, na_filter, verbose, skip_blank_lines, parse_dates, infer_datetime_format, keep_date_col, date_parser, dayfirst, iterator, chunksize, compression, thousands, decimal, lineterminator, quotechar, quoting, escapechar, comment, encoding, dialect, tupleize_cols, error_bad_lines, warn_bad_lines, skipfooter, skip_footer, doublequote, delim_whitespace, as_recarray, compact_ints, use_unsigned, low_memory, buffer_lines, memory_map, float_precision)\u001b[0m\n\u001b[1;32m    707\u001b[0m                     skip_blank_lines=skip_blank_lines)\n\u001b[1;32m    708\u001b[0m \u001b[0;34m\u001b[0m\u001b[0m\n\u001b[0;32m--> 709\u001b[0;31m         \u001b[0;32mreturn\u001b[0m \u001b[0m_read\u001b[0m\u001b[0;34m(\u001b[0m\u001b[0mfilepath_or_buffer\u001b[0m\u001b[0;34m,\u001b[0m \u001b[0mkwds\u001b[0m\u001b[0;34m)\u001b[0m\u001b[0;34m\u001b[0m\u001b[0;34m\u001b[0m\u001b[0m\n\u001b[0m\u001b[1;32m    710\u001b[0m \u001b[0;34m\u001b[0m\u001b[0m\n\u001b[1;32m    711\u001b[0m     \u001b[0mparser_f\u001b[0m\u001b[0;34m.\u001b[0m\u001b[0m__name__\u001b[0m \u001b[0;34m=\u001b[0m \u001b[0mname\u001b[0m\u001b[0;34m\u001b[0m\u001b[0;34m\u001b[0m\u001b[0m\n",
            "\u001b[0;32m/usr/local/lib/python3.6/dist-packages/pandas/io/parsers.py\u001b[0m in \u001b[0;36m_read\u001b[0;34m(filepath_or_buffer, kwds)\u001b[0m\n\u001b[1;32m    447\u001b[0m \u001b[0;34m\u001b[0m\u001b[0m\n\u001b[1;32m    448\u001b[0m     \u001b[0;31m# Create the parser.\u001b[0m\u001b[0;34m\u001b[0m\u001b[0;34m\u001b[0m\u001b[0;34m\u001b[0m\u001b[0m\n\u001b[0;32m--> 449\u001b[0;31m     \u001b[0mparser\u001b[0m \u001b[0;34m=\u001b[0m \u001b[0mTextFileReader\u001b[0m\u001b[0;34m(\u001b[0m\u001b[0mfilepath_or_buffer\u001b[0m\u001b[0;34m,\u001b[0m \u001b[0;34m**\u001b[0m\u001b[0mkwds\u001b[0m\u001b[0;34m)\u001b[0m\u001b[0;34m\u001b[0m\u001b[0;34m\u001b[0m\u001b[0m\n\u001b[0m\u001b[1;32m    450\u001b[0m \u001b[0;34m\u001b[0m\u001b[0m\n\u001b[1;32m    451\u001b[0m     \u001b[0;32mif\u001b[0m \u001b[0mchunksize\u001b[0m \u001b[0;32mor\u001b[0m \u001b[0miterator\u001b[0m\u001b[0;34m:\u001b[0m\u001b[0;34m\u001b[0m\u001b[0;34m\u001b[0m\u001b[0m\n",
            "\u001b[0;32m/usr/local/lib/python3.6/dist-packages/pandas/io/parsers.py\u001b[0m in \u001b[0;36m__init__\u001b[0;34m(self, f, engine, **kwds)\u001b[0m\n\u001b[1;32m    816\u001b[0m             \u001b[0mself\u001b[0m\u001b[0;34m.\u001b[0m\u001b[0moptions\u001b[0m\u001b[0;34m[\u001b[0m\u001b[0;34m'has_index_names'\u001b[0m\u001b[0;34m]\u001b[0m \u001b[0;34m=\u001b[0m \u001b[0mkwds\u001b[0m\u001b[0;34m[\u001b[0m\u001b[0;34m'has_index_names'\u001b[0m\u001b[0;34m]\u001b[0m\u001b[0;34m\u001b[0m\u001b[0;34m\u001b[0m\u001b[0m\n\u001b[1;32m    817\u001b[0m \u001b[0;34m\u001b[0m\u001b[0m\n\u001b[0;32m--> 818\u001b[0;31m         \u001b[0mself\u001b[0m\u001b[0;34m.\u001b[0m\u001b[0m_make_engine\u001b[0m\u001b[0;34m(\u001b[0m\u001b[0mself\u001b[0m\u001b[0;34m.\u001b[0m\u001b[0mengine\u001b[0m\u001b[0;34m)\u001b[0m\u001b[0;34m\u001b[0m\u001b[0;34m\u001b[0m\u001b[0m\n\u001b[0m\u001b[1;32m    819\u001b[0m \u001b[0;34m\u001b[0m\u001b[0m\n\u001b[1;32m    820\u001b[0m     \u001b[0;32mdef\u001b[0m \u001b[0mclose\u001b[0m\u001b[0;34m(\u001b[0m\u001b[0mself\u001b[0m\u001b[0;34m)\u001b[0m\u001b[0;34m:\u001b[0m\u001b[0;34m\u001b[0m\u001b[0;34m\u001b[0m\u001b[0m\n",
            "\u001b[0;32m/usr/local/lib/python3.6/dist-packages/pandas/io/parsers.py\u001b[0m in \u001b[0;36m_make_engine\u001b[0;34m(self, engine)\u001b[0m\n\u001b[1;32m   1047\u001b[0m     \u001b[0;32mdef\u001b[0m \u001b[0m_make_engine\u001b[0m\u001b[0;34m(\u001b[0m\u001b[0mself\u001b[0m\u001b[0;34m,\u001b[0m \u001b[0mengine\u001b[0m\u001b[0;34m=\u001b[0m\u001b[0;34m'c'\u001b[0m\u001b[0;34m)\u001b[0m\u001b[0;34m:\u001b[0m\u001b[0;34m\u001b[0m\u001b[0;34m\u001b[0m\u001b[0m\n\u001b[1;32m   1048\u001b[0m         \u001b[0;32mif\u001b[0m \u001b[0mengine\u001b[0m \u001b[0;34m==\u001b[0m \u001b[0;34m'c'\u001b[0m\u001b[0;34m:\u001b[0m\u001b[0;34m\u001b[0m\u001b[0;34m\u001b[0m\u001b[0m\n\u001b[0;32m-> 1049\u001b[0;31m             \u001b[0mself\u001b[0m\u001b[0;34m.\u001b[0m\u001b[0m_engine\u001b[0m \u001b[0;34m=\u001b[0m \u001b[0mCParserWrapper\u001b[0m\u001b[0;34m(\u001b[0m\u001b[0mself\u001b[0m\u001b[0;34m.\u001b[0m\u001b[0mf\u001b[0m\u001b[0;34m,\u001b[0m \u001b[0;34m**\u001b[0m\u001b[0mself\u001b[0m\u001b[0;34m.\u001b[0m\u001b[0moptions\u001b[0m\u001b[0;34m)\u001b[0m\u001b[0;34m\u001b[0m\u001b[0;34m\u001b[0m\u001b[0m\n\u001b[0m\u001b[1;32m   1050\u001b[0m         \u001b[0;32melse\u001b[0m\u001b[0;34m:\u001b[0m\u001b[0;34m\u001b[0m\u001b[0;34m\u001b[0m\u001b[0m\n\u001b[1;32m   1051\u001b[0m             \u001b[0;32mif\u001b[0m \u001b[0mengine\u001b[0m \u001b[0;34m==\u001b[0m \u001b[0;34m'python'\u001b[0m\u001b[0;34m:\u001b[0m\u001b[0;34m\u001b[0m\u001b[0;34m\u001b[0m\u001b[0m\n",
            "\u001b[0;32m/usr/local/lib/python3.6/dist-packages/pandas/io/parsers.py\u001b[0m in \u001b[0;36m__init__\u001b[0;34m(self, src, **kwds)\u001b[0m\n\u001b[1;32m   1693\u001b[0m         \u001b[0mkwds\u001b[0m\u001b[0;34m[\u001b[0m\u001b[0;34m'allow_leading_cols'\u001b[0m\u001b[0;34m]\u001b[0m \u001b[0;34m=\u001b[0m \u001b[0mself\u001b[0m\u001b[0;34m.\u001b[0m\u001b[0mindex_col\u001b[0m \u001b[0;32mis\u001b[0m \u001b[0;32mnot\u001b[0m \u001b[0;32mFalse\u001b[0m\u001b[0;34m\u001b[0m\u001b[0;34m\u001b[0m\u001b[0m\n\u001b[1;32m   1694\u001b[0m \u001b[0;34m\u001b[0m\u001b[0m\n\u001b[0;32m-> 1695\u001b[0;31m         \u001b[0mself\u001b[0m\u001b[0;34m.\u001b[0m\u001b[0m_reader\u001b[0m \u001b[0;34m=\u001b[0m \u001b[0mparsers\u001b[0m\u001b[0;34m.\u001b[0m\u001b[0mTextReader\u001b[0m\u001b[0;34m(\u001b[0m\u001b[0msrc\u001b[0m\u001b[0;34m,\u001b[0m \u001b[0;34m**\u001b[0m\u001b[0mkwds\u001b[0m\u001b[0;34m)\u001b[0m\u001b[0;34m\u001b[0m\u001b[0;34m\u001b[0m\u001b[0m\n\u001b[0m\u001b[1;32m   1696\u001b[0m \u001b[0;34m\u001b[0m\u001b[0m\n\u001b[1;32m   1697\u001b[0m         \u001b[0;31m# XXX\u001b[0m\u001b[0;34m\u001b[0m\u001b[0;34m\u001b[0m\u001b[0;34m\u001b[0m\u001b[0m\n",
            "\u001b[0;32mpandas/_libs/parsers.pyx\u001b[0m in \u001b[0;36mpandas._libs.parsers.TextReader.__cinit__\u001b[0;34m()\u001b[0m\n",
            "\u001b[0;32mpandas/_libs/parsers.pyx\u001b[0m in \u001b[0;36mpandas._libs.parsers.TextReader._setup_parser_source\u001b[0;34m()\u001b[0m\n",
            "\u001b[0;31mFileNotFoundError\u001b[0m: File b'data/GENTING_train_set.csv' does not exist"
          ]
        }
      ]
    },
    {
      "metadata": {
        "id": "AUWAlPEwO4wQ",
        "colab_type": "text"
      },
      "cell_type": "markdown",
      "source": [
        "# Preprocessing"
      ]
    },
    {
      "metadata": {
        "id": "vtlfPVPvO4wR",
        "colab_type": "code",
        "colab": {},
        "outputId": "1c9445c6-b9e0-441e-f722-c90c4f17f7c0"
      },
      "cell_type": "code",
      "source": [
        "dataset.isna().any()"
      ],
      "execution_count": 0,
      "outputs": [
        {
          "output_type": "execute_result",
          "data": {
            "application/vnd.dataresource+json": {
              "data": [
                {
                  "index": "Close",
                  "values": false
                },
                {
                  "index": "Open",
                  "values": false
                },
                {
                  "index": "High",
                  "values": false
                },
                {
                  "index": "Low",
                  "values": false
                },
                {
                  "index": "Volume",
                  "values": false
                }
              ],
              "schema": {
                "fields": [
                  {
                    "name": "index",
                    "type": "string"
                  },
                  {
                    "name": "values",
                    "type": "boolean"
                  }
                ],
                "pandas_version": "0.20.0",
                "primaryKey": [
                  "index"
                ]
              }
            },
            "text/plain": [
              "Close     False\n",
              "Open      False\n",
              "High      False\n",
              "Low       False\n",
              "Volume    False\n",
              "dtype: bool"
            ]
          },
          "metadata": {
            "tags": []
          },
          "execution_count": 6
        }
      ]
    },
    {
      "metadata": {
        "id": "zizWBSUTO4wV",
        "colab_type": "code",
        "colab": {},
        "outputId": "afb16940-ee0b-48f1-9943-5cc35a48b0e0"
      },
      "cell_type": "code",
      "source": [
        "dataset.info()"
      ],
      "execution_count": 0,
      "outputs": [
        {
          "output_type": "stream",
          "text": [
            "<class 'pandas.core.frame.DataFrame'>\n",
            "DatetimeIndex: 1768 entries, 2011-08-15 to 2018-10-31\n",
            "Data columns (total 5 columns):\n",
            "Close     1768 non-null float64\n",
            "Open      1768 non-null float64\n",
            "High      1768 non-null float64\n",
            "Low       1768 non-null float64\n",
            "Volume    1768 non-null float64\n",
            "dtypes: float64(5)\n",
            "memory usage: 82.9 KB\n"
          ],
          "name": "stdout"
        }
      ]
    },
    {
      "metadata": {
        "id": "ENPKuKzGO4wZ",
        "colab_type": "code",
        "colab": {},
        "outputId": "d8810110-ad0d-4e03-e745-13c5f17e1e7f"
      },
      "cell_type": "code",
      "source": [
        "dataset['Open'].plot(figsize=(16,6))"
      ],
      "execution_count": 0,
      "outputs": [
        {
          "output_type": "execute_result",
          "data": {
            "text/plain": [
              "<matplotlib.axes._subplots.AxesSubplot at 0xb31059390>"
            ]
          },
          "metadata": {
            "tags": []
          },
          "execution_count": 8
        },
        {
          "output_type": "display_data",
          "data": {
            "image/png": "[encoded data removed]",
            "text/plain": [
              "<Figure size 1152x432 with 1 Axes>"
            ]
          },
          "metadata": {
            "tags": [],
            "needs_background": "light"
          }
        }
      ]
    },
    {
      "metadata": {
        "id": "uqqSwCWZO4wc",
        "colab_type": "code",
        "colab": {}
      },
      "cell_type": "code",
      "source": [
        "# convert column \"a\" of a DataFrame\n",
        "# dataset[\"Close\"] = dataset[\"Close\"].str.replace(',', '').astype(float)"
      ],
      "execution_count": 0,
      "outputs": []
    },
    {
      "metadata": {
        "id": "x0VWYyJmO4wf",
        "colab_type": "code",
        "colab": {},
        "outputId": "db751b78-09c3-44d4-946a-7a4c08348181"
      },
      "cell_type": "code",
      "source": [
        "# 7 day rolling mean\n",
        "dataset.rolling(7).mean().head(10)"
      ],
      "execution_count": 0,
      "outputs": [
        {
          "output_type": "execute_result",
          "data": {
            "application/vnd.dataresource+json": {
              "data": [
                {
                  "Close": null,
                  "Date": "2011-08-15T00:00:00.000Z",
                  "High": null,
                  "Low": null,
                  "Open": null,
                  "Volume": null
                },
                {
                  "Close": null,
                  "Date": "2011-08-16T00:00:00.000Z",
                  "High": null,
                  "Low": null,
                  "Open": null,
                  "Volume": null
                },
                {
                  "Close": null,
                  "Date": "2011-08-17T00:00:00.000Z",
                  "High": null,
                  "Low": null,
                  "Open": null,
                  "Volume": null
                },
                {
                  "Close": null,
                  "Date": "2011-08-18T00:00:00.000Z",
                  "High": null,
                  "Low": null,
                  "Open": null,
                  "Volume": null
                },
                {
                  "Close": null,
                  "Date": "2011-08-19T00:00:00.000Z",
                  "High": null,
                  "Low": null,
                  "Open": null,
                  "Volume": null
                },
                {
                  "Close": null,
                  "Date": "2011-08-22T00:00:00.000Z",
                  "High": null,
                  "Low": null,
                  "Open": null,
                  "Volume": null
                },
                {
                  "Close": 9.8814285714,
                  "Date": "2011-08-23T00:00:00.000Z",
                  "High": 9.9828571429,
                  "Low": 9.8042857143,
                  "Open": 9.9428571429,
                  "Volume": 6717142.857142857
                },
                {
                  "Close": 9.7928571429,
                  "Date": "2011-08-24T00:00:00.000Z",
                  "High": 9.9314285714,
                  "Low": 9.7242857143,
                  "Open": 9.9,
                  "Volume": 6517142.857142857
                },
                {
                  "Close": 9.7471428571,
                  "Date": "2011-08-25T00:00:00.000Z",
                  "High": 9.8657142857,
                  "Low": 9.6557142857,
                  "Open": 9.81,
                  "Volume": 6940000
                },
                {
                  "Close": 9.6642857143,
                  "Date": "2011-08-26T00:00:00.000Z",
                  "High": 9.8128571429,
                  "Low": 9.5714285714,
                  "Open": 9.7571428571,
                  "Volume": 6818571.428571428
                }
              ],
              "schema": {
                "fields": [
                  {
                    "name": "Date",
                    "type": "datetime"
                  },
                  {
                    "name": "Close",
                    "type": "number"
                  },
                  {
                    "name": "Open",
                    "type": "number"
                  },
                  {
                    "name": "High",
                    "type": "number"
                  },
                  {
                    "name": "Low",
                    "type": "number"
                  },
                  {
                    "name": "Volume",
                    "type": "number"
                  }
                ],
                "pandas_version": "0.20.0",
                "primaryKey": [
                  "Date"
                ]
              }
            },
            "text/html": [
              "<div>\n",
              "<style scoped>\n",
              "    .dataframe tbody tr th:only-of-type {\n",
              "        vertical-align: middle;\n",
              "    }\n",
              "\n",
              "    .dataframe tbody tr th {\n",
              "        vertical-align: top;\n",
              "    }\n",
              "\n",
              "    .dataframe thead th {\n",
              "        text-align: right;\n",
              "    }\n",
              "</style>\n",
              "<table border=\"1\" class=\"dataframe\">\n",
              "  <thead>\n",
              "    <tr style=\"text-align: right;\">\n",
              "      <th></th>\n",
              "      <th>Close</th>\n",
              "      <th>Open</th>\n",
              "      <th>High</th>\n",
              "      <th>Low</th>\n",
              "      <th>Volume</th>\n",
              "    </tr>\n",
              "    <tr>\n",
              "      <th>Date</th>\n",
              "      <th></th>\n",
              "      <th></th>\n",
              "      <th></th>\n",
              "      <th></th>\n",
              "      <th></th>\n",
              "    </tr>\n",
              "  </thead>\n",
              "  <tbody>\n",
              "    <tr>\n",
              "      <th>2011-08-15</th>\n",
              "      <td>NaN</td>\n",
              "      <td>NaN</td>\n",
              "      <td>NaN</td>\n",
              "      <td>NaN</td>\n",
              "      <td>NaN</td>\n",
              "    </tr>\n",
              "    <tr>\n",
              "      <th>2011-08-16</th>\n",
              "      <td>NaN</td>\n",
              "      <td>NaN</td>\n",
              "      <td>NaN</td>\n",
              "      <td>NaN</td>\n",
              "      <td>NaN</td>\n",
              "    </tr>\n",
              "    <tr>\n",
              "      <th>2011-08-17</th>\n",
              "      <td>NaN</td>\n",
              "      <td>NaN</td>\n",
              "      <td>NaN</td>\n",
              "      <td>NaN</td>\n",
              "      <td>NaN</td>\n",
              "    </tr>\n",
              "    <tr>\n",
              "      <th>2011-08-18</th>\n",
              "      <td>NaN</td>\n",
              "      <td>NaN</td>\n",
              "      <td>NaN</td>\n",
              "      <td>NaN</td>\n",
              "      <td>NaN</td>\n",
              "    </tr>\n",
              "    <tr>\n",
              "      <th>2011-08-19</th>\n",
              "      <td>NaN</td>\n",
              "      <td>NaN</td>\n",
              "      <td>NaN</td>\n",
              "      <td>NaN</td>\n",
              "      <td>NaN</td>\n",
              "    </tr>\n",
              "    <tr>\n",
              "      <th>2011-08-22</th>\n",
              "      <td>NaN</td>\n",
              "      <td>NaN</td>\n",
              "      <td>NaN</td>\n",
              "      <td>NaN</td>\n",
              "      <td>NaN</td>\n",
              "    </tr>\n",
              "    <tr>\n",
              "      <th>2011-08-23</th>\n",
              "      <td>9.881429</td>\n",
              "      <td>9.942857</td>\n",
              "      <td>9.982857</td>\n",
              "      <td>9.804286</td>\n",
              "      <td>6.717143e+06</td>\n",
              "    </tr>\n",
              "    <tr>\n",
              "      <th>2011-08-24</th>\n",
              "      <td>9.792857</td>\n",
              "      <td>9.900000</td>\n",
              "      <td>9.931429</td>\n",
              "      <td>9.724286</td>\n",
              "      <td>6.517143e+06</td>\n",
              "    </tr>\n",
              "    <tr>\n",
              "      <th>2011-08-25</th>\n",
              "      <td>9.747143</td>\n",
              "      <td>9.810000</td>\n",
              "      <td>9.865714</td>\n",
              "      <td>9.655714</td>\n",
              "      <td>6.940000e+06</td>\n",
              "    </tr>\n",
              "    <tr>\n",
              "      <th>2011-08-26</th>\n",
              "      <td>9.664286</td>\n",
              "      <td>9.757143</td>\n",
              "      <td>9.812857</td>\n",
              "      <td>9.571429</td>\n",
              "      <td>6.818571e+06</td>\n",
              "    </tr>\n",
              "  </tbody>\n",
              "</table>\n",
              "</div>"
            ],
            "text/plain": [
              "               Close      Open      High       Low        Volume\n",
              "Date                                                            \n",
              "2011-08-15       NaN       NaN       NaN       NaN           NaN\n",
              "2011-08-16       NaN       NaN       NaN       NaN           NaN\n",
              "2011-08-17       NaN       NaN       NaN       NaN           NaN\n",
              "2011-08-18       NaN       NaN       NaN       NaN           NaN\n",
              "2011-08-19       NaN       NaN       NaN       NaN           NaN\n",
              "2011-08-22       NaN       NaN       NaN       NaN           NaN\n",
              "2011-08-23  9.881429  9.942857  9.982857  9.804286  6.717143e+06\n",
              "2011-08-24  9.792857  9.900000  9.931429  9.724286  6.517143e+06\n",
              "2011-08-25  9.747143  9.810000  9.865714  9.655714  6.940000e+06\n",
              "2011-08-26  9.664286  9.757143  9.812857  9.571429  6.818571e+06"
            ]
          },
          "metadata": {
            "tags": []
          },
          "execution_count": 10
        }
      ]
    },
    {
      "metadata": {
        "id": "eo3Uglx-O4wi",
        "colab_type": "code",
        "colab": {},
        "outputId": "85925082-90d8-4de0-860c-1d57572d78e2"
      },
      "cell_type": "code",
      "source": [
        "dataset['Open'].plot(figsize=(16,6))\n",
        "dataset.rolling(window=30).mean()['Close'].plot()"
      ],
      "execution_count": 0,
      "outputs": [
        {
          "output_type": "execute_result",
          "data": {
            "text/plain": [
              "<matplotlib.axes._subplots.AxesSubplot at 0x10f8cd5f8>"
            ]
          },
          "metadata": {
            "tags": []
          },
          "execution_count": 11
        },
        {
          "output_type": "display_data",
          "data": {
            "image/png": "[encoded data removed]",
            "text/plain": [
              "<Figure size 1152x432 with 1 Axes>"
            ]
          },
          "metadata": {
            "tags": [],
            "needs_background": "light"
          }
        }
      ]
    },
    {
      "metadata": {
        "id": "b8k4XFWlO4wl",
        "colab_type": "code",
        "colab": {},
        "outputId": "ba0d18a1-4f66-4dd9-ab5c-199ed3dabf3c"
      },
      "cell_type": "code",
      "source": [
        "dataset['Close: 30 Day Mean'] = dataset['Close'].rolling(window=30).mean()\n",
        "dataset[['Close','Close: 30 Day Mean']].plot(figsize=(16,6))"
      ],
      "execution_count": 0,
      "outputs": [
        {
          "output_type": "execute_result",
          "data": {
            "text/plain": [
              "<matplotlib.axes._subplots.AxesSubplot at 0xb31de7438>"
            ]
          },
          "metadata": {
            "tags": []
          },
          "execution_count": 12
        },
        {
          "output_type": "display_data",
          "data": {
            "image/png": "[encoded data removed]",
            "text/plain": [
              "<Figure size 1152x432 with 1 Axes>"
            ]
          },
          "metadata": {
            "tags": [],
            "needs_background": "light"
          }
        }
      ]
    },
    {
      "metadata": {
        "id": "h-yQF94lO4wp",
        "colab_type": "code",
        "colab": {},
        "outputId": "63684318-19d4-49c1-8426-91a5f718b217"
      },
      "cell_type": "code",
      "source": [
        "# Optional specify a minimum number of periods\n",
        "dataset['Close'].expanding(min_periods=1).mean().plot(figsize=(16,6))"
      ],
      "execution_count": 0,
      "outputs": [
        {
          "output_type": "execute_result",
          "data": {
            "text/plain": [
              "<matplotlib.axes._subplots.AxesSubplot at 0xb31e6bb00>"
            ]
          },
          "metadata": {
            "tags": []
          },
          "execution_count": 13
        },
        {
          "output_type": "display_data",
          "data": {
            "image/png": "[encoded data removed]",
            "text/plain": [
              "<Figure size 1152x432 with 1 Axes>"
            ]
          },
          "metadata": {
            "tags": [],
            "needs_background": "light"
          }
        }
      ]
    },
    {
      "metadata": {
        "id": "MHjToYx5O4ws",
        "colab_type": "text"
      },
      "cell_type": "markdown",
      "source": [
        "# Training"
      ]
    },
    {
      "metadata": {
        "id": "xbKs9EmtO4wt",
        "colab_type": "code",
        "colab": {}
      },
      "cell_type": "code",
      "source": [
        "training_set=dataset['Open']\n",
        "training_set=pd.DataFrame(training_set)"
      ],
      "execution_count": 0,
      "outputs": []
    },
    {
      "metadata": {
        "id": "agrIL0iTO4wy",
        "colab_type": "code",
        "colab": {}
      },
      "cell_type": "code",
      "source": [
        "# Feature Scaling\n",
        "from sklearn.preprocessing import MinMaxScaler\n",
        "sc = MinMaxScaler(feature_range = (0, 1))\n",
        "training_set_scaled = sc.fit_transform(training_set)"
      ],
      "execution_count": 0,
      "outputs": []
    },
    {
      "metadata": {
        "id": "hHE1gYXZO4w1",
        "colab_type": "code",
        "colab": {}
      },
      "cell_type": "code",
      "source": [
        "# Creating a data structure with 60 timesteps and 1 output\n",
        "X_train = []\n",
        "y_train = []\n",
        "for i in range(60, len(training_set)):\n",
        "    X_train.append(training_set_scaled[i-60:i, 0])\n",
        "    y_train.append(training_set_scaled[i, 0])\n",
        "X_train, y_train = np.array(X_train), np.array(y_train)\n",
        "\n",
        "# Reshaping\n",
        "X_train = np.reshape(X_train, (X_train.shape[0], X_train.shape[1], 1))\n",
        "# print(len(training_set))"
      ],
      "execution_count": 0,
      "outputs": []
    },
    {
      "metadata": {
        "id": "q6J5SCcOO4w5",
        "colab_type": "code",
        "colab": {}
      },
      "cell_type": "code",
      "source": [
        "# Part 2 - Building the RNN\n",
        "\n",
        "# Importing the Keras libraries and packages\n",
        "from keras.models import Sequential\n",
        "from keras.layers import Dense\n",
        "from keras.layers import LSTM\n",
        "from keras.layers import Dropout"
      ],
      "execution_count": 0,
      "outputs": []
    },
    {
      "metadata": {
        "id": "gR_P-In9O4w8",
        "colab_type": "code",
        "colab": {}
      },
      "cell_type": "code",
      "source": [
        "# Initialising the RNN\n",
        "regressor = Sequential()"
      ],
      "execution_count": 0,
      "outputs": []
    },
    {
      "metadata": {
        "id": "GvG3HtqJO4w-",
        "colab_type": "code",
        "colab": {}
      },
      "cell_type": "code",
      "source": [
        "# Adding the first LSTM layer and some Dropout regularisation\n",
        "regressor.add(LSTM(units = 50, return_sequences = True, input_shape = (X_train.shape[1], 1)))\n",
        "regressor.add(Dropout(0.2))\n",
        "\n",
        "# Adding a second LSTM layer and some Dropout regularisation\n",
        "regressor.add(LSTM(units = 50, return_sequences = True))\n",
        "regressor.add(Dropout(0.2))\n",
        "\n",
        "# Adding a third LSTM layer and some Dropout regularisation\n",
        "regressor.add(LSTM(units = 50, return_sequences = True))\n",
        "regressor.add(Dropout(0.2))\n",
        "\n",
        "# Adding a fourth LSTM layer and some Dropout regularisation\n",
        "regressor.add(LSTM(units = 50))\n",
        "regressor.add(Dropout(0.2))\n",
        "\n",
        "# Adding the output layer\n",
        "regressor.add(Dense(units = 1))"
      ],
      "execution_count": 0,
      "outputs": []
    },
    {
      "metadata": {
        "id": "GQUrVjMJO4xD",
        "colab_type": "code",
        "colab": {},
        "outputId": "f2238010-5db3-4f6f-8693-8e35098e93ff"
      },
      "cell_type": "code",
      "source": [
        "# Compiling the RNN\n",
        "regressor.compile(optimizer = 'adam', loss = 'mean_squared_error')\n",
        "\n",
        "# Fitting the RNN to the Training set\n",
        "regressor.fit(X_train, y_train, epochs = 100, batch_size = 32)"
      ],
      "execution_count": 0,
      "outputs": [
        {
          "output_type": "stream",
          "text": [
            "Epoch 1/100\n",
            "1708/1708 [==============================] - 32s 19ms/step - loss: 0.0398\n",
            "Epoch 2/100\n",
            "1708/1708 [==============================] - 25s 15ms/step - loss: 0.0081\n",
            "Epoch 3/100\n",
            "1708/1708 [==============================] - 33s 19ms/step - loss: 0.0070\n",
            "Epoch 4/100\n",
            "1708/1708 [==============================] - 27s 16ms/step - loss: 0.0063\n",
            "Epoch 5/100\n",
            "1708/1708 [==============================] - 27s 16ms/step - loss: 0.0057\n",
            "Epoch 6/100\n",
            "1708/1708 [==============================] - 25s 14ms/step - loss: 0.0065\n",
            "Epoch 7/100\n",
            "1708/1708 [==============================] - 26s 15ms/step - loss: 0.0058\n",
            "Epoch 8/100\n",
            "1708/1708 [==============================] - 26s 15ms/step - loss: 0.0052\n",
            "Epoch 9/100\n",
            "1708/1708 [==============================] - 34s 20ms/step - loss: 0.0052\n",
            "Epoch 10/100\n",
            "1708/1708 [==============================] - 35s 20ms/step - loss: 0.0053\n",
            "Epoch 11/100\n",
            "1708/1708 [==============================] - 35s 20ms/step - loss: 0.0048\n",
            "Epoch 12/100\n",
            "1708/1708 [==============================] - 35s 21ms/step - loss: 0.0048\n",
            "Epoch 13/100\n",
            "1708/1708 [==============================] - 27s 16ms/step - loss: 0.0046\n",
            "Epoch 14/100\n",
            "1708/1708 [==============================] - 27s 16ms/step - loss: 0.0048\n",
            "Epoch 15/100\n",
            "1708/1708 [==============================] - 24s 14ms/step - loss: 0.0044\n",
            "Epoch 16/100\n",
            "1708/1708 [==============================] - 25s 15ms/step - loss: 0.0045\n",
            "Epoch 17/100\n",
            "1708/1708 [==============================] - 26s 15ms/step - loss: 0.0048\n",
            "Epoch 18/100\n",
            "1708/1708 [==============================] - 26s 15ms/step - loss: 0.0043\n",
            "Epoch 19/100\n",
            "1708/1708 [==============================] - 27s 16ms/step - loss: 0.0038\n",
            "Epoch 20/100\n",
            "1708/1708 [==============================] - 26s 15ms/step - loss: 0.0040\n",
            "Epoch 21/100\n",
            "1708/1708 [==============================] - 28s 16ms/step - loss: 0.0038\n",
            "Epoch 22/100\n",
            "1708/1708 [==============================] - 29s 17ms/step - loss: 0.0037\n",
            "Epoch 23/100\n",
            "1708/1708 [==============================] - 27s 16ms/step - loss: 0.0034\n",
            "Epoch 24/100\n",
            "1708/1708 [==============================] - 26s 15ms/step - loss: 0.0035\n",
            "Epoch 25/100\n",
            "1708/1708 [==============================] - 32s 19ms/step - loss: 0.0033\n",
            "Epoch 26/100\n",
            "1708/1708 [==============================] - 29s 17ms/step - loss: 0.0033\n",
            "Epoch 27/100\n",
            "1708/1708 [==============================] - 28s 16ms/step - loss: 0.0030\n",
            "Epoch 28/100\n",
            "1708/1708 [==============================] - 29s 17ms/step - loss: 0.0032\n",
            "Epoch 29/100\n",
            "1708/1708 [==============================] - 33s 19ms/step - loss: 0.0029\n",
            "Epoch 30/100\n",
            "1708/1708 [==============================] - 31s 18ms/step - loss: 0.0029\n",
            "Epoch 31/100\n",
            "1708/1708 [==============================] - 36s 21ms/step - loss: 0.0028\n",
            "Epoch 32/100\n",
            "1708/1708 [==============================] - 34s 20ms/step - loss: 0.0028\n",
            "Epoch 33/100\n",
            "1708/1708 [==============================] - 38s 22ms/step - loss: 0.0027\n",
            "Epoch 34/100\n",
            "1708/1708 [==============================] - 31s 18ms/step - loss: 0.0025\n",
            "Epoch 35/100\n",
            "1708/1708 [==============================] - 31s 18ms/step - loss: 0.0025\n",
            "Epoch 36/100\n",
            "1708/1708 [==============================] - 41s 24ms/step - loss: 0.0027\n",
            "Epoch 37/100\n",
            "1708/1708 [==============================] - 37s 21ms/step - loss: 0.0024\n",
            "Epoch 38/100\n",
            "1708/1708 [==============================] - 31s 18ms/step - loss: 0.0025\n",
            "Epoch 39/100\n",
            "1708/1708 [==============================] - 30s 18ms/step - loss: 0.0022\n",
            "Epoch 40/100\n",
            "1708/1708 [==============================] - 35s 21ms/step - loss: 0.0025\n",
            "Epoch 41/100\n",
            "1708/1708 [==============================] - 34s 20ms/step - loss: 0.0022\n",
            "Epoch 42/100\n",
            "1708/1708 [==============================] - 34s 20ms/step - loss: 0.0022\n",
            "Epoch 43/100\n",
            "1708/1708 [==============================] - 35s 21ms/step - loss: 0.0021\n",
            "Epoch 44/100\n",
            "1708/1708 [==============================] - 37s 22ms/step - loss: 0.0021\n",
            "Epoch 45/100\n",
            "1708/1708 [==============================] - 38s 22ms/step - loss: 0.0021\n",
            "Epoch 46/100\n",
            "1708/1708 [==============================] - 33s 19ms/step - loss: 0.0020\n",
            "Epoch 47/100\n",
            "1708/1708 [==============================] - 35s 21ms/step - loss: 0.0022\n",
            "Epoch 48/100\n",
            "1708/1708 [==============================] - 26s 15ms/step - loss: 0.0019\n",
            "Epoch 49/100\n",
            "1708/1708 [==============================] - 25s 15ms/step - loss: 0.0019\n",
            "Epoch 50/100\n",
            "1708/1708 [==============================] - 25s 15ms/step - loss: 0.0020\n",
            "Epoch 51/100\n",
            "1708/1708 [==============================] - 25s 15ms/step - loss: 0.0020\n",
            "Epoch 52/100\n",
            "1708/1708 [==============================] - 25s 15ms/step - loss: 0.0018\n",
            "Epoch 53/100\n",
            "1708/1708 [==============================] - 25s 15ms/step - loss: 0.0018\n",
            "Epoch 54/100\n",
            "1708/1708 [==============================] - 25s 15ms/step - loss: 0.0017\n",
            "Epoch 55/100\n",
            "1708/1708 [==============================] - 25s 15ms/step - loss: 0.0016\n",
            "Epoch 56/100\n",
            "1708/1708 [==============================] - 25s 15ms/step - loss: 0.0018\n",
            "Epoch 57/100\n",
            "1708/1708 [==============================] - 25s 15ms/step - loss: 0.0016\n",
            "Epoch 58/100\n",
            "1708/1708 [==============================] - 25s 15ms/step - loss: 0.0017\n",
            "Epoch 59/100\n",
            "1708/1708 [==============================] - 25s 15ms/step - loss: 0.0018\n",
            "Epoch 60/100\n",
            "1708/1708 [==============================] - 25s 15ms/step - loss: 0.0016\n",
            "Epoch 61/100\n",
            "1708/1708 [==============================] - 26s 15ms/step - loss: 0.0017\n",
            "Epoch 62/100\n",
            "1708/1708 [==============================] - 26s 15ms/step - loss: 0.0015\n",
            "Epoch 63/100\n",
            "1708/1708 [==============================] - 25s 15ms/step - loss: 0.0015\n",
            "Epoch 64/100\n",
            "1708/1708 [==============================] - 25s 15ms/step - loss: 0.0016\n",
            "Epoch 65/100\n",
            "1708/1708 [==============================] - 25s 15ms/step - loss: 0.0016\n",
            "Epoch 66/100\n",
            "1708/1708 [==============================] - 26s 15ms/step - loss: 0.0016\n",
            "Epoch 67/100\n",
            "1708/1708 [==============================] - 25s 15ms/step - loss: 0.0015\n",
            "Epoch 68/100\n",
            "1708/1708 [==============================] - 25s 15ms/step - loss: 0.0015\n",
            "Epoch 69/100\n",
            "1708/1708 [==============================] - 25s 15ms/step - loss: 0.0015\n",
            "Epoch 70/100\n",
            "1708/1708 [==============================] - 25s 15ms/step - loss: 0.0015\n",
            "Epoch 71/100\n",
            "1708/1708 [==============================] - 26s 15ms/step - loss: 0.0015\n",
            "Epoch 72/100\n",
            "1708/1708 [==============================] - 25s 15ms/step - loss: 0.0014\n",
            "Epoch 73/100\n",
            "1708/1708 [==============================] - 26s 15ms/step - loss: 0.0014\n",
            "Epoch 74/100\n",
            "1708/1708 [==============================] - 26s 15ms/step - loss: 0.0015\n",
            "Epoch 75/100\n",
            "1708/1708 [==============================] - 25s 15ms/step - loss: 0.0014\n",
            "Epoch 76/100\n",
            "1708/1708 [==============================] - 26s 15ms/step - loss: 0.0014\n",
            "Epoch 77/100\n",
            "1708/1708 [==============================] - 25s 15ms/step - loss: 0.0014\n",
            "Epoch 78/100\n",
            "1708/1708 [==============================] - 25s 15ms/step - loss: 0.0013\n",
            "Epoch 79/100\n",
            "1708/1708 [==============================] - 26s 15ms/step - loss: 0.0014\n",
            "Epoch 80/100\n",
            "1708/1708 [==============================] - 25s 15ms/step - loss: 0.0014\n",
            "Epoch 81/100\n",
            "1708/1708 [==============================] - 25s 15ms/step - loss: 0.0013\n",
            "Epoch 82/100\n",
            "1708/1708 [==============================] - 25s 15ms/step - loss: 0.0014\n",
            "Epoch 83/100\n",
            "1708/1708 [==============================] - 26s 15ms/step - loss: 0.0015\n",
            "Epoch 84/100\n",
            "1708/1708 [==============================] - 26s 15ms/step - loss: 0.0013\n",
            "Epoch 85/100\n",
            "1708/1708 [==============================] - 26s 15ms/step - loss: 0.0012\n",
            "Epoch 86/100\n",
            "1708/1708 [==============================] - 26s 15ms/step - loss: 0.0013\n",
            "Epoch 87/100\n",
            "1708/1708 [==============================] - 26s 15ms/step - loss: 0.0013\n",
            "Epoch 88/100\n",
            "1708/1708 [==============================] - 26s 15ms/step - loss: 0.0013\n",
            "Epoch 89/100\n",
            "1708/1708 [==============================] - 25s 15ms/step - loss: 0.0013\n",
            "Epoch 90/100\n",
            "1708/1708 [==============================] - 25s 15ms/step - loss: 0.0012\n",
            "Epoch 91/100\n",
            "1708/1708 [==============================] - 25s 15ms/step - loss: 0.0012\n",
            "Epoch 92/100\n",
            "1708/1708 [==============================] - 26s 15ms/step - loss: 0.0012\n",
            "Epoch 93/100\n",
            "1708/1708 [==============================] - 26s 15ms/step - loss: 0.0013\n",
            "Epoch 94/100\n",
            "1708/1708 [==============================] - 26s 15ms/step - loss: 0.0013\n",
            "Epoch 95/100\n",
            "1708/1708 [==============================] - 26s 15ms/step - loss: 0.0012\n",
            "Epoch 96/100\n",
            "1708/1708 [==============================] - 26s 15ms/step - loss: 0.0012\n",
            "Epoch 97/100\n",
            "1708/1708 [==============================] - 26s 15ms/step - loss: 0.0012\n",
            "Epoch 98/100\n",
            "1708/1708 [==============================] - 26s 15ms/step - loss: 0.0012\n",
            "Epoch 99/100\n",
            "1708/1708 [==============================] - 33s 19ms/step - loss: 0.0012\n",
            "Epoch 100/100\n",
            "1708/1708 [==============================] - 28s 16ms/step - loss: 0.0012\n"
          ],
          "name": "stdout"
        },
        {
          "output_type": "execute_result",
          "data": {
            "text/plain": [
              "<keras.callbacks.History at 0x10f8bfdd8>"
            ]
          },
          "metadata": {
            "tags": []
          },
          "execution_count": 21
        }
      ]
    },
    {
      "metadata": {
        "id": "zsiD3nXbO4xG",
        "colab_type": "code",
        "colab": {}
      },
      "cell_type": "code",
      "source": [
        "dataset_test = pd.read_csv('data/GENTING_test_set.csv', parse_dates=True)\n",
        "clean_dataset(dataset_test)"
      ],
      "execution_count": 0,
      "outputs": []
    },
    {
      "metadata": {
        "id": "gE0Pz0k5O4xJ",
        "colab_type": "code",
        "colab": {},
        "outputId": "cd124e8e-0e35-4084-f8e8-5061555c5319"
      },
      "cell_type": "code",
      "source": [
        "dataset_test.head()"
      ],
      "execution_count": 0,
      "outputs": [
        {
          "output_type": "execute_result",
          "data": {
            "application/vnd.dataresource+json": {
              "data": [
                {
                  "Close": 7.4,
                  "Date": "2018-11-01T00:00:00.000Z",
                  "High": 7.43,
                  "Low": 7.24,
                  "Open": 7.34,
                  "Volume": 1730000
                },
                {
                  "Close": 7.2,
                  "Date": "2018-11-02T00:00:00.000Z",
                  "High": 7.78,
                  "Low": 7.2,
                  "Open": 7.45,
                  "Volume": 25910000
                },
                {
                  "Close": 6.74,
                  "Date": "2018-11-05T00:00:00.000Z",
                  "High": 6.96,
                  "Low": 6.35,
                  "Open": 6.53,
                  "Volume": 36450000
                },
                {
                  "Close": 6.74,
                  "Date": "2018-11-07T00:00:00.000Z",
                  "High": 6.93,
                  "Low": 6.7,
                  "Open": 6.8,
                  "Volume": 12300000
                },
                {
                  "Close": 6.76,
                  "Date": "2018-11-08T00:00:00.000Z",
                  "High": 6.85,
                  "Low": 6.73,
                  "Open": 6.85,
                  "Volume": 14210000
                }
              ],
              "schema": {
                "fields": [
                  {
                    "name": "Date",
                    "type": "datetime"
                  },
                  {
                    "name": "Close",
                    "type": "number"
                  },
                  {
                    "name": "Open",
                    "type": "number"
                  },
                  {
                    "name": "High",
                    "type": "number"
                  },
                  {
                    "name": "Low",
                    "type": "number"
                  },
                  {
                    "name": "Volume",
                    "type": "number"
                  }
                ],
                "pandas_version": "0.20.0",
                "primaryKey": [
                  "Date"
                ]
              }
            },
            "text/html": [
              "<div>\n",
              "<style scoped>\n",
              "    .dataframe tbody tr th:only-of-type {\n",
              "        vertical-align: middle;\n",
              "    }\n",
              "\n",
              "    .dataframe tbody tr th {\n",
              "        vertical-align: top;\n",
              "    }\n",
              "\n",
              "    .dataframe thead th {\n",
              "        text-align: right;\n",
              "    }\n",
              "</style>\n",
              "<table border=\"1\" class=\"dataframe\">\n",
              "  <thead>\n",
              "    <tr style=\"text-align: right;\">\n",
              "      <th></th>\n",
              "      <th>Close</th>\n",
              "      <th>Open</th>\n",
              "      <th>High</th>\n",
              "      <th>Low</th>\n",
              "      <th>Volume</th>\n",
              "    </tr>\n",
              "    <tr>\n",
              "      <th>Date</th>\n",
              "      <th></th>\n",
              "      <th></th>\n",
              "      <th></th>\n",
              "      <th></th>\n",
              "      <th></th>\n",
              "    </tr>\n",
              "  </thead>\n",
              "  <tbody>\n",
              "    <tr>\n",
              "      <th>2018-11-01</th>\n",
              "      <td>7.40</td>\n",
              "      <td>7.34</td>\n",
              "      <td>7.43</td>\n",
              "      <td>7.24</td>\n",
              "      <td>1730000.0</td>\n",
              "    </tr>\n",
              "    <tr>\n",
              "      <th>2018-11-02</th>\n",
              "      <td>7.20</td>\n",
              "      <td>7.45</td>\n",
              "      <td>7.78</td>\n",
              "      <td>7.20</td>\n",
              "      <td>25910000.0</td>\n",
              "    </tr>\n",
              "    <tr>\n",
              "      <th>2018-11-05</th>\n",
              "      <td>6.74</td>\n",
              "      <td>6.53</td>\n",
              "      <td>6.96</td>\n",
              "      <td>6.35</td>\n",
              "      <td>36450000.0</td>\n",
              "    </tr>\n",
              "    <tr>\n",
              "      <th>2018-11-07</th>\n",
              "      <td>6.74</td>\n",
              "      <td>6.80</td>\n",
              "      <td>6.93</td>\n",
              "      <td>6.70</td>\n",
              "      <td>12300000.0</td>\n",
              "    </tr>\n",
              "    <tr>\n",
              "      <th>2018-11-08</th>\n",
              "      <td>6.76</td>\n",
              "      <td>6.85</td>\n",
              "      <td>6.85</td>\n",
              "      <td>6.73</td>\n",
              "      <td>14210000.0</td>\n",
              "    </tr>\n",
              "  </tbody>\n",
              "</table>\n",
              "</div>"
            ],
            "text/plain": [
              "            Close  Open  High   Low      Volume\n",
              "Date                                           \n",
              "2018-11-01   7.40  7.34  7.43  7.24   1730000.0\n",
              "2018-11-02   7.20  7.45  7.78  7.20  25910000.0\n",
              "2018-11-05   6.74  6.53  6.96  6.35  36450000.0\n",
              "2018-11-07   6.74  6.80  6.93  6.70  12300000.0\n",
              "2018-11-08   6.76  6.85  6.85  6.73  14210000.0"
            ]
          },
          "metadata": {
            "tags": []
          },
          "execution_count": 25
        }
      ]
    },
    {
      "metadata": {
        "id": "ssSXeR2jO4xL",
        "colab_type": "code",
        "colab": {},
        "outputId": "fc190281-37bf-4995-f632-55f83750320a"
      },
      "cell_type": "code",
      "source": [
        "dataset_test.info()"
      ],
      "execution_count": 0,
      "outputs": [
        {
          "output_type": "stream",
          "text": [
            "<class 'pandas.core.frame.DataFrame'>\n",
            "DatetimeIndex: 53 entries, 2018-11-01 to 2019-01-18\n",
            "Data columns (total 5 columns):\n",
            "Close     53 non-null float64\n",
            "Open      53 non-null float64\n",
            "High      53 non-null float64\n",
            "Low       53 non-null float64\n",
            "Volume    53 non-null float64\n",
            "dtypes: float64(5)\n",
            "memory usage: 2.5 KB\n"
          ],
          "name": "stdout"
        }
      ]
    },
    {
      "metadata": {
        "id": "MJOkrCTRO4xO",
        "colab_type": "code",
        "colab": {}
      },
      "cell_type": "code",
      "source": [
        "test_set=dataset_test['Open']\n",
        "test_set=pd.DataFrame(test_set)"
      ],
      "execution_count": 0,
      "outputs": []
    },
    {
      "metadata": {
        "id": "SEeK7ryeO4xR",
        "colab_type": "code",
        "colab": {},
        "outputId": "9a7b2593-95b9-4ed0-c606-f59534b08154"
      },
      "cell_type": "code",
      "source": [
        "test_set.info()"
      ],
      "execution_count": 0,
      "outputs": [
        {
          "output_type": "stream",
          "text": [
            "<class 'pandas.core.frame.DataFrame'>\n",
            "DatetimeIndex: 53 entries, 2018-11-01 to 2019-01-18\n",
            "Data columns (total 1 columns):\n",
            "Open    53 non-null float64\n",
            "dtypes: float64(1)\n",
            "memory usage: 848.0 bytes\n"
          ],
          "name": "stdout"
        }
      ]
    },
    {
      "metadata": {
        "id": "bWu1C9cSO4xS",
        "colab_type": "code",
        "colab": {}
      },
      "cell_type": "code",
      "source": [
        "# Feature Scaling\n",
        "from sklearn.preprocessing import MinMaxScaler\n",
        "sc = MinMaxScaler(feature_range = (0, 1))\n",
        "test_set_scaled = sc.fit_transform(test_set)"
      ],
      "execution_count": 0,
      "outputs": []
    },
    {
      "metadata": {
        "id": "ycGhgqUXO4xX",
        "colab_type": "code",
        "colab": {},
        "outputId": "b8d9ce51-0fb5-4f4a-fa07-71a67033d17c"
      },
      "cell_type": "code",
      "source": [
        "test_set_scaled=pd.DataFrame(test_set_scaled)\n",
        "test_set_scaled.head()"
      ],
      "execution_count": 0,
      "outputs": [
        {
          "output_type": "execute_result",
          "data": {
            "application/vnd.dataresource+json": {
              "data": [
                {
                  "0": 0.9266666667,
                  "index": 0
                },
                {
                  "0": 1,
                  "index": 1
                },
                {
                  "0": 0.3866666667,
                  "index": 2
                },
                {
                  "0": 0.5666666667,
                  "index": 3
                },
                {
                  "0": 0.6,
                  "index": 4
                }
              ],
              "schema": {
                "fields": [
                  {
                    "name": "index",
                    "type": "integer"
                  },
                  {
                    "name": 0,
                    "type": "number"
                  }
                ],
                "pandas_version": "0.20.0",
                "primaryKey": [
                  "index"
                ]
              }
            },
            "text/html": [
              "<div>\n",
              "<style scoped>\n",
              "    .dataframe tbody tr th:only-of-type {\n",
              "        vertical-align: middle;\n",
              "    }\n",
              "\n",
              "    .dataframe tbody tr th {\n",
              "        vertical-align: top;\n",
              "    }\n",
              "\n",
              "    .dataframe thead th {\n",
              "        text-align: right;\n",
              "    }\n",
              "</style>\n",
              "<table border=\"1\" class=\"dataframe\">\n",
              "  <thead>\n",
              "    <tr style=\"text-align: right;\">\n",
              "      <th></th>\n",
              "      <th>0</th>\n",
              "    </tr>\n",
              "  </thead>\n",
              "  <tbody>\n",
              "    <tr>\n",
              "      <th>0</th>\n",
              "      <td>0.926667</td>\n",
              "    </tr>\n",
              "    <tr>\n",
              "      <th>1</th>\n",
              "      <td>1.000000</td>\n",
              "    </tr>\n",
              "    <tr>\n",
              "      <th>2</th>\n",
              "      <td>0.386667</td>\n",
              "    </tr>\n",
              "    <tr>\n",
              "      <th>3</th>\n",
              "      <td>0.566667</td>\n",
              "    </tr>\n",
              "    <tr>\n",
              "      <th>4</th>\n",
              "      <td>0.600000</td>\n",
              "    </tr>\n",
              "  </tbody>\n",
              "</table>\n",
              "</div>"
            ],
            "text/plain": [
              "          0\n",
              "0  0.926667\n",
              "1  1.000000\n",
              "2  0.386667\n",
              "3  0.566667\n",
              "4  0.600000"
            ]
          },
          "metadata": {
            "tags": []
          },
          "execution_count": 87
        }
      ]
    },
    {
      "metadata": {
        "id": "pVn3xE5xO4xZ",
        "colab_type": "code",
        "colab": {},
        "outputId": "b86a3fab-720e-45fa-eab8-71a4e943fab3"
      },
      "cell_type": "code",
      "source": [
        "# Getting the predicted stock price of 2017\n",
        "dataset_total = pd.concat((dataset['Open'], dataset_test['Open']), axis = 0)\n",
        "inputs = dataset_total[len(dataset_total) - len(dataset_test) - 60:].values\n",
        "inputs = inputs.reshape(-1,1)\n",
        "inputs = sc.transform(inputs)\n",
        "X_test = []\n",
        "for i in range(60, 80):\n",
        "    X_test.append(inputs[i-60:i, 0])\n",
        "print(len(X_test[0]))\n",
        "X_test = np.array(X_test)\n",
        "X_test = np.reshape(X_test, (X_test.shape[0], X_test.shape[1], 1))\n",
        "predicted_stock_price = regressor.predict(X_test)\n",
        "predicted_stock_price = sc.inverse_transform(predicted_stock_price)\n",
        "print(X_test.shape)\n",
        "print(predicted_stock_price.shape)\n",
        "\n",
        "inputs = dataset_total[len(dataset_total) - len(dataset_test) - 60:].values\n",
        "inputs = inputs.reshape(-1,1)\n",
        "real_stock_price = []\n",
        "for i in range(60, 80):\n",
        "    real_stock_price.append(inputs[i-60:i, 0])    \n",
        "real_stock_price = np.array(real_stock_price)\n",
        "#print(real_stock_price)\n",
        "\n",
        "#print(predicted_stock_price.shape)\n",
        "#print(real_stock_prices.shape)\n",
        "#real_stock_prices = dataset_total[len(dataset_total) - len(dataset_test) - 60:].values\n",
        "#real_stock_prices = real_stock_prices.reshape(-1,1)\n",
        "#print(len(real_stock_prices))\n",
        "#print(len(predicted_stock_price))\n",
        "\n",
        "# Visualising the results\n",
        "#plt.plot(real_stock_prices, color = 'red', label = 'Real Genting Stock Price')\n",
        "plt.plot(predicted_stock_price, color = 'blue', label = 'Predicted Genting Stock Price')\n",
        "plt.title('Genting Stock Price Prediction')\n",
        "plt.xlabel('Time')\n",
        "plt.ylabel('Genting Stock Price')\n",
        "plt.legend()\n",
        "plt.show()\n",
        "#print(predicted_stock_price)\n",
        "#print(test_set)"
      ],
      "execution_count": 0,
      "outputs": [
        {
          "output_type": "stream",
          "text": [
            "60\n",
            "(20, 60, 1)\n",
            "(20, 1)\n"
          ],
          "name": "stdout"
        },
        {
          "output_type": "display_data",
          "data": {
            "image/png": "[encoded data removed]",
            "text/plain": [
              "<Figure size 432x288 with 1 Axes>"
            ]
          },
          "metadata": {
            "tags": [],
            "needs_background": "light"
          }
        }
      ]
    },
    {
      "metadata": {
        "id": "M9j5-0o9O4xc",
        "colab_type": "code",
        "colab": {}
      },
      "cell_type": "code",
      "source": [
        "# https://machinelearningmastery.com/make-predictions-long-short-term-memory-models-keras/\n",
        "# Save the model\n",
        "# regressor.save('Genting.h5')"
      ],
      "execution_count": 0,
      "outputs": []
    },
    {
      "metadata": {
        "id": "0s815ZuQO4xe",
        "colab_type": "code",
        "colab": {}
      },
      "cell_type": "code",
      "source": [
        "# from keras.models import load_model\n",
        "# load model from single file\n",
        "# model = load_model('Genting.h5')\n",
        "# make predictions\n"
      ],
      "execution_count": 0,
      "outputs": []
    },
    {
      "metadata": {
        "id": "O6emhMkuO4xg",
        "colab_type": "text"
      },
      "cell_type": "markdown",
      "source": [
        "# Prediction\n",
        "\n",
        "* https://blog.statsbot.co/time-series-prediction-using-recurrent-neural-networks-lstms-807fa6ca7f\n",
        "* https://github.com/neelabhpant/Deep-Learning-in-Python/blob/master/Time%20Series%20Prediction.ipynb"
      ]
    },
    {
      "metadata": {
        "id": "boVm4fyXO4xh",
        "colab_type": "code",
        "colab": {},
        "outputId": "777a569a-a4c8-44b6-c94d-1b612c0ff759"
      },
      "cell_type": "code",
      "source": [
        "df_idx = pd.read_csv('data/GENTING_data_set.csv')\n",
        "df_idx['Date'] = pd.to_datetime(df_idx[\"Date\"])\n",
        "clean_dataset(df_idx)\n",
        "df_idx.head(10)"
      ],
      "execution_count": 0,
      "outputs": [
        {
          "output_type": "execute_result",
          "data": {
            "application/vnd.dataresource+json": {
              "data": [
                {
                  "Close": 10.14,
                  "Date": "2011-08-15T00:00:00.000Z",
                  "High": 10.16,
                  "Low": 10.08,
                  "Open": 10.1,
                  "Volume": 6490000
                },
                {
                  "Close": 10.1,
                  "Date": "2011-08-16T00:00:00.000Z",
                  "High": 10.24,
                  "Low": 10.02,
                  "Open": 10.18,
                  "Volume": 3160000
                },
                {
                  "Close": 10.04,
                  "Date": "2011-08-17T00:00:00.000Z",
                  "High": 10.1,
                  "Low": 10.02,
                  "Open": 10.1,
                  "Volume": 5410000
                },
                {
                  "Close": 9.98,
                  "Date": "2011-08-18T00:00:00.000Z",
                  "High": 10.14,
                  "Low": 9.97,
                  "Open": 10.14,
                  "Volume": 5350000
                },
                {
                  "Close": 9.7,
                  "Date": "2011-08-19T00:00:00.000Z",
                  "High": 9.85,
                  "Low": 9.65,
                  "Open": 9.85,
                  "Volume": 11570000
                },
                {
                  "Close": 9.51,
                  "Date": "2011-08-22T00:00:00.000Z",
                  "High": 9.69,
                  "Low": 9.49,
                  "Open": 9.68,
                  "Volume": 8520000
                },
                {
                  "Close": 9.7,
                  "Date": "2011-08-23T00:00:00.000Z",
                  "High": 9.7,
                  "Low": 9.4,
                  "Open": 9.55,
                  "Volume": 6520000
                },
                {
                  "Close": 9.52,
                  "Date": "2011-08-24T00:00:00.000Z",
                  "High": 9.8,
                  "Low": 9.52,
                  "Open": 9.8,
                  "Volume": 5090000
                },
                {
                  "Close": 9.78,
                  "Date": "2011-08-25T00:00:00.000Z",
                  "High": 9.78,
                  "Low": 9.54,
                  "Open": 9.55,
                  "Volume": 6120000
                },
                {
                  "Close": 9.46,
                  "Date": "2011-08-26T00:00:00.000Z",
                  "High": 9.73,
                  "Low": 9.43,
                  "Open": 9.73,
                  "Volume": 4560000
                }
              ],
              "schema": {
                "fields": [
                  {
                    "name": "Date",
                    "type": "datetime"
                  },
                  {
                    "name": "Close",
                    "type": "number"
                  },
                  {
                    "name": "Open",
                    "type": "number"
                  },
                  {
                    "name": "High",
                    "type": "number"
                  },
                  {
                    "name": "Low",
                    "type": "number"
                  },
                  {
                    "name": "Volume",
                    "type": "number"
                  }
                ],
                "pandas_version": "0.20.0",
                "primaryKey": [
                  "Date"
                ]
              }
            },
            "text/html": [
              "<div>\n",
              "<style scoped>\n",
              "    .dataframe tbody tr th:only-of-type {\n",
              "        vertical-align: middle;\n",
              "    }\n",
              "\n",
              "    .dataframe tbody tr th {\n",
              "        vertical-align: top;\n",
              "    }\n",
              "\n",
              "    .dataframe thead th {\n",
              "        text-align: right;\n",
              "    }\n",
              "</style>\n",
              "<table border=\"1\" class=\"dataframe\">\n",
              "  <thead>\n",
              "    <tr style=\"text-align: right;\">\n",
              "      <th></th>\n",
              "      <th>Close</th>\n",
              "      <th>Open</th>\n",
              "      <th>High</th>\n",
              "      <th>Low</th>\n",
              "      <th>Volume</th>\n",
              "    </tr>\n",
              "    <tr>\n",
              "      <th>Date</th>\n",
              "      <th></th>\n",
              "      <th></th>\n",
              "      <th></th>\n",
              "      <th></th>\n",
              "      <th></th>\n",
              "    </tr>\n",
              "  </thead>\n",
              "  <tbody>\n",
              "    <tr>\n",
              "      <th>2011-08-15</th>\n",
              "      <td>10.14</td>\n",
              "      <td>10.10</td>\n",
              "      <td>10.16</td>\n",
              "      <td>10.08</td>\n",
              "      <td>6490000.0</td>\n",
              "    </tr>\n",
              "    <tr>\n",
              "      <th>2011-08-16</th>\n",
              "      <td>10.10</td>\n",
              "      <td>10.18</td>\n",
              "      <td>10.24</td>\n",
              "      <td>10.02</td>\n",
              "      <td>3160000.0</td>\n",
              "    </tr>\n",
              "    <tr>\n",
              "      <th>2011-08-17</th>\n",
              "      <td>10.04</td>\n",
              "      <td>10.10</td>\n",
              "      <td>10.10</td>\n",
              "      <td>10.02</td>\n",
              "      <td>5410000.0</td>\n",
              "    </tr>\n",
              "    <tr>\n",
              "      <th>2011-08-18</th>\n",
              "      <td>9.98</td>\n",
              "      <td>10.14</td>\n",
              "      <td>10.14</td>\n",
              "      <td>9.97</td>\n",
              "      <td>5350000.0</td>\n",
              "    </tr>\n",
              "    <tr>\n",
              "      <th>2011-08-19</th>\n",
              "      <td>9.70</td>\n",
              "      <td>9.85</td>\n",
              "      <td>9.85</td>\n",
              "      <td>9.65</td>\n",
              "      <td>11570000.0</td>\n",
              "    </tr>\n",
              "    <tr>\n",
              "      <th>2011-08-22</th>\n",
              "      <td>9.51</td>\n",
              "      <td>9.68</td>\n",
              "      <td>9.69</td>\n",
              "      <td>9.49</td>\n",
              "      <td>8520000.0</td>\n",
              "    </tr>\n",
              "    <tr>\n",
              "      <th>2011-08-23</th>\n",
              "      <td>9.70</td>\n",
              "      <td>9.55</td>\n",
              "      <td>9.70</td>\n",
              "      <td>9.40</td>\n",
              "      <td>6520000.0</td>\n",
              "    </tr>\n",
              "    <tr>\n",
              "      <th>2011-08-24</th>\n",
              "      <td>9.52</td>\n",
              "      <td>9.80</td>\n",
              "      <td>9.80</td>\n",
              "      <td>9.52</td>\n",
              "      <td>5090000.0</td>\n",
              "    </tr>\n",
              "    <tr>\n",
              "      <th>2011-08-25</th>\n",
              "      <td>9.78</td>\n",
              "      <td>9.55</td>\n",
              "      <td>9.78</td>\n",
              "      <td>9.54</td>\n",
              "      <td>6120000.0</td>\n",
              "    </tr>\n",
              "    <tr>\n",
              "      <th>2011-08-26</th>\n",
              "      <td>9.46</td>\n",
              "      <td>9.73</td>\n",
              "      <td>9.73</td>\n",
              "      <td>9.43</td>\n",
              "      <td>4560000.0</td>\n",
              "    </tr>\n",
              "  </tbody>\n",
              "</table>\n",
              "</div>"
            ],
            "text/plain": [
              "            Close   Open   High    Low      Volume\n",
              "Date                                              \n",
              "2011-08-15  10.14  10.10  10.16  10.08   6490000.0\n",
              "2011-08-16  10.10  10.18  10.24  10.02   3160000.0\n",
              "2011-08-17  10.04  10.10  10.10  10.02   5410000.0\n",
              "2011-08-18   9.98  10.14  10.14   9.97   5350000.0\n",
              "2011-08-19   9.70   9.85   9.85   9.65  11570000.0\n",
              "2011-08-22   9.51   9.68   9.69   9.49   8520000.0\n",
              "2011-08-23   9.70   9.55   9.70   9.40   6520000.0\n",
              "2011-08-24   9.52   9.80   9.80   9.52   5090000.0\n",
              "2011-08-25   9.78   9.55   9.78   9.54   6120000.0\n",
              "2011-08-26   9.46   9.73   9.73   9.43   4560000.0"
            ]
          },
          "metadata": {
            "tags": []
          },
          "execution_count": 4
        }
      ]
    },
    {
      "metadata": {
        "id": "YGXgtE7rO4xk",
        "colab_type": "code",
        "colab": {}
      },
      "cell_type": "code",
      "source": [
        "#df_idx = df_idx.sort_index(axis=1, ascending=True)\n",
        "#df_idx = df_idx.iloc[::-1]\n",
        "#df_idx.head(10)"
      ],
      "execution_count": 0,
      "outputs": []
    },
    {
      "metadata": {
        "id": "70bQ8HcdO4xo",
        "colab_type": "code",
        "colab": {},
        "outputId": "dab6542a-ccf1-470a-b6b1-3475335e3afb"
      },
      "cell_type": "code",
      "source": [
        "data = df_idx[['Close']]\n",
        "data.plot(y='Close')"
      ],
      "execution_count": 0,
      "outputs": [
        {
          "output_type": "execute_result",
          "data": {
            "text/plain": [
              "<matplotlib.axes._subplots.AxesSubplot at 0x1a492d4080>"
            ]
          },
          "metadata": {
            "tags": []
          },
          "execution_count": 141
        },
        {
          "output_type": "display_data",
          "data": {
            "image/png": "[encoded data removed]",
            "text/plain": [
              "<Figure size 432x288 with 1 Axes>"
            ]
          },
          "metadata": {
            "tags": [],
            "needs_background": "light"
          }
        }
      ]
    },
    {
      "metadata": {
        "id": "Mv_s9Q0LO4xq",
        "colab_type": "code",
        "colab": {},
        "outputId": "6187866d-2ae8-40db-e4a0-73cd8ed7b8e5"
      },
      "cell_type": "code",
      "source": [
        "diff = data.index.values[-1] - data.index.values[0]\n",
        "days = diff.astype('timedelta64[D]')\n",
        "days = days / np.timedelta64(1, 'D')\n",
        "years = int(days/365)\n",
        "print(\"Total data: %d years\"%years)\n",
        "print(\"80 percent data = 2011 to %d\"%(2011 + int(0.8*years)))"
      ],
      "execution_count": 0,
      "outputs": [
        {
          "output_type": "stream",
          "text": [
            "Total data: 7 years\n",
            "80 percent data = 2011 to 2016\n"
          ],
          "name": "stdout"
        }
      ]
    },
    {
      "metadata": {
        "id": "5uMN9-nZO4xs",
        "colab_type": "text"
      },
      "cell_type": "markdown",
      "source": [
        "### Create training and test data"
      ]
    },
    {
      "metadata": {
        "id": "r8-zNnPNO4xt",
        "colab_type": "code",
        "colab": {},
        "outputId": "61e61e8e-1f09-4435-9f00-9934f3a2fa24"
      },
      "cell_type": "code",
      "source": [
        "split_date = pd.Timestamp('07-07-2018')\n",
        "\n",
        "train = data.loc[:split_date]\n",
        "test = data.loc[split_date:]\n",
        "\n",
        "ax = train.plot(figsize=(10,12))\n",
        "test.plot(ax=ax)\n",
        "plt.legend(['train', 'test'])\n",
        "plt.show()"
      ],
      "execution_count": 0,
      "outputs": [
        {
          "output_type": "display_data",
          "data": {
            "image/png": "[encoded data removed]",
            "text/plain": [
              "<Figure size 720x864 with 1 Axes>"
            ]
          },
          "metadata": {
            "tags": [],
            "needs_background": "light"
          }
        }
      ]
    },
    {
      "metadata": {
        "id": "l6uTTdCxO4xw",
        "colab_type": "text"
      },
      "cell_type": "markdown",
      "source": [
        "### Normalize the dataset"
      ]
    },
    {
      "metadata": {
        "id": "mO72hooIO4xw",
        "colab_type": "code",
        "colab": {}
      },
      "cell_type": "code",
      "source": [
        "from sklearn.preprocessing import MinMaxScaler\n",
        "sc = MinMaxScaler()\n",
        "train_sc = sc.fit_transform(train)\n",
        "test_sc = sc.transform(test)"
      ],
      "execution_count": 0,
      "outputs": []
    },
    {
      "metadata": {
        "id": "VlKT65g6O4xy",
        "colab_type": "code",
        "colab": {},
        "outputId": "4452b8a3-83b4-4917-ab3c-1b6779672872"
      },
      "cell_type": "code",
      "source": [
        "train_sc_df = pd.DataFrame(train_sc, columns=['Y'], index=train.index)\n",
        "test_sc_df = pd.DataFrame(test_sc, columns=['Y'], index=test.index)\n",
        "\n",
        "for s in range(1,2):\n",
        "    train_sc_df['X_{}'.format(s)] = train_sc_df['Y'].shift(s)\n",
        "    test_sc_df['X_{}'.format(s)] = test_sc_df['Y'].shift(s)\n",
        "\n",
        "#print(train_sc_df)\n",
        "X_train = train_sc_df.dropna().drop('Y', axis=1)\n",
        "y_train = train_sc_df.dropna().drop('X_1', axis=1)\n",
        "\n",
        "X_test = test_sc_df.dropna().drop('Y', axis=1)\n",
        "y_test = test_sc_df.dropna().drop('X_1', axis=1)\n",
        "\n",
        "X_train = X_train.as_matrix()\n",
        "y_train = y_train.as_matrix()\n",
        "\n",
        "X_test = X_test.as_matrix()\n",
        "y_test = y_test.as_matrix()"
      ],
      "execution_count": 0,
      "outputs": [
        {
          "output_type": "stream",
          "text": [
            "/Users/mengwangk/anaconda3/lib/python3.6/site-packages/ipykernel_launcher.py:15: FutureWarning: Method .as_matrix will be removed in a future version. Use .values instead.\n",
            "  from ipykernel import kernelapp as app\n",
            "/Users/mengwangk/anaconda3/lib/python3.6/site-packages/ipykernel_launcher.py:16: FutureWarning: Method .as_matrix will be removed in a future version. Use .values instead.\n",
            "  app.launch_new_instance()\n",
            "/Users/mengwangk/anaconda3/lib/python3.6/site-packages/ipykernel_launcher.py:18: FutureWarning: Method .as_matrix will be removed in a future version. Use .values instead.\n",
            "/Users/mengwangk/anaconda3/lib/python3.6/site-packages/ipykernel_launcher.py:19: FutureWarning: Method .as_matrix will be removed in a future version. Use .values instead.\n"
          ],
          "name": "stderr"
        }
      ]
    },
    {
      "metadata": {
        "id": "T-U4-zUyO4x1",
        "colab_type": "code",
        "colab": {},
        "outputId": "c8a70a2d-06dd-4454-e2b4-32cfebb6cff3"
      },
      "cell_type": "code",
      "source": [
        "print('Train size: (%d x %d)'%(X_train.shape[0], X_train.shape[1]))\n",
        "print('Test size: (%d x %d)'%(X_test.shape[0], X_test.shape[1]))"
      ],
      "execution_count": 0,
      "outputs": [
        {
          "output_type": "stream",
          "text": [
            "Train size: (1689 x 1)\n",
            "Test size: (130 x 1)\n"
          ],
          "name": "stdout"
        }
      ]
    },
    {
      "metadata": {
        "id": "9l47bVzzO4x6",
        "colab_type": "text"
      },
      "cell_type": "markdown",
      "source": [
        "### Setup baseline model of SVM regressor"
      ]
    },
    {
      "metadata": {
        "id": "ZSq8vuTCO4x7",
        "colab_type": "code",
        "colab": {},
        "outputId": "ca8d27d3-7b53-486d-d122-b6df4c089146"
      },
      "cell_type": "code",
      "source": [
        "from sklearn.svm import SVR\n",
        "regressor = SVR(kernel='rbf')\n",
        "regressor.fit(X_train, y_train)\n",
        "y_pred = regressor.predict(X_test)"
      ],
      "execution_count": 0,
      "outputs": [
        {
          "output_type": "stream",
          "text": [
            "/Users/mengwangk/anaconda3/lib/python3.6/site-packages/sklearn/utils/validation.py:761: DataConversionWarning: A column-vector y was passed when a 1d array was expected. Please change the shape of y to (n_samples, ), for example using ravel().\n",
            "  y = column_or_1d(y, warn=True)\n",
            "/Users/mengwangk/anaconda3/lib/python3.6/site-packages/sklearn/svm/base.py:196: FutureWarning: The default value of gamma will change from 'auto' to 'scale' in version 0.22 to account better for unscaled features. Set gamma explicitly to 'auto' or 'scale' to avoid this warning.\n",
            "  \"avoid this warning.\", FutureWarning)\n"
          ],
          "name": "stderr"
        }
      ]
    },
    {
      "metadata": {
        "id": "4Q8wD1vFO4yE",
        "colab_type": "code",
        "colab": {},
        "outputId": "b1958454-9bd5-4f5e-c2b3-216fd3363b41"
      },
      "cell_type": "code",
      "source": [
        "plt.plot(y_test)\n",
        "plt.plot(y_pred)"
      ],
      "execution_count": 0,
      "outputs": [
        {
          "output_type": "execute_result",
          "data": {
            "text/plain": [
              "[<matplotlib.lines.Line2D at 0x1a4bbb5b00>]"
            ]
          },
          "metadata": {
            "tags": []
          },
          "execution_count": 162
        },
        {
          "output_type": "display_data",
          "data": {
            "image/png": "[encoded data removed]",
            "text/plain": [
              "<Figure size 432x288 with 1 Axes>"
            ]
          },
          "metadata": {
            "tags": [],
            "needs_background": "light"
          }
        }
      ]
    },
    {
      "metadata": {
        "id": "dvJ8uPChO4yH",
        "colab_type": "code",
        "colab": {},
        "outputId": "ae88fb3d-466a-436b-9f44-ed515fcd4dfc"
      },
      "cell_type": "code",
      "source": [
        "from sklearn.metrics import r2_score\n",
        "\n",
        "def adj_r2_score(r2, n, k):\n",
        "    return 1-((1-r2)*((n-1)/(n-k-1)))\n",
        "\n",
        "r2_test = r2_score(y_test, y_pred)\n",
        "print(\"R-squared is: %f\"%r2_test)"
      ],
      "execution_count": 0,
      "outputs": [
        {
          "output_type": "error",
          "ename": "NameError",
          "evalue": "name 'y_test' is not defined",
          "traceback": [
            "\u001b[0;31m---------------------------------------------------------------------------\u001b[0m",
            "\u001b[0;31mNameError\u001b[0m                                 Traceback (most recent call last)",
            "\u001b[0;32m<ipython-input-5-c8803955b47c>\u001b[0m in \u001b[0;36m<module>\u001b[0;34m\u001b[0m\n\u001b[1;32m      4\u001b[0m     \u001b[0;32mreturn\u001b[0m \u001b[0;36m1\u001b[0m\u001b[0;34m-\u001b[0m\u001b[0;34m(\u001b[0m\u001b[0;34m(\u001b[0m\u001b[0;36m1\u001b[0m\u001b[0;34m-\u001b[0m\u001b[0mr2\u001b[0m\u001b[0;34m)\u001b[0m\u001b[0;34m*\u001b[0m\u001b[0;34m(\u001b[0m\u001b[0;34m(\u001b[0m\u001b[0mn\u001b[0m\u001b[0;34m-\u001b[0m\u001b[0;36m1\u001b[0m\u001b[0;34m)\u001b[0m\u001b[0;34m/\u001b[0m\u001b[0;34m(\u001b[0m\u001b[0mn\u001b[0m\u001b[0;34m-\u001b[0m\u001b[0mk\u001b[0m\u001b[0;34m-\u001b[0m\u001b[0;36m1\u001b[0m\u001b[0;34m)\u001b[0m\u001b[0;34m)\u001b[0m\u001b[0;34m)\u001b[0m\u001b[0;34m\u001b[0m\u001b[0;34m\u001b[0m\u001b[0m\n\u001b[1;32m      5\u001b[0m \u001b[0;34m\u001b[0m\u001b[0m\n\u001b[0;32m----> 6\u001b[0;31m \u001b[0mr2_test\u001b[0m \u001b[0;34m=\u001b[0m \u001b[0mr2_score\u001b[0m\u001b[0;34m(\u001b[0m\u001b[0my_test\u001b[0m\u001b[0;34m,\u001b[0m \u001b[0my_pred\u001b[0m\u001b[0;34m)\u001b[0m\u001b[0;34m\u001b[0m\u001b[0;34m\u001b[0m\u001b[0m\n\u001b[0m\u001b[1;32m      7\u001b[0m \u001b[0mprint\u001b[0m\u001b[0;34m(\u001b[0m\u001b[0;34m\"R-squared is: %f\"\u001b[0m\u001b[0;34m%\u001b[0m\u001b[0mr2_test\u001b[0m\u001b[0;34m)\u001b[0m\u001b[0;34m\u001b[0m\u001b[0;34m\u001b[0m\u001b[0m\n",
            "\u001b[0;31mNameError\u001b[0m: name 'y_test' is not defined"
          ]
        }
      ]
    },
    {
      "metadata": {
        "id": "MfsSaaZ8O4yL",
        "colab_type": "text"
      },
      "cell_type": "markdown",
      "source": [
        "### Build a neural network"
      ]
    },
    {
      "metadata": {
        "id": "cv3moJulO4yM",
        "colab_type": "code",
        "colab": {}
      },
      "cell_type": "code",
      "source": [
        "from keras.models import Sequential\n",
        "from keras.layers import Dense\n",
        "from keras.optimizers import Adam\n",
        "import keras.backend as K"
      ],
      "execution_count": 0,
      "outputs": []
    },
    {
      "metadata": {
        "id": "vn7rKpC2O4yN",
        "colab_type": "text"
      },
      "cell_type": "markdown",
      "source": [
        "#### 1 hidden layer with 1 neuron"
      ]
    },
    {
      "metadata": {
        "id": "PI-6J7PeO4yO",
        "colab_type": "code",
        "colab": {},
        "outputId": "98d36fa3-cb6c-439a-d879-e06f9f4c1aeb"
      },
      "cell_type": "code",
      "source": [
        "K.clear_session()\n",
        "model = Sequential()\n",
        "model.add(Dense(1, input_shape=(X_test.shape[1],), activation='tanh', kernel_initializer='lecun_uniform'))\n",
        "model.compile(optimizer=Adam(lr=0.001), loss='mean_squared_error')\n",
        "model.fit(X_train, y_train, batch_size=16, epochs=20, verbose=1)"
      ],
      "execution_count": 0,
      "outputs": [
        {
          "output_type": "stream",
          "text": [
            "Epoch 1/20\n",
            "1689/1689 [==============================] - 1s 385us/step - loss: 0.4264\n",
            "Epoch 2/20\n",
            "1689/1689 [==============================] - 0s 91us/step - loss: 0.2617\n",
            "Epoch 3/20\n",
            "1689/1689 [==============================] - 0s 96us/step - loss: 0.1573\n",
            "Epoch 4/20\n",
            "1689/1689 [==============================] - 0s 91us/step - loss: 0.0970\n",
            "Epoch 5/20\n",
            "1689/1689 [==============================] - 0s 91us/step - loss: 0.0637\n",
            "Epoch 6/20\n",
            "1689/1689 [==============================] - 0s 86us/step - loss: 0.0457\n",
            "Epoch 7/20\n",
            "1689/1689 [==============================] - 0s 98us/step - loss: 0.0360\n",
            "Epoch 8/20\n",
            "1689/1689 [==============================] - 0s 85us/step - loss: 0.0307\n",
            "Epoch 9/20\n",
            "1689/1689 [==============================] - 0s 114us/step - loss: 0.0277\n",
            "Epoch 10/20\n",
            "1689/1689 [==============================] - 0s 103us/step - loss: 0.0259\n",
            "Epoch 11/20\n",
            "1689/1689 [==============================] - 0s 92us/step - loss: 0.0248\n",
            "Epoch 12/20\n",
            "1689/1689 [==============================] - 0s 95us/step - loss: 0.0240\n",
            "Epoch 13/20\n",
            "1689/1689 [==============================] - 0s 96us/step - loss: 0.0234\n",
            "Epoch 14/20\n",
            "1689/1689 [==============================] - 0s 99us/step - loss: 0.0228\n",
            "Epoch 15/20\n",
            "1689/1689 [==============================] - 0s 98us/step - loss: 0.0223\n",
            "Epoch 16/20\n",
            "1689/1689 [==============================] - 0s 102us/step - loss: 0.0217\n",
            "Epoch 17/20\n",
            "1689/1689 [==============================] - 0s 96us/step - loss: 0.0211\n",
            "Epoch 18/20\n",
            "1689/1689 [==============================] - 0s 105us/step - loss: 0.0206\n",
            "Epoch 19/20\n",
            "1689/1689 [==============================] - 0s 95us/step - loss: 0.0199\n",
            "Epoch 20/20\n",
            "1689/1689 [==============================] - 0s 99us/step - loss: 0.0193\n"
          ],
          "name": "stdout"
        },
        {
          "output_type": "execute_result",
          "data": {
            "text/plain": [
              "<keras.callbacks.History at 0x1a4bf62940>"
            ]
          },
          "metadata": {
            "tags": []
          },
          "execution_count": 166
        }
      ]
    },
    {
      "metadata": {
        "id": "dc0-mG9BO4yS",
        "colab_type": "code",
        "colab": {},
        "outputId": "390d0c1d-d912-478f-dcb9-0af10865d924"
      },
      "cell_type": "code",
      "source": [
        "y_pred = model.predict(X_test)\n",
        "plt.plot(y_test)\n",
        "plt.plot(y_pred)\n",
        "print('R-Squared: %f'%(r2_score(y_test, y_pred)))"
      ],
      "execution_count": 0,
      "outputs": [
        {
          "output_type": "stream",
          "text": [
            "R-Squared: -0.861852\n"
          ],
          "name": "stdout"
        },
        {
          "output_type": "display_data",
          "data": {
            "image/png": "[encoded data removed]",
            "text/plain": [
              "<Figure size 432x288 with 1 Axes>"
            ]
          },
          "metadata": {
            "tags": [],
            "needs_background": "light"
          }
        }
      ]
    },
    {
      "metadata": {
        "id": "kxL2OT6pO4yX",
        "colab_type": "text"
      },
      "cell_type": "markdown",
      "source": [
        "#### 2 Hidden Layers with 50 neurons each and ReLU activation function"
      ]
    },
    {
      "metadata": {
        "id": "R3URxd2XO4yY",
        "colab_type": "code",
        "colab": {},
        "outputId": "ce8e431e-a76f-44fa-a6fc-91cbf22f9d2f"
      },
      "cell_type": "code",
      "source": [
        "K.clear_session()\n",
        "model = Sequential()\n",
        "model.add(Dense(50, input_shape=(X_test.shape[1],), activation='relu', kernel_initializer='lecun_uniform'))\n",
        "model.add(Dense(50, input_shape=(X_test.shape[1],), activation='relu'))\n",
        "model.add(Dense(1))\n",
        "model.compile(optimizer=Adam(lr=0.001), loss='mean_squared_error')\n",
        "model.fit(X_train, y_train, batch_size=16, epochs=20, verbose=1)"
      ],
      "execution_count": 0,
      "outputs": [
        {
          "output_type": "stream",
          "text": [
            "Epoch 1/20\n",
            "1689/1689 [==============================] - 1s 552us/step - loss: 0.0060\n",
            "Epoch 2/20\n",
            "1689/1689 [==============================] - 0s 132us/step - loss: 8.7685e-04\n",
            "Epoch 3/20\n",
            "1689/1689 [==============================] - 0s 128us/step - loss: 8.7520e-04\n",
            "Epoch 4/20\n",
            "1689/1689 [==============================] - 0s 128us/step - loss: 8.6916e-04\n",
            "Epoch 5/20\n",
            "1689/1689 [==============================] - 0s 130us/step - loss: 8.7585e-04\n",
            "Epoch 6/20\n",
            "1689/1689 [==============================] - 0s 126us/step - loss: 8.5982e-04\n",
            "Epoch 7/20\n",
            "1689/1689 [==============================] - 0s 129us/step - loss: 8.9772e-04\n",
            "Epoch 8/20\n",
            "1689/1689 [==============================] - 0s 125us/step - loss: 9.3420e-04\n",
            "Epoch 9/20\n",
            "1689/1689 [==============================] - 0s 129us/step - loss: 8.9702e-04\n",
            "Epoch 10/20\n",
            "1689/1689 [==============================] - 0s 131us/step - loss: 9.0239e-04\n",
            "Epoch 11/20\n",
            "1689/1689 [==============================] - 0s 134us/step - loss: 9.1155e-04\n",
            "Epoch 12/20\n",
            "1689/1689 [==============================] - 0s 130us/step - loss: 9.8811e-04\n",
            "Epoch 13/20\n",
            "1689/1689 [==============================] - 0s 128us/step - loss: 9.7875e-04\n",
            "Epoch 14/20\n",
            "1689/1689 [==============================] - 0s 126us/step - loss: 9.3091e-04\n",
            "Epoch 15/20\n",
            "1689/1689 [==============================] - 0s 128us/step - loss: 9.1696e-04\n",
            "Epoch 16/20\n",
            "1689/1689 [==============================] - 0s 131us/step - loss: 9.1495e-04\n",
            "Epoch 17/20\n",
            "1689/1689 [==============================] - 0s 131us/step - loss: 9.5750e-04\n",
            "Epoch 18/20\n",
            "1689/1689 [==============================] - 0s 139us/step - loss: 8.9184e-04\n",
            "Epoch 19/20\n",
            "1689/1689 [==============================] - 0s 147us/step - loss: 0.0011\n",
            "Epoch 20/20\n",
            "1689/1689 [==============================] - 0s 132us/step - loss: 9.6217e-04\n"
          ],
          "name": "stdout"
        },
        {
          "output_type": "execute_result",
          "data": {
            "text/plain": [
              "<keras.callbacks.History at 0x1a495f7b38>"
            ]
          },
          "metadata": {
            "tags": []
          },
          "execution_count": 168
        }
      ]
    },
    {
      "metadata": {
        "id": "UOTkuQogO4ya",
        "colab_type": "code",
        "colab": {},
        "outputId": "3e29bead-3d58-4637-d00e-ec04592daebb"
      },
      "cell_type": "code",
      "source": [
        "y_pred = model.predict(X_test)\n",
        "plt.plot(y_test)\n",
        "plt.plot(y_pred)\n",
        "print('R-Squared: %f'%(r2_score(y_test, y_pred)))"
      ],
      "execution_count": 0,
      "outputs": [
        {
          "output_type": "stream",
          "text": [
            "R-Squared: 0.971311\n"
          ],
          "name": "stdout"
        },
        {
          "output_type": "display_data",
          "data": {
            "image/png": "[encoded data removed]",
            "text/plain": [
              "<Figure size 432x288 with 1 Axes>"
            ]
          },
          "metadata": {
            "tags": [],
            "needs_background": "light"
          }
        }
      ]
    },
    {
      "metadata": {
        "id": "8DBgdcBNO4ye",
        "colab_type": "text"
      },
      "cell_type": "markdown",
      "source": [
        "## LSTM\n",
        "\n",
        "* https://github.com/neelabhpant/Deep-Learning-in-Python/blob/master/usd_to_inr_models.ipynb"
      ]
    },
    {
      "metadata": {
        "id": "XuMqtrBhO4yf",
        "colab_type": "code",
        "colab": {},
        "outputId": "92b5be41-3d0d-4044-b837-ae47aa9804c5"
      },
      "cell_type": "code",
      "source": [
        "df_idx = pd.read_csv('data/GENTING_data_set.csv')\n",
        "df_idx['Date'] = pd.to_datetime(df_idx[\"Date\"])\n",
        "clean_dataset(df_idx)\n",
        "df_idx.head(10)"
      ],
      "execution_count": 0,
      "outputs": [
        {
          "output_type": "execute_result",
          "data": {
            "application/vnd.dataresource+json": {
              "data": [
                {
                  "Close": 10.14,
                  "Date": "2011-08-15T00:00:00.000Z",
                  "High": 10.16,
                  "Low": 10.08,
                  "Open": 10.1,
                  "Volume": 6490000
                },
                {
                  "Close": 10.1,
                  "Date": "2011-08-16T00:00:00.000Z",
                  "High": 10.24,
                  "Low": 10.02,
                  "Open": 10.18,
                  "Volume": 3160000
                },
                {
                  "Close": 10.04,
                  "Date": "2011-08-17T00:00:00.000Z",
                  "High": 10.1,
                  "Low": 10.02,
                  "Open": 10.1,
                  "Volume": 5410000
                },
                {
                  "Close": 9.98,
                  "Date": "2011-08-18T00:00:00.000Z",
                  "High": 10.14,
                  "Low": 9.97,
                  "Open": 10.14,
                  "Volume": 5350000
                },
                {
                  "Close": 9.7,
                  "Date": "2011-08-19T00:00:00.000Z",
                  "High": 9.85,
                  "Low": 9.65,
                  "Open": 9.85,
                  "Volume": 11570000
                },
                {
                  "Close": 9.51,
                  "Date": "2011-08-22T00:00:00.000Z",
                  "High": 9.69,
                  "Low": 9.49,
                  "Open": 9.68,
                  "Volume": 8520000
                },
                {
                  "Close": 9.7,
                  "Date": "2011-08-23T00:00:00.000Z",
                  "High": 9.7,
                  "Low": 9.4,
                  "Open": 9.55,
                  "Volume": 6520000
                },
                {
                  "Close": 9.52,
                  "Date": "2011-08-24T00:00:00.000Z",
                  "High": 9.8,
                  "Low": 9.52,
                  "Open": 9.8,
                  "Volume": 5090000
                },
                {
                  "Close": 9.78,
                  "Date": "2011-08-25T00:00:00.000Z",
                  "High": 9.78,
                  "Low": 9.54,
                  "Open": 9.55,
                  "Volume": 6120000
                },
                {
                  "Close": 9.46,
                  "Date": "2011-08-26T00:00:00.000Z",
                  "High": 9.73,
                  "Low": 9.43,
                  "Open": 9.73,
                  "Volume": 4560000
                }
              ],
              "schema": {
                "fields": [
                  {
                    "name": "Date",
                    "type": "datetime"
                  },
                  {
                    "name": "Close",
                    "type": "number"
                  },
                  {
                    "name": "Open",
                    "type": "number"
                  },
                  {
                    "name": "High",
                    "type": "number"
                  },
                  {
                    "name": "Low",
                    "type": "number"
                  },
                  {
                    "name": "Volume",
                    "type": "number"
                  }
                ],
                "pandas_version": "0.20.0",
                "primaryKey": [
                  "Date"
                ]
              }
            },
            "text/html": [
              "<div>\n",
              "<style scoped>\n",
              "    .dataframe tbody tr th:only-of-type {\n",
              "        vertical-align: middle;\n",
              "    }\n",
              "\n",
              "    .dataframe tbody tr th {\n",
              "        vertical-align: top;\n",
              "    }\n",
              "\n",
              "    .dataframe thead th {\n",
              "        text-align: right;\n",
              "    }\n",
              "</style>\n",
              "<table border=\"1\" class=\"dataframe\">\n",
              "  <thead>\n",
              "    <tr style=\"text-align: right;\">\n",
              "      <th></th>\n",
              "      <th>Close</th>\n",
              "      <th>Open</th>\n",
              "      <th>High</th>\n",
              "      <th>Low</th>\n",
              "      <th>Volume</th>\n",
              "    </tr>\n",
              "    <tr>\n",
              "      <th>Date</th>\n",
              "      <th></th>\n",
              "      <th></th>\n",
              "      <th></th>\n",
              "      <th></th>\n",
              "      <th></th>\n",
              "    </tr>\n",
              "  </thead>\n",
              "  <tbody>\n",
              "    <tr>\n",
              "      <th>2011-08-15</th>\n",
              "      <td>10.14</td>\n",
              "      <td>10.10</td>\n",
              "      <td>10.16</td>\n",
              "      <td>10.08</td>\n",
              "      <td>6490000.0</td>\n",
              "    </tr>\n",
              "    <tr>\n",
              "      <th>2011-08-16</th>\n",
              "      <td>10.10</td>\n",
              "      <td>10.18</td>\n",
              "      <td>10.24</td>\n",
              "      <td>10.02</td>\n",
              "      <td>3160000.0</td>\n",
              "    </tr>\n",
              "    <tr>\n",
              "      <th>2011-08-17</th>\n",
              "      <td>10.04</td>\n",
              "      <td>10.10</td>\n",
              "      <td>10.10</td>\n",
              "      <td>10.02</td>\n",
              "      <td>5410000.0</td>\n",
              "    </tr>\n",
              "    <tr>\n",
              "      <th>2011-08-18</th>\n",
              "      <td>9.98</td>\n",
              "      <td>10.14</td>\n",
              "      <td>10.14</td>\n",
              "      <td>9.97</td>\n",
              "      <td>5350000.0</td>\n",
              "    </tr>\n",
              "    <tr>\n",
              "      <th>2011-08-19</th>\n",
              "      <td>9.70</td>\n",
              "      <td>9.85</td>\n",
              "      <td>9.85</td>\n",
              "      <td>9.65</td>\n",
              "      <td>11570000.0</td>\n",
              "    </tr>\n",
              "    <tr>\n",
              "      <th>2011-08-22</th>\n",
              "      <td>9.51</td>\n",
              "      <td>9.68</td>\n",
              "      <td>9.69</td>\n",
              "      <td>9.49</td>\n",
              "      <td>8520000.0</td>\n",
              "    </tr>\n",
              "    <tr>\n",
              "      <th>2011-08-23</th>\n",
              "      <td>9.70</td>\n",
              "      <td>9.55</td>\n",
              "      <td>9.70</td>\n",
              "      <td>9.40</td>\n",
              "      <td>6520000.0</td>\n",
              "    </tr>\n",
              "    <tr>\n",
              "      <th>2011-08-24</th>\n",
              "      <td>9.52</td>\n",
              "      <td>9.80</td>\n",
              "      <td>9.80</td>\n",
              "      <td>9.52</td>\n",
              "      <td>5090000.0</td>\n",
              "    </tr>\n",
              "    <tr>\n",
              "      <th>2011-08-25</th>\n",
              "      <td>9.78</td>\n",
              "      <td>9.55</td>\n",
              "      <td>9.78</td>\n",
              "      <td>9.54</td>\n",
              "      <td>6120000.0</td>\n",
              "    </tr>\n",
              "    <tr>\n",
              "      <th>2011-08-26</th>\n",
              "      <td>9.46</td>\n",
              "      <td>9.73</td>\n",
              "      <td>9.73</td>\n",
              "      <td>9.43</td>\n",
              "      <td>4560000.0</td>\n",
              "    </tr>\n",
              "  </tbody>\n",
              "</table>\n",
              "</div>"
            ],
            "text/plain": [
              "            Close   Open   High    Low      Volume\n",
              "Date                                              \n",
              "2011-08-15  10.14  10.10  10.16  10.08   6490000.0\n",
              "2011-08-16  10.10  10.18  10.24  10.02   3160000.0\n",
              "2011-08-17  10.04  10.10  10.10  10.02   5410000.0\n",
              "2011-08-18   9.98  10.14  10.14   9.97   5350000.0\n",
              "2011-08-19   9.70   9.85   9.85   9.65  11570000.0\n",
              "2011-08-22   9.51   9.68   9.69   9.49   8520000.0\n",
              "2011-08-23   9.70   9.55   9.70   9.40   6520000.0\n",
              "2011-08-24   9.52   9.80   9.80   9.52   5090000.0\n",
              "2011-08-25   9.78   9.55   9.78   9.54   6120000.0\n",
              "2011-08-26   9.46   9.73   9.73   9.43   4560000.0"
            ]
          },
          "metadata": {
            "tags": []
          },
          "execution_count": 6
        }
      ]
    },
    {
      "metadata": {
        "id": "bEumrv3hO4yh",
        "colab_type": "code",
        "colab": {},
        "outputId": "d578e703-8ec5-4bc9-fe68-2aeae64405f7"
      },
      "cell_type": "code",
      "source": [
        "df = df_idx[[\"Close\"]]\n",
        "df.plot()"
      ],
      "execution_count": 0,
      "outputs": [
        {
          "output_type": "execute_result",
          "data": {
            "text/plain": [
              "<matplotlib.axes._subplots.AxesSubplot at 0x110067a20>"
            ]
          },
          "metadata": {
            "tags": []
          },
          "execution_count": 7
        },
        {
          "output_type": "display_data",
          "data": {
            "image/png": "[encoded data removed]",
            "text/plain": [
              "<Figure size 432x288 with 1 Axes>"
            ]
          },
          "metadata": {
            "tags": [],
            "needs_background": "light"
          }
        }
      ]
    },
    {
      "metadata": {
        "id": "XkQmYxprO4yl",
        "colab_type": "code",
        "colab": {},
        "outputId": "82e92b6f-8637-4312-cd13-9c0e43b7e87d"
      },
      "cell_type": "code",
      "source": [
        "split_date = pd.Timestamp('07-07-2018')\n",
        "\n",
        "train = df.loc[:split_date]\n",
        "test = df.loc[split_date:]\n",
        "\n",
        "ax = train.plot()\n",
        "test.plot(ax=ax)\n",
        "plt.legend(['train', 'test'])"
      ],
      "execution_count": 0,
      "outputs": [
        {
          "output_type": "execute_result",
          "data": {
            "text/plain": [
              "<matplotlib.legend.Legend at 0x10e6b5908>"
            ]
          },
          "metadata": {
            "tags": []
          },
          "execution_count": 8
        },
        {
          "output_type": "display_data",
          "data": {
            "image/png": "[encoded data removed]",
            "text/plain": [
              "<Figure size 432x288 with 1 Axes>"
            ]
          },
          "metadata": {
            "tags": [],
            "needs_background": "light"
          }
        }
      ]
    },
    {
      "metadata": {
        "id": "zU20V-aMO4yo",
        "colab_type": "code",
        "colab": {}
      },
      "cell_type": "code",
      "source": [
        "from sklearn.preprocessing import MinMaxScaler\n",
        "from sklearn.metrics import r2_score\n",
        "\n",
        "sc = MinMaxScaler()\n",
        "train_sc = sc.fit_transform(train)\n",
        "test_sc = sc.transform(test)"
      ],
      "execution_count": 0,
      "outputs": []
    },
    {
      "metadata": {
        "id": "9ZKwJpoyO4yp",
        "colab_type": "code",
        "colab": {}
      },
      "cell_type": "code",
      "source": [
        "X_train = train_sc[:-1]\n",
        "y_train = train_sc[1:]\n",
        "\n",
        "X_test = test_sc[:-1]\n",
        "y_test = test_sc[1:]"
      ],
      "execution_count": 0,
      "outputs": []
    },
    {
      "metadata": {
        "id": "sZUDYE04O4yq",
        "colab_type": "code",
        "colab": {},
        "outputId": "3b1ae785-40fc-40eb-d511-b3874f024491"
      },
      "cell_type": "code",
      "source": [
        "from keras.models import Sequential\n",
        "from keras.layers import Dense\n",
        "import keras.backend as K\n",
        "from keras.callbacks import EarlyStopping\n",
        "from keras.optimizers import Adam\n",
        "from keras.models import load_model"
      ],
      "execution_count": 0,
      "outputs": [
        {
          "output_type": "stream",
          "text": [
            "Using TensorFlow backend.\n"
          ],
          "name": "stderr"
        }
      ]
    },
    {
      "metadata": {
        "id": "brvISr1oO4yt",
        "colab_type": "code",
        "colab": {},
        "outputId": "e09b494d-8513-4958-ad14-ed3d52e30cdc"
      },
      "cell_type": "code",
      "source": [
        "K.clear_session()\n",
        "\n",
        "model = Sequential()\n",
        "model.add(Dense(12, input_dim=1, activation='relu'))\n",
        "model.add(Dense(1))\n",
        "model.compile(loss='mean_squared_error', optimizer='adam')\n",
        "early_stop = EarlyStopping(monitor='loss', patience=2, verbose=1)\n",
        "history = model.fit(X_train, y_train, epochs=200, batch_size=1, verbose=1, callbacks=[early_stop], shuffle=False)"
      ],
      "execution_count": 0,
      "outputs": [
        {
          "output_type": "stream",
          "text": [
            "Epoch 1/200\n",
            "1689/1689 [==============================] - 3s 2ms/step - loss: 0.0125\n",
            "Epoch 2/200\n",
            "1689/1689 [==============================] - 2s 1ms/step - loss: 0.0013\n",
            "Epoch 3/200\n",
            "1689/1689 [==============================] - 3s 2ms/step - loss: 0.0011\n",
            "Epoch 4/200\n",
            "1689/1689 [==============================] - 3s 1ms/step - loss: 0.0010\n",
            "Epoch 5/200\n",
            "1689/1689 [==============================] - 2s 1ms/step - loss: 9.9453e-04\n",
            "Epoch 6/200\n",
            "1689/1689 [==============================] - 2s 1ms/step - loss: 9.7888e-04\n",
            "Epoch 7/200\n",
            "1689/1689 [==============================] - 2s 1ms/step - loss: 9.7002e-04\n",
            "Epoch 8/200\n",
            "1689/1689 [==============================] - 3s 2ms/step - loss: 9.6463e-04\n",
            "Epoch 9/200\n",
            "1689/1689 [==============================] - 2s 1ms/step - loss: 9.6121e-04\n",
            "Epoch 10/200\n",
            "1689/1689 [==============================] - 2s 1ms/step - loss: 9.5901e-04\n",
            "Epoch 11/200\n",
            "1689/1689 [==============================] - 2s 1ms/step - loss: 9.5741e-04\n",
            "Epoch 12/200\n",
            "1689/1689 [==============================] - 3s 1ms/step - loss: 9.5618e-04\n",
            "Epoch 13/200\n",
            "1689/1689 [==============================] - 3s 2ms/step - loss: 9.5517e-04\n",
            "Epoch 14/200\n",
            "1689/1689 [==============================] - 3s 2ms/step - loss: 9.5425e-04\n",
            "Epoch 15/200\n",
            "1689/1689 [==============================] - 3s 2ms/step - loss: 9.5344e-04\n",
            "Epoch 16/200\n",
            "1689/1689 [==============================] - 3s 2ms/step - loss: 9.5268e-04\n",
            "Epoch 17/200\n",
            "1689/1689 [==============================] - 3s 2ms/step - loss: 9.5195e-04\n",
            "Epoch 18/200\n",
            "1689/1689 [==============================] - 3s 2ms/step - loss: 9.5124e-04\n",
            "Epoch 19/200\n",
            "1689/1689 [==============================] - 3s 2ms/step - loss: 9.5056e-04\n",
            "Epoch 20/200\n",
            "1689/1689 [==============================] - 3s 2ms/step - loss: 9.4989e-04\n",
            "Epoch 21/200\n",
            "1689/1689 [==============================] - 3s 2ms/step - loss: 9.4923e-04\n",
            "Epoch 22/200\n",
            "1689/1689 [==============================] - 3s 2ms/step - loss: 9.4859e-04\n",
            "Epoch 23/200\n",
            "1689/1689 [==============================] - 3s 2ms/step - loss: 9.4793e-04\n",
            "Epoch 24/200\n",
            "1689/1689 [==============================] - 3s 2ms/step - loss: 9.4731e-04\n",
            "Epoch 25/200\n",
            "1689/1689 [==============================] - 3s 2ms/step - loss: 9.4653e-04\n",
            "Epoch 26/200\n",
            "1689/1689 [==============================] - 3s 2ms/step - loss: 9.4638e-04\n",
            "Epoch 27/200\n",
            "1689/1689 [==============================] - 3s 2ms/step - loss: 9.4555e-04\n",
            "Epoch 28/200\n",
            "1689/1689 [==============================] - 3s 2ms/step - loss: 9.4510e-04\n",
            "Epoch 29/200\n",
            "1689/1689 [==============================] - 3s 2ms/step - loss: 9.4464e-04\n",
            "Epoch 30/200\n",
            "1689/1689 [==============================] - 3s 2ms/step - loss: 9.4392e-04\n",
            "Epoch 31/200\n",
            "1689/1689 [==============================] - 3s 2ms/step - loss: 9.4346e-04\n",
            "Epoch 32/200\n",
            "1689/1689 [==============================] - 4s 2ms/step - loss: 9.4296e-04\n",
            "Epoch 33/200\n",
            "1689/1689 [==============================] - 3s 2ms/step - loss: 9.4249e-04\n",
            "Epoch 34/200\n",
            "1689/1689 [==============================] - 3s 2ms/step - loss: 9.4177e-04\n",
            "Epoch 35/200\n",
            "1689/1689 [==============================] - 3s 2ms/step - loss: 9.4132e-04\n",
            "Epoch 36/200\n",
            "1689/1689 [==============================] - 3s 2ms/step - loss: 9.4072e-04\n",
            "Epoch 37/200\n",
            "1689/1689 [==============================] - 3s 2ms/step - loss: 9.4035e-04\n",
            "Epoch 38/200\n",
            "1689/1689 [==============================] - 3s 2ms/step - loss: 9.3982e-04\n",
            "Epoch 39/200\n",
            "1689/1689 [==============================] - 3s 2ms/step - loss: 9.3929e-04\n",
            "Epoch 40/200\n",
            "1689/1689 [==============================] - 3s 2ms/step - loss: 9.3909e-04\n",
            "Epoch 41/200\n",
            "1689/1689 [==============================] - 3s 2ms/step - loss: 9.3869e-04\n",
            "Epoch 42/200\n",
            "1689/1689 [==============================] - 3s 2ms/step - loss: 9.3845e-04\n",
            "Epoch 43/200\n",
            "1689/1689 [==============================] - 3s 2ms/step - loss: 9.3796e-04\n",
            "Epoch 44/200\n",
            "1689/1689 [==============================] - 3s 2ms/step - loss: 9.3767e-04\n",
            "Epoch 45/200\n",
            "1689/1689 [==============================] - 3s 2ms/step - loss: 9.3712e-04\n",
            "Epoch 46/200\n",
            "1689/1689 [==============================] - 3s 2ms/step - loss: 9.3685e-04\n",
            "Epoch 47/200\n",
            "1689/1689 [==============================] - 3s 2ms/step - loss: 9.3640e-04\n",
            "Epoch 48/200\n",
            "1689/1689 [==============================] - 3s 2ms/step - loss: 9.3605e-04\n",
            "Epoch 49/200\n",
            "1689/1689 [==============================] - 3s 2ms/step - loss: 9.3555e-04\n",
            "Epoch 50/200\n",
            "1689/1689 [==============================] - 3s 2ms/step - loss: 9.3528e-04\n",
            "Epoch 51/200\n",
            "1689/1689 [==============================] - 3s 2ms/step - loss: 9.3480e-04\n",
            "Epoch 52/200\n",
            "1689/1689 [==============================] - 3s 2ms/step - loss: 9.3452e-04\n",
            "Epoch 53/200\n",
            "1689/1689 [==============================] - 3s 2ms/step - loss: 9.3404e-04\n",
            "Epoch 54/200\n",
            "1689/1689 [==============================] - 3s 2ms/step - loss: 9.3372e-04\n",
            "Epoch 55/200\n",
            "1689/1689 [==============================] - 3s 2ms/step - loss: 9.3359e-04\n",
            "Epoch 56/200\n",
            "1689/1689 [==============================] - 3s 2ms/step - loss: 9.3309e-04\n",
            "Epoch 57/200\n",
            "1689/1689 [==============================] - 3s 2ms/step - loss: 9.3279e-04\n",
            "Epoch 58/200\n",
            "1689/1689 [==============================] - 3s 2ms/step - loss: 9.3228e-04\n",
            "Epoch 59/200\n",
            "1689/1689 [==============================] - 3s 2ms/step - loss: 9.3202e-04\n",
            "Epoch 60/200\n",
            "1689/1689 [==============================] - 3s 2ms/step - loss: 9.3154e-04\n",
            "Epoch 61/200\n",
            "1689/1689 [==============================] - 3s 2ms/step - loss: 9.3124e-04\n",
            "Epoch 62/200\n",
            "1689/1689 [==============================] - 3s 2ms/step - loss: 9.3101e-04\n",
            "Epoch 63/200\n",
            "1689/1689 [==============================] - 3s 2ms/step - loss: 9.3078e-04\n",
            "Epoch 64/200\n",
            "1689/1689 [==============================] - 3s 2ms/step - loss: 9.3015e-04\n",
            "Epoch 65/200\n",
            " 357/1689 [=====>........................] - ETA: 2s - loss: 0.0011"
          ],
          "name": "stdout"
        }
      ]
    },
    {
      "metadata": {
        "id": "I7mpllQ4O4yu",
        "colab_type": "code",
        "colab": {},
        "outputId": "839d69bd-4bb8-4002-ee92-01388093e5d8"
      },
      "cell_type": "code",
      "source": [
        "y_pred_test_ann = model.predict(X_test)\n",
        "y_train_pred_ann = model.predict(X_train)\n",
        "print(\"The R2 score on the Train set is:\\t{:0.3f}\".format(r2_score(y_train, y_train_pred_ann)))\n",
        "r2_train = r2_score(y_train, y_train_pred_ann)\n",
        "print(\"The Adjusted R2 score on the Train set is:\\t{:0.3f}\\n\".format(adj_r2_score(r2_train, X_train.shape[0], X_train.shape[1])))\n",
        "print(\"The R2 score on the Test set is:\\t{:0.3f}\".format(r2_score(y_test, y_pred_test_ann)))\n",
        "r2_test = r2_score(y_test, y_pred_test_ann)\n",
        "print(\"The Adjusted R2 score on the Test set is:\\t{:0.3f}\".format(adj_r2_score(r2_test, X_test.shape[0], X_test.shape[1])))"
      ],
      "execution_count": 0,
      "outputs": [
        {
          "output_type": "stream",
          "text": [
            "The R2 score on the Train set is:\t0.890\n",
            "The Adjusted R2 score on the Train set is:\t0.890\n",
            "\n",
            "The R2 score on the Test set is:\t0.810\n",
            "The Adjusted R2 score on the Test set is:\t0.808\n"
          ],
          "name": "stdout"
        }
      ]
    },
    {
      "metadata": {
        "id": "cRLS0rc5O4yw",
        "colab_type": "code",
        "colab": {}
      },
      "cell_type": "code",
      "source": [
        "model.save('ANN_NonShift.h5')"
      ],
      "execution_count": 0,
      "outputs": []
    },
    {
      "metadata": {
        "id": "8PWABgrwO4yx",
        "colab_type": "text"
      },
      "cell_type": "markdown",
      "source": [
        "### Process the data for LSTM"
      ]
    },
    {
      "metadata": {
        "id": "_hRPaUtKO4yz",
        "colab_type": "code",
        "colab": {},
        "outputId": "5489aec1-1f0e-4f1a-f387-e2d44afb4cbd"
      },
      "cell_type": "code",
      "source": [
        "X_tr_t = X_train.reshape(X_train.shape[0], 1, X_train.shape[1])\n",
        "X_tst_t = X_test.reshape(X_test.shape[0], 1, X_test.shape[1])\n",
        "#print(X_tr_t)"
      ],
      "execution_count": 0,
      "outputs": [
        {
          "output_type": "stream",
          "text": [
            "[[[0.76293103]]\n",
            "\n",
            " [[0.75431034]]\n",
            "\n",
            " [[0.74137931]]\n",
            "\n",
            " ...\n",
            "\n",
            " [[0.38362069]]\n",
            "\n",
            " [[0.38793103]]\n",
            "\n",
            " [[0.39655172]]]\n"
          ],
          "name": "stdout"
        }
      ]
    },
    {
      "metadata": {
        "id": "laL9TQidO4y2",
        "colab_type": "code",
        "colab": {},
        "outputId": "c5bd13a6-2be7-4fd8-f0a7-49bc9795d1e1"
      },
      "cell_type": "code",
      "source": [
        "from keras.layers import LSTM\n",
        "K.clear_session()\n",
        "model_lstm = Sequential()\n",
        "model_lstm.add(LSTM(7, input_shape=(1, X_train.shape[1]), activation='relu', kernel_initializer='lecun_uniform', return_sequences=False))\n",
        "model_lstm.add(Dense(1))\n",
        "model_lstm.compile(loss='mean_squared_error', optimizer='adam')\n",
        "early_stop = EarlyStopping(monitor='loss', patience=5, verbose=1)\n",
        "history_model_lstm = model_lstm.fit(X_tr_t, y_train, epochs=200, batch_size=1, verbose=1, shuffle=False, callbacks=[early_stop])\n",
        "\n",
        "y_pred_test_lstm = model_lstm.predict(X_tst_t)\n",
        "y_train_pred_lstm = model_lstm.predict(X_tr_t)\n",
        "print(\"The R2 score on the Train set is:\\t{:0.3f}\".format(r2_score(y_train, y_train_pred_lstm)))\n",
        "r2_train = r2_score(y_train, y_train_pred_lstm)\n",
        "print(\"The Adjusted R2 score on the Train set is:\\t{:0.3f}\\n\".format(adj_r2_score(r2_train, X_train.shape[0], X_train.shape[1])))\n",
        "print(\"The R2 score on the Test set is:\\t{:0.3f}\".format(r2_score(y_test, y_pred_test_lstm)))\n",
        "r2_test = r2_score(y_test, y_pred_test_lstm)\n",
        "print(\"The Adjusted R2 score on the Test set is:\\t{:0.3f}\".format(adj_r2_score(r2_test, X_test.shape[0], X_test.shape[1])))"
      ],
      "execution_count": 0,
      "outputs": [
        {
          "output_type": "stream",
          "text": [
            "Epoch 1/200\n",
            "1689/1689 [==============================] - 11s 6ms/step - loss: 0.0123\n",
            "Epoch 2/200\n",
            "1689/1689 [==============================] - 9s 5ms/step - loss: 0.0012\n",
            "Epoch 3/200\n",
            "1689/1689 [==============================] - 9s 5ms/step - loss: 9.8271e-04\n",
            "Epoch 4/200\n",
            "1689/1689 [==============================] - 9s 6ms/step - loss: 9.4336e-04\n",
            "Epoch 5/200\n",
            "1689/1689 [==============================] - 10s 6ms/step - loss: 9.3185e-04\n",
            "Epoch 6/200\n",
            "1689/1689 [==============================] - 9s 5ms/step - loss: 9.2672e-04\n",
            "Epoch 7/200\n",
            "1689/1689 [==============================] - 11s 6ms/step - loss: 9.2359e-04\n",
            "Epoch 8/200\n",
            "1689/1689 [==============================] - 11s 6ms/step - loss: 9.2125e-04\n",
            "Epoch 9/200\n",
            "1689/1689 [==============================] - 10s 6ms/step - loss: 9.1932e-04\n",
            "Epoch 10/200\n",
            "1689/1689 [==============================] - 10s 6ms/step - loss: 9.1763e-04\n",
            "Epoch 11/200\n",
            "1689/1689 [==============================] - 10s 6ms/step - loss: 9.1607e-04\n",
            "Epoch 12/200\n",
            "1689/1689 [==============================] - 10s 6ms/step - loss: 9.1461e-04\n",
            "Epoch 13/200\n",
            "1689/1689 [==============================] - 10s 6ms/step - loss: 9.1322e-04\n",
            "Epoch 14/200\n",
            "1689/1689 [==============================] - 10s 6ms/step - loss: 9.1191e-04\n",
            "Epoch 15/200\n",
            "1689/1689 [==============================] - 10s 6ms/step - loss: 9.1065e-04\n",
            "Epoch 16/200\n",
            "1689/1689 [==============================] - 11s 6ms/step - loss: 9.0950e-04\n",
            "Epoch 17/200\n",
            "1689/1689 [==============================] - 10s 6ms/step - loss: 9.0847e-04\n",
            "Epoch 18/200\n",
            "1689/1689 [==============================] - 10s 6ms/step - loss: 9.0744e-04\n",
            "Epoch 19/200\n",
            "1689/1689 [==============================] - 10s 6ms/step - loss: 9.0646e-04\n",
            "Epoch 20/200\n",
            "1689/1689 [==============================] - 9s 6ms/step - loss: 9.0552e-04\n",
            "Epoch 21/200\n",
            "1689/1689 [==============================] - 9s 5ms/step - loss: 9.0472e-04\n",
            "Epoch 22/200\n",
            "1689/1689 [==============================] - 8s 5ms/step - loss: 9.0389e-04\n",
            "Epoch 23/200\n",
            "1689/1689 [==============================] - 8s 5ms/step - loss: 9.0309e-04\n",
            "Epoch 24/200\n",
            "1689/1689 [==============================] - 9s 5ms/step - loss: 9.0231e-04\n",
            "Epoch 25/200\n",
            "1689/1689 [==============================] - 8s 5ms/step - loss: 9.0157e-04\n",
            "Epoch 26/200\n",
            "1689/1689 [==============================] - 11s 6ms/step - loss: 9.0086e-04\n",
            "Epoch 27/200\n",
            " 252/1689 [===>..........................] - ETA: 6s - loss: 0.0013"
          ],
          "name": "stdout"
        }
      ]
    },
    {
      "metadata": {
        "id": "x0GEmeJvO4y4",
        "colab_type": "code",
        "colab": {}
      },
      "cell_type": "code",
      "source": [
        ""
      ],
      "execution_count": 0,
      "outputs": []
    }
  ]
}