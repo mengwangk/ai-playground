{
 "cells": [
  {
   "cell_type": "markdown",
   "metadata": {},
   "source": [
    "# LSTM for Stock Prediction"
   ]
  },
  {
   "cell_type": "markdown",
   "metadata": {},
   "source": [
    "https://medium.com/@aniruddha.choudhury94/stock-market-prediction-by-recurrent-neural-network-on-lstm-model-56de700bff68"
   ]
  },
  {
   "cell_type": "code",
   "execution_count": 20,
   "metadata": {},
   "outputs": [],
   "source": [
    "# To support both python 2 and python 3\n",
    "from __future__ import division, print_function, unicode_literals\n",
    "\n",
    "# Common imports\n",
    "import numpy as np\n",
    "import os\n",
    "import pandas as pd\n",
    "\n",
    "# to make this notebook's output stable across runs\n",
    "def reset_graph(seed=42):\n",
    "    tf.reset_default_graph()\n",
    "    tf.set_random_seed(seed)\n",
    "    np.random.seed(seed)\n",
    "\n",
    "# To plot pretty figures\n",
    "%matplotlib inline\n",
    "import matplotlib\n",
    "import matplotlib.pyplot as plt\n",
    "plt.rcParams['axes.labelsize'] = 14\n",
    "plt.rcParams['xtick.labelsize'] = 12\n",
    "plt.rcParams['ytick.labelsize'] = 12\n",
    "\n",
    "# Where to save the figures\n",
    "PROJECT_ROOT_DIR = \".\"\n",
    "CHAPTER_ID = \"rnn\"\n",
    "\n",
    "def save_fig(fig_id, tight_layout=True):\n",
    "    path = os.path.join(PROJECT_ROOT_DIR, \"images\", CHAPTER_ID, fig_id + \".png\")\n",
    "    print(\"Saving figure\", fig_id)\n",
    "    if tight_layout:\n",
    "        plt.tight_layout()\n",
    "    plt.savefig(path, format='png', dpi=300)\n",
    "    \n",
    "# Ignore useless warnings (see SciPy issue #5998)\n",
    "import warnings\n",
    "warnings.filterwarnings(action=\"ignore\", module=\"scipy\", message=\"^internal gelsd\")\n",
    "\n",
    "from IPython.display import display\n",
    "pd.options.display.max_columns = 50\n",
    "pd.options.display.html.table_schema = True"
   ]
  },
  {
   "cell_type": "code",
   "execution_count": 45,
   "metadata": {},
   "outputs": [
    {
     "data": {
      "application/vnd.dataresource+json": {
       "data": [
        {
         "Close": 10.14,
         "Date": "2011-08-15T00:00:00.000Z",
         "High": 10.16,
         "Low": 10.08,
         "Open": 10.1,
         "Volume": 6490000
        },
        {
         "Close": 10.1,
         "Date": "2011-08-16T00:00:00.000Z",
         "High": 10.24,
         "Low": 10.02,
         "Open": 10.18,
         "Volume": 3160000
        },
        {
         "Close": 10.04,
         "Date": "2011-08-17T00:00:00.000Z",
         "High": 10.1,
         "Low": 10.02,
         "Open": 10.1,
         "Volume": 5410000
        },
        {
         "Close": 9.98,
         "Date": "2011-08-18T00:00:00.000Z",
         "High": 10.14,
         "Low": 9.97,
         "Open": 10.14,
         "Volume": 5350000
        },
        {
         "Close": 9.7,
         "Date": "2011-08-19T00:00:00.000Z",
         "High": 9.85,
         "Low": 9.65,
         "Open": 9.85,
         "Volume": 11570000
        },
        {
         "Close": 9.51,
         "Date": "2011-08-22T00:00:00.000Z",
         "High": 9.69,
         "Low": 9.49,
         "Open": 9.68,
         "Volume": 8520000
        },
        {
         "Close": 9.7,
         "Date": "2011-08-23T00:00:00.000Z",
         "High": 9.7,
         "Low": 9.4,
         "Open": 9.55,
         "Volume": 6520000
        },
        {
         "Close": 9.52,
         "Date": "2011-08-24T00:00:00.000Z",
         "High": 9.8,
         "Low": 9.52,
         "Open": 9.8,
         "Volume": 5090000
        },
        {
         "Close": 9.78,
         "Date": "2011-08-25T00:00:00.000Z",
         "High": 9.78,
         "Low": 9.54,
         "Open": 9.55,
         "Volume": 6120000
        },
        {
         "Close": 9.46,
         "Date": "2011-08-26T00:00:00.000Z",
         "High": 9.73,
         "Low": 9.43,
         "Open": 9.73,
         "Volume": 4560000
        }
       ],
       "schema": {
        "fields": [
         {
          "name": "Date",
          "type": "datetime"
         },
         {
          "name": "Close",
          "type": "number"
         },
         {
          "name": "Open",
          "type": "number"
         },
         {
          "name": "High",
          "type": "number"
         },
         {
          "name": "Low",
          "type": "number"
         },
         {
          "name": "Volume",
          "type": "number"
         }
        ],
        "pandas_version": "0.20.0",
        "primaryKey": [
         "Date"
        ]
       }
      },
      "text/html": [
       "<div>\n",
       "<style scoped>\n",
       "    .dataframe tbody tr th:only-of-type {\n",
       "        vertical-align: middle;\n",
       "    }\n",
       "\n",
       "    .dataframe tbody tr th {\n",
       "        vertical-align: top;\n",
       "    }\n",
       "\n",
       "    .dataframe thead th {\n",
       "        text-align: right;\n",
       "    }\n",
       "</style>\n",
       "<table border=\"1\" class=\"dataframe\">\n",
       "  <thead>\n",
       "    <tr style=\"text-align: right;\">\n",
       "      <th></th>\n",
       "      <th>Close</th>\n",
       "      <th>Open</th>\n",
       "      <th>High</th>\n",
       "      <th>Low</th>\n",
       "      <th>Volume</th>\n",
       "    </tr>\n",
       "    <tr>\n",
       "      <th>Date</th>\n",
       "      <th></th>\n",
       "      <th></th>\n",
       "      <th></th>\n",
       "      <th></th>\n",
       "      <th></th>\n",
       "    </tr>\n",
       "  </thead>\n",
       "  <tbody>\n",
       "    <tr>\n",
       "      <th>2011-08-15</th>\n",
       "      <td>10.14</td>\n",
       "      <td>10.10</td>\n",
       "      <td>10.16</td>\n",
       "      <td>10.08</td>\n",
       "      <td>6490000.0</td>\n",
       "    </tr>\n",
       "    <tr>\n",
       "      <th>2011-08-16</th>\n",
       "      <td>10.10</td>\n",
       "      <td>10.18</td>\n",
       "      <td>10.24</td>\n",
       "      <td>10.02</td>\n",
       "      <td>3160000.0</td>\n",
       "    </tr>\n",
       "    <tr>\n",
       "      <th>2011-08-17</th>\n",
       "      <td>10.04</td>\n",
       "      <td>10.10</td>\n",
       "      <td>10.10</td>\n",
       "      <td>10.02</td>\n",
       "      <td>5410000.0</td>\n",
       "    </tr>\n",
       "    <tr>\n",
       "      <th>2011-08-18</th>\n",
       "      <td>9.98</td>\n",
       "      <td>10.14</td>\n",
       "      <td>10.14</td>\n",
       "      <td>9.97</td>\n",
       "      <td>5350000.0</td>\n",
       "    </tr>\n",
       "    <tr>\n",
       "      <th>2011-08-19</th>\n",
       "      <td>9.70</td>\n",
       "      <td>9.85</td>\n",
       "      <td>9.85</td>\n",
       "      <td>9.65</td>\n",
       "      <td>11570000.0</td>\n",
       "    </tr>\n",
       "    <tr>\n",
       "      <th>2011-08-22</th>\n",
       "      <td>9.51</td>\n",
       "      <td>9.68</td>\n",
       "      <td>9.69</td>\n",
       "      <td>9.49</td>\n",
       "      <td>8520000.0</td>\n",
       "    </tr>\n",
       "    <tr>\n",
       "      <th>2011-08-23</th>\n",
       "      <td>9.70</td>\n",
       "      <td>9.55</td>\n",
       "      <td>9.70</td>\n",
       "      <td>9.40</td>\n",
       "      <td>6520000.0</td>\n",
       "    </tr>\n",
       "    <tr>\n",
       "      <th>2011-08-24</th>\n",
       "      <td>9.52</td>\n",
       "      <td>9.80</td>\n",
       "      <td>9.80</td>\n",
       "      <td>9.52</td>\n",
       "      <td>5090000.0</td>\n",
       "    </tr>\n",
       "    <tr>\n",
       "      <th>2011-08-25</th>\n",
       "      <td>9.78</td>\n",
       "      <td>9.55</td>\n",
       "      <td>9.78</td>\n",
       "      <td>9.54</td>\n",
       "      <td>6120000.0</td>\n",
       "    </tr>\n",
       "    <tr>\n",
       "      <th>2011-08-26</th>\n",
       "      <td>9.46</td>\n",
       "      <td>9.73</td>\n",
       "      <td>9.73</td>\n",
       "      <td>9.43</td>\n",
       "      <td>4560000.0</td>\n",
       "    </tr>\n",
       "  </tbody>\n",
       "</table>\n",
       "</div>"
      ],
      "text/plain": [
       "            Close   Open   High    Low      Volume\n",
       "Date                                              \n",
       "2011-08-15  10.14  10.10  10.16  10.08   6490000.0\n",
       "2011-08-16  10.10  10.18  10.24  10.02   3160000.0\n",
       "2011-08-17  10.04  10.10  10.10  10.02   5410000.0\n",
       "2011-08-18   9.98  10.14  10.14   9.97   5350000.0\n",
       "2011-08-19   9.70   9.85   9.85   9.65  11570000.0\n",
       "2011-08-22   9.51   9.68   9.69   9.49   8520000.0\n",
       "2011-08-23   9.70   9.55   9.70   9.40   6520000.0\n",
       "2011-08-24   9.52   9.80   9.80   9.52   5090000.0\n",
       "2011-08-25   9.78   9.55   9.78   9.54   6120000.0\n",
       "2011-08-26   9.46   9.73   9.73   9.43   4560000.0"
      ]
     },
     "execution_count": 45,
     "metadata": {},
     "output_type": "execute_result"
    }
   ],
   "source": [
    "UOM = {'K': 1000, 'M': 1000000}\n",
    "\n",
    "def convert_to_numeric(val):\n",
    "    return float(val[:-1]) * UOM[val[-1]]\n",
    "\n",
    "def clean_dataset(df):\n",
    "    df.rename(columns={'Price':'Close', 'Vol.':'Volume'}, inplace=True)\n",
    "    df.drop(columns=['Change %'], axis=1, inplace=True)\n",
    "    df['Date'] = pd.to_datetime(df['Date'])\n",
    "    df['Volume'] = df['Volume'].apply(convert_to_numeric)\n",
    "    df.sort_values(by=['Date'], ascending=True, inplace=True)\n",
    "    df.set_index('Date', inplace=True)\n",
    "\n",
    "dataset = pd.read_csv('data/GENTING_train_set.csv', parse_dates=True)\n",
    "clean_dataset(dataset)\n",
    "dataset.head(10)"
   ]
  },
  {
   "cell_type": "markdown",
   "metadata": {},
   "source": [
    "# Preprocessing"
   ]
  },
  {
   "cell_type": "code",
   "execution_count": 48,
   "metadata": {},
   "outputs": [
    {
     "data": {
      "application/vnd.dataresource+json": {
       "data": [
        {
         "index": "Close",
         "values": false
        },
        {
         "index": "Open",
         "values": false
        },
        {
         "index": "High",
         "values": false
        },
        {
         "index": "Low",
         "values": false
        },
        {
         "index": "Volume",
         "values": false
        }
       ],
       "schema": {
        "fields": [
         {
          "name": "index",
          "type": "string"
         },
         {
          "name": "values",
          "type": "boolean"
         }
        ],
        "pandas_version": "0.20.0",
        "primaryKey": [
         "index"
        ]
       }
      },
      "text/plain": [
       "Close     False\n",
       "Open      False\n",
       "High      False\n",
       "Low       False\n",
       "Volume    False\n",
       "dtype: bool"
      ]
     },
     "execution_count": 48,
     "metadata": {},
     "output_type": "execute_result"
    }
   ],
   "source": [
    "dataset.isna().any()"
   ]
  },
  {
   "cell_type": "code",
   "execution_count": 49,
   "metadata": {},
   "outputs": [
    {
     "name": "stdout",
     "output_type": "stream",
     "text": [
      "<class 'pandas.core.frame.DataFrame'>\n",
      "DatetimeIndex: 1768 entries, 2011-08-15 to 2018-10-31\n",
      "Data columns (total 5 columns):\n",
      "Close     1768 non-null float64\n",
      "Open      1768 non-null float64\n",
      "High      1768 non-null float64\n",
      "Low       1768 non-null float64\n",
      "Volume    1768 non-null float64\n",
      "dtypes: float64(5)\n",
      "memory usage: 82.9 KB\n"
     ]
    }
   ],
   "source": [
    "dataset.info()"
   ]
  },
  {
   "cell_type": "code",
   "execution_count": 50,
   "metadata": {},
   "outputs": [
    {
     "data": {
      "text/plain": [
       "<matplotlib.axes._subplots.AxesSubplot at 0x1a251979e8>"
      ]
     },
     "execution_count": 50,
     "metadata": {},
     "output_type": "execute_result"
    },
    {
     "data": {
      "image/png": "[encoded data removed]",
      "text/plain": [
       "<Figure size 1152x432 with 1 Axes>"
      ]
     },
     "metadata": {
      "needs_background": "light"
     },
     "output_type": "display_data"
    }
   ],
   "source": [
    "dataset['Open'].plot(figsize=(16,6))"
   ]
  },
  {
   "cell_type": "code",
   "execution_count": 52,
   "metadata": {},
   "outputs": [],
   "source": [
    "# convert column \"a\" of a DataFrame\n",
    "# dataset[\"Close\"] = dataset[\"Close\"].str.replace(',', '').astype(float)"
   ]
  },
  {
   "cell_type": "code",
   "execution_count": 53,
   "metadata": {},
   "outputs": [
    {
     "data": {
      "application/vnd.dataresource+json": {
       "data": [
        {
         "Close": null,
         "Date": "2011-08-15T00:00:00.000Z",
         "High": null,
         "Low": null,
         "Open": null,
         "Volume": null
        },
        {
         "Close": null,
         "Date": "2011-08-16T00:00:00.000Z",
         "High": null,
         "Low": null,
         "Open": null,
         "Volume": null
        },
        {
         "Close": null,
         "Date": "2011-08-17T00:00:00.000Z",
         "High": null,
         "Low": null,
         "Open": null,
         "Volume": null
        },
        {
         "Close": null,
         "Date": "2011-08-18T00:00:00.000Z",
         "High": null,
         "Low": null,
         "Open": null,
         "Volume": null
        },
        {
         "Close": null,
         "Date": "2011-08-19T00:00:00.000Z",
         "High": null,
         "Low": null,
         "Open": null,
         "Volume": null
        },
        {
         "Close": null,
         "Date": "2011-08-22T00:00:00.000Z",
         "High": null,
         "Low": null,
         "Open": null,
         "Volume": null
        },
        {
         "Close": 9.8814285714,
         "Date": "2011-08-23T00:00:00.000Z",
         "High": 9.9828571429,
         "Low": 9.8042857143,
         "Open": 9.9428571429,
         "Volume": 6717142.857142857
        },
        {
         "Close": 9.7928571429,
         "Date": "2011-08-24T00:00:00.000Z",
         "High": 9.9314285714,
         "Low": 9.7242857143,
         "Open": 9.9,
         "Volume": 6517142.857142857
        },
        {
         "Close": 9.7471428571,
         "Date": "2011-08-25T00:00:00.000Z",
         "High": 9.8657142857,
         "Low": 9.6557142857,
         "Open": 9.81,
         "Volume": 6940000
        },
        {
         "Close": 9.6642857143,
         "Date": "2011-08-26T00:00:00.000Z",
         "High": 9.8128571429,
         "Low": 9.5714285714,
         "Open": 9.7571428571,
         "Volume": 6818571.428571428
        },
        {
         "Close": 9.5842857143,
         "Date": "2011-08-29T00:00:00.000Z",
         "High": 9.74,
         "Low": 9.4928571429,
         "Open": 9.6728571429,
         "Volume": 6507142.857142857
        },
        {
         "Close": 9.5771428571,
         "Date": "2011-09-02T00:00:00.000Z",
         "High": 9.7114285714,
         "Low": 9.4757142857,
         "Open": 9.6357142857,
         "Volume": 6534285.714285715
        },
        {
         "Close": 9.5714285714,
         "Date": "2011-09-05T00:00:00.000Z",
         "High": 9.6928571429,
         "Low": 9.4685714286,
         "Open": 9.6185714286,
         "Volume": 6110000
        },
        {
         "Close": 9.55,
         "Date": "2011-09-06T00:00:00.000Z",
         "High": 9.6885714286,
         "Low": 9.4685714286,
         "Open": 9.5985714286,
         "Volume": 6217142.857142857
        },
        {
         "Close": 9.5828571429,
         "Date": "2011-09-07T00:00:00.000Z",
         "High": 9.6871428571,
         "Low": 9.4757142857,
         "Open": 9.5657142857,
         "Volume": 6234285.714285715
        },
        {
         "Close": 9.5914285714,
         "Date": "2011-09-08T00:00:00.000Z",
         "High": 9.6957142857,
         "Low": 9.5,
         "Open": 9.5957142857,
         "Volume": 5885714.285714285
        },
        {
         "Close": 9.6357142857,
         "Date": "2011-09-09T00:00:00.000Z",
         "High": 9.7128571429,
         "Low": 9.5242857143,
         "Open": 9.6114285714,
         "Volume": 5580000
        },
        {
         "Close": 9.6428571429,
         "Date": "2011-09-12T00:00:00.000Z",
         "High": 9.72,
         "Low": 9.5314285714,
         "Open": 9.6185714286,
         "Volume": 5644285.714285715
        },
        {
         "Close": 9.6357142857,
         "Date": "2011-09-13T00:00:00.000Z",
         "High": 9.7185714286,
         "Low": 9.5271428571,
         "Open": 9.6071428571,
         "Volume": 4815714.285714285
        },
        {
         "Close": 9.6314285714,
         "Date": "2011-09-14T00:00:00.000Z",
         "High": 9.74,
         "Low": 9.5214285714,
         "Open": 9.6242857143,
         "Volume": 4871428.571428572
        }
       ],
       "schema": {
        "fields": [
         {
          "name": "Date",
          "type": "datetime"
         },
         {
          "name": "Close",
          "type": "number"
         },
         {
          "name": "Open",
          "type": "number"
         },
         {
          "name": "High",
          "type": "number"
         },
         {
          "name": "Low",
          "type": "number"
         },
         {
          "name": "Volume",
          "type": "number"
         }
        ],
        "pandas_version": "0.20.0",
        "primaryKey": [
         "Date"
        ]
       }
      },
      "text/html": [
       "<div>\n",
       "<style scoped>\n",
       "    .dataframe tbody tr th:only-of-type {\n",
       "        vertical-align: middle;\n",
       "    }\n",
       "\n",
       "    .dataframe tbody tr th {\n",
       "        vertical-align: top;\n",
       "    }\n",
       "\n",
       "    .dataframe thead th {\n",
       "        text-align: right;\n",
       "    }\n",
       "</style>\n",
       "<table border=\"1\" class=\"dataframe\">\n",
       "  <thead>\n",
       "    <tr style=\"text-align: right;\">\n",
       "      <th></th>\n",
       "      <th>Close</th>\n",
       "      <th>Open</th>\n",
       "      <th>High</th>\n",
       "      <th>Low</th>\n",
       "      <th>Volume</th>\n",
       "    </tr>\n",
       "    <tr>\n",
       "      <th>Date</th>\n",
       "      <th></th>\n",
       "      <th></th>\n",
       "      <th></th>\n",
       "      <th></th>\n",
       "      <th></th>\n",
       "    </tr>\n",
       "  </thead>\n",
       "  <tbody>\n",
       "    <tr>\n",
       "      <th>2011-08-15</th>\n",
       "      <td>NaN</td>\n",
       "      <td>NaN</td>\n",
       "      <td>NaN</td>\n",
       "      <td>NaN</td>\n",
       "      <td>NaN</td>\n",
       "    </tr>\n",
       "    <tr>\n",
       "      <th>2011-08-16</th>\n",
       "      <td>NaN</td>\n",
       "      <td>NaN</td>\n",
       "      <td>NaN</td>\n",
       "      <td>NaN</td>\n",
       "      <td>NaN</td>\n",
       "    </tr>\n",
       "    <tr>\n",
       "      <th>2011-08-17</th>\n",
       "      <td>NaN</td>\n",
       "      <td>NaN</td>\n",
       "      <td>NaN</td>\n",
       "      <td>NaN</td>\n",
       "      <td>NaN</td>\n",
       "    </tr>\n",
       "    <tr>\n",
       "      <th>2011-08-18</th>\n",
       "      <td>NaN</td>\n",
       "      <td>NaN</td>\n",
       "      <td>NaN</td>\n",
       "      <td>NaN</td>\n",
       "      <td>NaN</td>\n",
       "    </tr>\n",
       "    <tr>\n",
       "      <th>2011-08-19</th>\n",
       "      <td>NaN</td>\n",
       "      <td>NaN</td>\n",
       "      <td>NaN</td>\n",
       "      <td>NaN</td>\n",
       "      <td>NaN</td>\n",
       "    </tr>\n",
       "    <tr>\n",
       "      <th>2011-08-22</th>\n",
       "      <td>NaN</td>\n",
       "      <td>NaN</td>\n",
       "      <td>NaN</td>\n",
       "      <td>NaN</td>\n",
       "      <td>NaN</td>\n",
       "    </tr>\n",
       "    <tr>\n",
       "      <th>2011-08-23</th>\n",
       "      <td>9.881429</td>\n",
       "      <td>9.942857</td>\n",
       "      <td>9.982857</td>\n",
       "      <td>9.804286</td>\n",
       "      <td>6.717143e+06</td>\n",
       "    </tr>\n",
       "    <tr>\n",
       "      <th>2011-08-24</th>\n",
       "      <td>9.792857</td>\n",
       "      <td>9.900000</td>\n",
       "      <td>9.931429</td>\n",
       "      <td>9.724286</td>\n",
       "      <td>6.517143e+06</td>\n",
       "    </tr>\n",
       "    <tr>\n",
       "      <th>2011-08-25</th>\n",
       "      <td>9.747143</td>\n",
       "      <td>9.810000</td>\n",
       "      <td>9.865714</td>\n",
       "      <td>9.655714</td>\n",
       "      <td>6.940000e+06</td>\n",
       "    </tr>\n",
       "    <tr>\n",
       "      <th>2011-08-26</th>\n",
       "      <td>9.664286</td>\n",
       "      <td>9.757143</td>\n",
       "      <td>9.812857</td>\n",
       "      <td>9.571429</td>\n",
       "      <td>6.818571e+06</td>\n",
       "    </tr>\n",
       "    <tr>\n",
       "      <th>2011-08-29</th>\n",
       "      <td>9.584286</td>\n",
       "      <td>9.672857</td>\n",
       "      <td>9.740000</td>\n",
       "      <td>9.492857</td>\n",
       "      <td>6.507143e+06</td>\n",
       "    </tr>\n",
       "    <tr>\n",
       "      <th>2011-09-02</th>\n",
       "      <td>9.577143</td>\n",
       "      <td>9.635714</td>\n",
       "      <td>9.711429</td>\n",
       "      <td>9.475714</td>\n",
       "      <td>6.534286e+06</td>\n",
       "    </tr>\n",
       "    <tr>\n",
       "      <th>2011-09-05</th>\n",
       "      <td>9.571429</td>\n",
       "      <td>9.618571</td>\n",
       "      <td>9.692857</td>\n",
       "      <td>9.468571</td>\n",
       "      <td>6.110000e+06</td>\n",
       "    </tr>\n",
       "    <tr>\n",
       "      <th>2011-09-06</th>\n",
       "      <td>9.550000</td>\n",
       "      <td>9.598571</td>\n",
       "      <td>9.688571</td>\n",
       "      <td>9.468571</td>\n",
       "      <td>6.217143e+06</td>\n",
       "    </tr>\n",
       "    <tr>\n",
       "      <th>2011-09-07</th>\n",
       "      <td>9.582857</td>\n",
       "      <td>9.565714</td>\n",
       "      <td>9.687143</td>\n",
       "      <td>9.475714</td>\n",
       "      <td>6.234286e+06</td>\n",
       "    </tr>\n",
       "    <tr>\n",
       "      <th>2011-09-08</th>\n",
       "      <td>9.591429</td>\n",
       "      <td>9.595714</td>\n",
       "      <td>9.695714</td>\n",
       "      <td>9.500000</td>\n",
       "      <td>5.885714e+06</td>\n",
       "    </tr>\n",
       "    <tr>\n",
       "      <th>2011-09-09</th>\n",
       "      <td>9.635714</td>\n",
       "      <td>9.611429</td>\n",
       "      <td>9.712857</td>\n",
       "      <td>9.524286</td>\n",
       "      <td>5.580000e+06</td>\n",
       "    </tr>\n",
       "    <tr>\n",
       "      <th>2011-09-12</th>\n",
       "      <td>9.642857</td>\n",
       "      <td>9.618571</td>\n",
       "      <td>9.720000</td>\n",
       "      <td>9.531429</td>\n",
       "      <td>5.644286e+06</td>\n",
       "    </tr>\n",
       "    <tr>\n",
       "      <th>2011-09-13</th>\n",
       "      <td>9.635714</td>\n",
       "      <td>9.607143</td>\n",
       "      <td>9.718571</td>\n",
       "      <td>9.527143</td>\n",
       "      <td>4.815714e+06</td>\n",
       "    </tr>\n",
       "    <tr>\n",
       "      <th>2011-09-14</th>\n",
       "      <td>9.631429</td>\n",
       "      <td>9.624286</td>\n",
       "      <td>9.740000</td>\n",
       "      <td>9.521429</td>\n",
       "      <td>4.871429e+06</td>\n",
       "    </tr>\n",
       "  </tbody>\n",
       "</table>\n",
       "</div>"
      ],
      "text/plain": [
       "               Close      Open      High       Low        Volume\n",
       "Date                                                            \n",
       "2011-08-15       NaN       NaN       NaN       NaN           NaN\n",
       "2011-08-16       NaN       NaN       NaN       NaN           NaN\n",
       "2011-08-17       NaN       NaN       NaN       NaN           NaN\n",
       "2011-08-18       NaN       NaN       NaN       NaN           NaN\n",
       "2011-08-19       NaN       NaN       NaN       NaN           NaN\n",
       "2011-08-22       NaN       NaN       NaN       NaN           NaN\n",
       "2011-08-23  9.881429  9.942857  9.982857  9.804286  6.717143e+06\n",
       "2011-08-24  9.792857  9.900000  9.931429  9.724286  6.517143e+06\n",
       "2011-08-25  9.747143  9.810000  9.865714  9.655714  6.940000e+06\n",
       "2011-08-26  9.664286  9.757143  9.812857  9.571429  6.818571e+06\n",
       "2011-08-29  9.584286  9.672857  9.740000  9.492857  6.507143e+06\n",
       "2011-09-02  9.577143  9.635714  9.711429  9.475714  6.534286e+06\n",
       "2011-09-05  9.571429  9.618571  9.692857  9.468571  6.110000e+06\n",
       "2011-09-06  9.550000  9.598571  9.688571  9.468571  6.217143e+06\n",
       "2011-09-07  9.582857  9.565714  9.687143  9.475714  6.234286e+06\n",
       "2011-09-08  9.591429  9.595714  9.695714  9.500000  5.885714e+06\n",
       "2011-09-09  9.635714  9.611429  9.712857  9.524286  5.580000e+06\n",
       "2011-09-12  9.642857  9.618571  9.720000  9.531429  5.644286e+06\n",
       "2011-09-13  9.635714  9.607143  9.718571  9.527143  4.815714e+06\n",
       "2011-09-14  9.631429  9.624286  9.740000  9.521429  4.871429e+06"
      ]
     },
     "execution_count": 53,
     "metadata": {},
     "output_type": "execute_result"
    }
   ],
   "source": [
    "# 7 day rolling mean\n",
    "dataset.rolling(7).mean().head(20)"
   ]
  },
  {
   "cell_type": "code",
   "execution_count": null,
   "metadata": {},
   "outputs": [],
   "source": []
  }
 ],
 "metadata": {
  "kernelspec": {
   "display_name": "Python 3",
   "language": "python",
   "name": "python3"
  },
  "language_info": {
   "codemirror_mode": {
    "name": "ipython",
    "version": 3
   },
   "file_extension": ".py",
   "mimetype": "text/x-python",
   "name": "python",
   "nbconvert_exporter": "python",
   "pygments_lexer": "ipython3",
   "version": "3.7.0"
  }
 },
 "nbformat": 4,
 "nbformat_minor": 2
}
