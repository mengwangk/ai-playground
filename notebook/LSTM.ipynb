{
 "cells": [
  {
   "cell_type": "markdown",
   "metadata": {},
   "source": [
    "# LSTM for Stock Prediction"
   ]
  },
  {
   "cell_type": "markdown",
   "metadata": {},
   "source": [
    "https://medium.com/@aniruddha.choudhury94/stock-market-prediction-by-recurrent-neural-network-on-lstm-model-56de700bff68"
   ]
  },
  {
   "cell_type": "code",
   "execution_count": 4,
   "metadata": {},
   "outputs": [],
   "source": [
    "# To support both python 2 and python 3\n",
    "from __future__ import division, print_function, unicode_literals\n",
    "\n",
    "# Common imports\n",
    "import numpy as np\n",
    "import os\n",
    "import pandas as pd\n",
    "\n",
    "# to make this notebook's output stable across runs\n",
    "def reset_graph(seed=42):\n",
    "    tf.reset_default_graph()\n",
    "    tf.set_random_seed(seed)\n",
    "    np.random.seed(seed)\n",
    "\n",
    "# To plot pretty figures\n",
    "%matplotlib inline\n",
    "import matplotlib\n",
    "import matplotlib.pyplot as plt\n",
    "plt.rcParams['axes.labelsize'] = 14\n",
    "plt.rcParams['xtick.labelsize'] = 12\n",
    "plt.rcParams['ytick.labelsize'] = 12\n",
    "\n",
    "# Where to save the figures\n",
    "PROJECT_ROOT_DIR = \".\"\n",
    "CHAPTER_ID = \"rnn\"\n",
    "\n",
    "def save_fig(fig_id, tight_layout=True):\n",
    "    path = os.path.join(PROJECT_ROOT_DIR, \"images\", CHAPTER_ID, fig_id + \".png\")\n",
    "    print(\"Saving figure\", fig_id)\n",
    "    if tight_layout:\n",
    "        plt.tight_layout()\n",
    "    plt.savefig(path, format='png', dpi=300)"
   ]
  },
  {
   "cell_type": "code",
   "execution_count": 5,
   "metadata": {},
   "outputs": [],
   "source": [
    "dataset = pd.read_csv('data/GENTING_historical_prices.csv',index_col=\"Date\",parse_dates=True)"
   ]
  },
  {
   "cell_type": "code",
   "execution_count": 6,
   "metadata": {},
   "outputs": [
    {
     "name": "stdout",
     "output_type": "stream",
     "text": [
      "            Price   Open   High    Low    Vol. Change %\n",
      "Date                                                   \n",
      "2019-01-18   6.79   6.83   6.89   6.75  10.25M   -0.44%\n",
      "2019-01-17   6.82   6.47   6.84   6.47  12.36M    6.23%\n",
      "2019-01-16   6.42   6.48   6.50   6.38   6.92M   -0.47%\n",
      "2019-01-15   6.45   6.39   6.48   6.38   4.39M    1.10%\n",
      "2019-01-14   6.38   6.45   6.49   6.31   3.68M   -1.09%\n",
      "2019-01-11   6.45   6.43   6.45   6.36   2.73M    0.78%\n",
      "2019-01-10   6.40   6.47   6.48   6.25   4.06M   -0.16%\n",
      "2019-01-09   6.41   6.34   6.44   6.25   5.76M    1.58%\n",
      "2019-01-08   6.31   6.09   6.34   6.07   5.10M    4.13%\n",
      "2019-01-07   6.06   5.95   6.08   5.95   4.65M    2.19%\n",
      "2019-01-04   5.93   5.96   5.97   5.91   8.62M   -0.50%\n",
      "2019-01-03   5.96   6.00   6.06   5.95   3.51M   -0.67%\n",
      "2019-01-02   6.00   6.12   6.12   6.00   4.34M   -1.64%\n",
      "2018-12-31   6.10   6.12   6.14   6.08   3.11M    0.66%\n",
      "2018-12-28   6.06   6.10   6.10   6.04   2.45M   -0.49%\n",
      "2018-12-27   6.09   6.07   6.13   6.04   2.62M    1.16%\n",
      "2018-12-26   6.02   6.17   6.17   6.02   3.30M   -3.37%\n",
      "2018-12-24   6.23   6.20   6.33   6.17   2.24M   -0.64%\n",
      "2018-12-21   6.27   6.19   6.29   6.10   5.57M    0.64%\n",
      "2018-12-20   6.23   6.21   6.32   6.18   4.52M   -1.58%\n",
      "2018-12-19   6.33   6.05   6.35   6.03   8.36M    4.98%\n",
      "2018-12-18   6.03   6.00   6.05   5.95   6.07M   -0.17%\n",
      "2018-12-17   6.04   6.04   6.13   6.01   6.40M   -0.49%\n",
      "2018-12-14   6.07   6.02   6.07   5.98   6.08M    0.83%\n",
      "2018-12-13   6.02   6.05   6.06   5.99   6.58M    0.33%\n",
      "2018-12-12   6.00   5.96   6.07   5.93   9.10M    1.18%\n",
      "2018-12-11   5.93   6.04   6.11   5.91   9.36M   -1.98%\n",
      "2018-12-10   6.05   6.25   6.26   6.05   7.23M   -3.35%\n",
      "2018-12-07   6.26   6.28   6.35   6.26   5.85M   -0.32%\n",
      "2018-12-06   6.28   6.30   6.37   6.26   7.24M   -1.87%\n",
      "...           ...    ...    ...    ...     ...      ...\n",
      "2011-09-29   9.33   8.90   9.33   8.86   4.35M    4.13%\n",
      "2011-09-28   8.96   9.00   9.05   8.86   6.14M    0.11%\n",
      "2011-09-27   8.95   8.62   9.01   8.62   9.96M    4.80%\n",
      "2011-09-26   8.54   8.58   8.63   8.37   8.72M   -0.81%\n",
      "2011-09-23   8.61   8.60   8.82   8.51  12.91M   -2.16%\n",
      "2011-09-22   8.80   9.21   9.23   8.80  11.78M   -5.38%\n",
      "2011-09-21   9.30   9.34   9.39   9.28   3.51M    0.00%\n",
      "2011-09-20   9.30   9.44   9.48   9.28   4.06M   -2.00%\n",
      "2011-09-19   9.49   9.53   9.57   9.42   3.39M   -0.11%\n",
      "2011-09-15   9.50   9.50   9.62   9.44   5.40M    0.64%\n",
      "2011-09-14   9.44   9.68   9.71   9.40   5.94M   -1.67%\n",
      "2011-09-13   9.60   9.51   9.64   9.50   5.96M    1.37%\n",
      "2011-09-12   9.47   9.60   9.68   9.47   3.62M   -3.07%\n",
      "2011-09-09   9.77   9.84   9.85   9.60   2.42M   -0.71%\n",
      "2011-09-08   9.84   9.76   9.84   9.71   3.68M    0.92%\n",
      "2011-09-07   9.75   9.57   9.79   9.57   5.21M    2.09%\n",
      "2011-09-06   9.55   9.41   9.67   9.40   7.27M    0.84%\n",
      "2011-09-05   9.47   9.56   9.56   9.44   5.55M   -1.87%\n",
      "2011-09-02   9.65   9.59   9.65   9.53  11.76M    2.44%\n",
      "2011-08-29   9.42   9.55   9.63   9.42   3.17M   -0.42%\n",
      "2011-08-26   9.46   9.73   9.73   9.43   4.56M   -3.27%\n",
      "2011-08-25   9.78   9.55   9.78   9.54   6.12M    2.73%\n",
      "2011-08-24   9.52   9.80   9.80   9.52   5.09M   -1.86%\n",
      "2011-08-23   9.70   9.55   9.70   9.40   6.52M    2.00%\n",
      "2011-08-22   9.51   9.68   9.69   9.49   8.52M   -1.96%\n",
      "2011-08-19   9.70   9.85   9.85   9.65  11.57M   -2.81%\n",
      "2011-08-18   9.98  10.14  10.14   9.97   5.35M   -0.60%\n",
      "2011-08-17  10.04  10.10  10.10  10.02   5.41M   -0.59%\n",
      "2011-08-16  10.10  10.18  10.24  10.02   3.16M   -0.39%\n",
      "2011-08-15  10.14  10.10  10.16  10.08   6.49M    0.80%\n",
      "\n",
      "[1821 rows x 6 columns]\n"
     ]
    }
   ],
   "source": []
  },
  {
   "cell_type": "code",
   "execution_count": null,
   "metadata": {},
   "outputs": [],
   "source": []
  }
 ],
 "metadata": {
  "kernelspec": {
   "display_name": "Python 3",
   "language": "python",
   "name": "python3"
  },
  "language_info": {
   "codemirror_mode": {
    "name": "ipython",
    "version": 3
   },
   "file_extension": ".py",
   "mimetype": "text/x-python",
   "name": "python",
   "nbconvert_exporter": "python",
   "pygments_lexer": "ipython3",
   "version": "3.7.0"
  }
 },
 "nbformat": 4,
 "nbformat_minor": 2
}
